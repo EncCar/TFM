{
 "cells": [
  {
   "cell_type": "markdown",
   "metadata": {},
   "source": [
    "# Procedimiento para seleccionar todas las cargas de 2022"
   ]
  },
  {
   "cell_type": "code",
   "execution_count": 1,
   "metadata": {},
   "outputs": [],
   "source": [
    "# Import Packages\n",
    "import pandas as pd\n",
    "import numpy as np\n",
    "import seaborn as sns\n",
    "import os \n",
    "import openpyxl"
   ]
  },
  {
   "cell_type": "code",
   "execution_count": 2,
   "metadata": {},
   "outputs": [
    {
     "data": {
      "text/html": [
       "<div>\n",
       "<style scoped>\n",
       "    .dataframe tbody tr th:only-of-type {\n",
       "        vertical-align: middle;\n",
       "    }\n",
       "\n",
       "    .dataframe tbody tr th {\n",
       "        vertical-align: top;\n",
       "    }\n",
       "\n",
       "    .dataframe thead th {\n",
       "        text-align: right;\n",
       "    }\n",
       "</style>\n",
       "<table border=\"1\" class=\"dataframe\">\n",
       "  <thead>\n",
       "    <tr style=\"text-align: right;\">\n",
       "      <th></th>\n",
       "      <th>Unnamed: 0</th>\n",
       "      <th>Autoridad Portuaria</th>\n",
       "      <th>Enero_2022 t Graneles Líquidos</th>\n",
       "      <th>Enero_2023 t Graneles Líquidos</th>\n",
       "      <th>Enero_2022 t Graneles Sólidos</th>\n",
       "      <th>Enero_2023 t Graneles Sólidos</th>\n",
       "      <th>Enero_2022 t Mercancía General</th>\n",
       "      <th>Enero_2023 t Mercancía General</th>\n",
       "      <th>Enero_2022 t Mercancía General Contenedores</th>\n",
       "      <th>Enero_2023 t Mercancía General Contenedores</th>\n",
       "      <th>...</th>\n",
       "      <th>Diciembre_2022 Pasajeros En Régimen De Transporte Y De Crucero</th>\n",
       "      <th>Diciembre_2023 Pasajeros En Régimen De Transporte Y De Crucero</th>\n",
       "      <th>Diciembre_2022 Pasajeros En Régimen De Transporte</th>\n",
       "      <th>Diciembre_2023 Pasajeros En Régimen De Transporte</th>\n",
       "      <th>Diciembre_2022 Pasajeros De Crucero</th>\n",
       "      <th>Diciembre_2023 Pasajeros De Crucero</th>\n",
       "      <th>Diciembre_2022 Automóviles En Régimen De Pasaje</th>\n",
       "      <th>Diciembre_2023 Automóviles En Régimen De Pasaje</th>\n",
       "      <th>Diciembre_2022 Automóviles En Régimen De Mercancía</th>\n",
       "      <th>Diciembre_2023 Automóviles En Régimen De Mercancía</th>\n",
       "    </tr>\n",
       "  </thead>\n",
       "  <tbody>\n",
       "    <tr>\n",
       "      <th>0</th>\n",
       "      <td>0</td>\n",
       "      <td>A Coruña</td>\n",
       "      <td>623294</td>\n",
       "      <td>676655</td>\n",
       "      <td>464559</td>\n",
       "      <td>521447</td>\n",
       "      <td>79616</td>\n",
       "      <td>40997</td>\n",
       "      <td>0</td>\n",
       "      <td>66</td>\n",
       "      <td>...</td>\n",
       "      <td>10397</td>\n",
       "      <td>3924</td>\n",
       "      <td>0</td>\n",
       "      <td>0</td>\n",
       "      <td>10397</td>\n",
       "      <td>3924</td>\n",
       "      <td>0</td>\n",
       "      <td>0</td>\n",
       "      <td>0</td>\n",
       "      <td>0</td>\n",
       "    </tr>\n",
       "    <tr>\n",
       "      <th>1</th>\n",
       "      <td>1</td>\n",
       "      <td>Alicante</td>\n",
       "      <td>0</td>\n",
       "      <td>5453</td>\n",
       "      <td>119575</td>\n",
       "      <td>191759</td>\n",
       "      <td>104040</td>\n",
       "      <td>96204</td>\n",
       "      <td>97163</td>\n",
       "      <td>89345</td>\n",
       "      <td>...</td>\n",
       "      <td>14007</td>\n",
       "      <td>11659</td>\n",
       "      <td>7357</td>\n",
       "      <td>6558</td>\n",
       "      <td>6650</td>\n",
       "      <td>5101</td>\n",
       "      <td>2308</td>\n",
       "      <td>1521</td>\n",
       "      <td>1110</td>\n",
       "      <td>168</td>\n",
       "    </tr>\n",
       "    <tr>\n",
       "      <th>2</th>\n",
       "      <td>2</td>\n",
       "      <td>Almería</td>\n",
       "      <td>7512</td>\n",
       "      <td>4538</td>\n",
       "      <td>266992</td>\n",
       "      <td>299084</td>\n",
       "      <td>134447</td>\n",
       "      <td>74717</td>\n",
       "      <td>35899</td>\n",
       "      <td>11672</td>\n",
       "      <td>...</td>\n",
       "      <td>37988</td>\n",
       "      <td>45490</td>\n",
       "      <td>37988</td>\n",
       "      <td>45490</td>\n",
       "      <td>0</td>\n",
       "      <td>0</td>\n",
       "      <td>10991</td>\n",
       "      <td>12802</td>\n",
       "      <td>162</td>\n",
       "      <td>283</td>\n",
       "    </tr>\n",
       "    <tr>\n",
       "      <th>3</th>\n",
       "      <td>3</td>\n",
       "      <td>Avilés</td>\n",
       "      <td>74703</td>\n",
       "      <td>55417</td>\n",
       "      <td>189219</td>\n",
       "      <td>266336</td>\n",
       "      <td>97892</td>\n",
       "      <td>91717</td>\n",
       "      <td>0</td>\n",
       "      <td>0</td>\n",
       "      <td>...</td>\n",
       "      <td>0</td>\n",
       "      <td>0</td>\n",
       "      <td>0</td>\n",
       "      <td>0</td>\n",
       "      <td>0</td>\n",
       "      <td>0</td>\n",
       "      <td>0</td>\n",
       "      <td>0</td>\n",
       "      <td>0</td>\n",
       "      <td>0</td>\n",
       "    </tr>\n",
       "    <tr>\n",
       "      <th>4</th>\n",
       "      <td>4</td>\n",
       "      <td>Bahía de Algeciras</td>\n",
       "      <td>2268541</td>\n",
       "      <td>2380167</td>\n",
       "      <td>207212</td>\n",
       "      <td>31659</td>\n",
       "      <td>6062831</td>\n",
       "      <td>5747403</td>\n",
       "      <td>4742267</td>\n",
       "      <td>4544493</td>\n",
       "      <td>...</td>\n",
       "      <td>321572</td>\n",
       "      <td>376001</td>\n",
       "      <td>321572</td>\n",
       "      <td>376001</td>\n",
       "      <td>0</td>\n",
       "      <td>0</td>\n",
       "      <td>68462</td>\n",
       "      <td>81739</td>\n",
       "      <td>224</td>\n",
       "      <td>345</td>\n",
       "    </tr>\n",
       "    <tr>\n",
       "      <th>5</th>\n",
       "      <td>5</td>\n",
       "      <td>Bahía de Cádiz</td>\n",
       "      <td>80953</td>\n",
       "      <td>163563</td>\n",
       "      <td>186763</td>\n",
       "      <td>137032</td>\n",
       "      <td>206041</td>\n",
       "      <td>166825</td>\n",
       "      <td>157740</td>\n",
       "      <td>115728</td>\n",
       "      <td>...</td>\n",
       "      <td>26140</td>\n",
       "      <td>44352</td>\n",
       "      <td>1506</td>\n",
       "      <td>1455</td>\n",
       "      <td>24634</td>\n",
       "      <td>42897</td>\n",
       "      <td>914</td>\n",
       "      <td>850</td>\n",
       "      <td>864</td>\n",
       "      <td>1349</td>\n",
       "    </tr>\n",
       "    <tr>\n",
       "      <th>6</th>\n",
       "      <td>6</td>\n",
       "      <td>Baleares</td>\n",
       "      <td>89870</td>\n",
       "      <td>71491</td>\n",
       "      <td>25887</td>\n",
       "      <td>43279</td>\n",
       "      <td>824339</td>\n",
       "      <td>884058</td>\n",
       "      <td>25202</td>\n",
       "      <td>21952</td>\n",
       "      <td>...</td>\n",
       "      <td>344333</td>\n",
       "      <td>355384</td>\n",
       "      <td>282570</td>\n",
       "      <td>303547</td>\n",
       "      <td>61763</td>\n",
       "      <td>51837</td>\n",
       "      <td>66218</td>\n",
       "      <td>75901</td>\n",
       "      <td>7106</td>\n",
       "      <td>6359</td>\n",
       "    </tr>\n",
       "    <tr>\n",
       "      <th>7</th>\n",
       "      <td>7</td>\n",
       "      <td>Barcelona</td>\n",
       "      <td>1507323</td>\n",
       "      <td>999877</td>\n",
       "      <td>252729</td>\n",
       "      <td>414210</td>\n",
       "      <td>3811267</td>\n",
       "      <td>3571011</td>\n",
       "      <td>3015822</td>\n",
       "      <td>2789630</td>\n",
       "      <td>...</td>\n",
       "      <td>198977</td>\n",
       "      <td>218805</td>\n",
       "      <td>90483</td>\n",
       "      <td>92085</td>\n",
       "      <td>108494</td>\n",
       "      <td>126720</td>\n",
       "      <td>27560</td>\n",
       "      <td>28451</td>\n",
       "      <td>85065</td>\n",
       "      <td>66480</td>\n",
       "    </tr>\n",
       "    <tr>\n",
       "      <th>8</th>\n",
       "      <td>8</td>\n",
       "      <td>Bilbao</td>\n",
       "      <td>1522047</td>\n",
       "      <td>1503473</td>\n",
       "      <td>311203</td>\n",
       "      <td>334672</td>\n",
       "      <td>645821</td>\n",
       "      <td>595059</td>\n",
       "      <td>418899</td>\n",
       "      <td>407988</td>\n",
       "      <td>...</td>\n",
       "      <td>3790</td>\n",
       "      <td>21</td>\n",
       "      <td>3063</td>\n",
       "      <td>21</td>\n",
       "      <td>727</td>\n",
       "      <td>0</td>\n",
       "      <td>1285</td>\n",
       "      <td>0</td>\n",
       "      <td>2535</td>\n",
       "      <td>3950</td>\n",
       "    </tr>\n",
       "    <tr>\n",
       "      <th>9</th>\n",
       "      <td>9</td>\n",
       "      <td>Cartagena</td>\n",
       "      <td>2393757</td>\n",
       "      <td>2335996</td>\n",
       "      <td>707086</td>\n",
       "      <td>870622</td>\n",
       "      <td>85628</td>\n",
       "      <td>81870</td>\n",
       "      <td>56397</td>\n",
       "      <td>42249</td>\n",
       "      <td>...</td>\n",
       "      <td>5374</td>\n",
       "      <td>11439</td>\n",
       "      <td>0</td>\n",
       "      <td>0</td>\n",
       "      <td>5374</td>\n",
       "      <td>11439</td>\n",
       "      <td>0</td>\n",
       "      <td>0</td>\n",
       "      <td>1</td>\n",
       "      <td>0</td>\n",
       "    </tr>\n",
       "  </tbody>\n",
       "</table>\n",
       "<p>10 rows × 578 columns</p>\n",
       "</div>"
      ],
      "text/plain": [
       "   Unnamed: 0 Autoridad Portuaria  Enero_2022 t Graneles Líquidos  \\\n",
       "0           0            A Coruña                          623294   \n",
       "1           1            Alicante                               0   \n",
       "2           2             Almería                            7512   \n",
       "3           3              Avilés                           74703   \n",
       "4           4  Bahía de Algeciras                         2268541   \n",
       "5           5      Bahía de Cádiz                           80953   \n",
       "6           6            Baleares                           89870   \n",
       "7           7           Barcelona                         1507323   \n",
       "8           8              Bilbao                         1522047   \n",
       "9           9           Cartagena                         2393757   \n",
       "\n",
       "   Enero_2023 t Graneles Líquidos  Enero_2022 t Graneles Sólidos  \\\n",
       "0                          676655                         464559   \n",
       "1                            5453                         119575   \n",
       "2                            4538                         266992   \n",
       "3                           55417                         189219   \n",
       "4                         2380167                         207212   \n",
       "5                          163563                         186763   \n",
       "6                           71491                          25887   \n",
       "7                          999877                         252729   \n",
       "8                         1503473                         311203   \n",
       "9                         2335996                         707086   \n",
       "\n",
       "   Enero_2023 t Graneles Sólidos  Enero_2022 t Mercancía General  \\\n",
       "0                         521447                           79616   \n",
       "1                         191759                          104040   \n",
       "2                         299084                          134447   \n",
       "3                         266336                           97892   \n",
       "4                          31659                         6062831   \n",
       "5                         137032                          206041   \n",
       "6                          43279                          824339   \n",
       "7                         414210                         3811267   \n",
       "8                         334672                          645821   \n",
       "9                         870622                           85628   \n",
       "\n",
       "   Enero_2023 t Mercancía General  \\\n",
       "0                           40997   \n",
       "1                           96204   \n",
       "2                           74717   \n",
       "3                           91717   \n",
       "4                         5747403   \n",
       "5                          166825   \n",
       "6                          884058   \n",
       "7                         3571011   \n",
       "8                          595059   \n",
       "9                           81870   \n",
       "\n",
       "   Enero_2022 t Mercancía General Contenedores  \\\n",
       "0                                            0   \n",
       "1                                        97163   \n",
       "2                                        35899   \n",
       "3                                            0   \n",
       "4                                      4742267   \n",
       "5                                       157740   \n",
       "6                                        25202   \n",
       "7                                      3015822   \n",
       "8                                       418899   \n",
       "9                                        56397   \n",
       "\n",
       "   Enero_2023 t Mercancía General Contenedores  ...  \\\n",
       "0                                           66  ...   \n",
       "1                                        89345  ...   \n",
       "2                                        11672  ...   \n",
       "3                                            0  ...   \n",
       "4                                      4544493  ...   \n",
       "5                                       115728  ...   \n",
       "6                                        21952  ...   \n",
       "7                                      2789630  ...   \n",
       "8                                       407988  ...   \n",
       "9                                        42249  ...   \n",
       "\n",
       "   Diciembre_2022 Pasajeros En Régimen De Transporte Y De Crucero  \\\n",
       "0                                              10397                \n",
       "1                                              14007                \n",
       "2                                              37988                \n",
       "3                                                  0                \n",
       "4                                             321572                \n",
       "5                                              26140                \n",
       "6                                             344333                \n",
       "7                                             198977                \n",
       "8                                               3790                \n",
       "9                                               5374                \n",
       "\n",
       "   Diciembre_2023 Pasajeros En Régimen De Transporte Y De Crucero  \\\n",
       "0                                               3924                \n",
       "1                                              11659                \n",
       "2                                              45490                \n",
       "3                                                  0                \n",
       "4                                             376001                \n",
       "5                                              44352                \n",
       "6                                             355384                \n",
       "7                                             218805                \n",
       "8                                                 21                \n",
       "9                                              11439                \n",
       "\n",
       "   Diciembre_2022 Pasajeros En Régimen De Transporte  \\\n",
       "0                                                  0   \n",
       "1                                               7357   \n",
       "2                                              37988   \n",
       "3                                                  0   \n",
       "4                                             321572   \n",
       "5                                               1506   \n",
       "6                                             282570   \n",
       "7                                              90483   \n",
       "8                                               3063   \n",
       "9                                                  0   \n",
       "\n",
       "   Diciembre_2023 Pasajeros En Régimen De Transporte  \\\n",
       "0                                                  0   \n",
       "1                                               6558   \n",
       "2                                              45490   \n",
       "3                                                  0   \n",
       "4                                             376001   \n",
       "5                                               1455   \n",
       "6                                             303547   \n",
       "7                                              92085   \n",
       "8                                                 21   \n",
       "9                                                  0   \n",
       "\n",
       "   Diciembre_2022 Pasajeros De Crucero  Diciembre_2023 Pasajeros De Crucero  \\\n",
       "0                                10397                                 3924   \n",
       "1                                 6650                                 5101   \n",
       "2                                    0                                    0   \n",
       "3                                    0                                    0   \n",
       "4                                    0                                    0   \n",
       "5                                24634                                42897   \n",
       "6                                61763                                51837   \n",
       "7                               108494                               126720   \n",
       "8                                  727                                    0   \n",
       "9                                 5374                                11439   \n",
       "\n",
       "   Diciembre_2022 Automóviles En Régimen De Pasaje  \\\n",
       "0                                                0   \n",
       "1                                             2308   \n",
       "2                                            10991   \n",
       "3                                                0   \n",
       "4                                            68462   \n",
       "5                                              914   \n",
       "6                                            66218   \n",
       "7                                            27560   \n",
       "8                                             1285   \n",
       "9                                                0   \n",
       "\n",
       "   Diciembre_2023 Automóviles En Régimen De Pasaje  \\\n",
       "0                                                0   \n",
       "1                                             1521   \n",
       "2                                            12802   \n",
       "3                                                0   \n",
       "4                                            81739   \n",
       "5                                              850   \n",
       "6                                            75901   \n",
       "7                                            28451   \n",
       "8                                                0   \n",
       "9                                                0   \n",
       "\n",
       "   Diciembre_2022 Automóviles En Régimen De Mercancía  \\\n",
       "0                                                  0    \n",
       "1                                               1110    \n",
       "2                                                162    \n",
       "3                                                  0    \n",
       "4                                                224    \n",
       "5                                                864    \n",
       "6                                               7106    \n",
       "7                                              85065    \n",
       "8                                               2535    \n",
       "9                                                  1    \n",
       "\n",
       "   Diciembre_2023 Automóviles En Régimen De Mercancía  \n",
       "0                                                  0   \n",
       "1                                                168   \n",
       "2                                                283   \n",
       "3                                                  0   \n",
       "4                                                345   \n",
       "5                                               1349   \n",
       "6                                               6359   \n",
       "7                                              66480   \n",
       "8                                               3950   \n",
       "9                                                  0   \n",
       "\n",
       "[10 rows x 578 columns]"
      ]
     },
     "metadata": {},
     "output_type": "display_data"
    }
   ],
   "source": [
    "ruta = os.path.join('archivos_mineria_funciones_cargo_2022_2023/carga.xlsx')\n",
    "df = pd.read_excel(ruta)\n",
    "display(df.head(10))"
   ]
  },
  {
   "cell_type": "code",
   "execution_count": 3,
   "metadata": {},
   "outputs": [],
   "source": [
    "autor = df['Autoridad Portuaria']"
   ]
  },
  {
   "cell_type": "code",
   "execution_count": 4,
   "metadata": {},
   "outputs": [
    {
     "data": {
      "text/plain": [
       "336"
      ]
     },
     "execution_count": 4,
     "metadata": {},
     "output_type": "execute_result"
    }
   ],
   "source": [
    "autoridad_porturaria = []\n",
    "for i in range(12):\n",
    "    for puerto in autor:\n",
    "        autoridad_porturaria.append(puerto)\n",
    "len(autoridad_porturaria)"
   ]
  },
  {
   "cell_type": "code",
   "execution_count": null,
   "metadata": {},
   "outputs": [],
   "source": [
    "autoridad_porturaria"
   ]
  },
  {
   "cell_type": "code",
   "execution_count": 5,
   "metadata": {},
   "outputs": [],
   "source": [
    "Meses = ['Enero_2022', 'Febrero_2022', 'Marzo_2022', 'Abril_2022', 'Mayo_2022', 'Junio_2022', 'Julio_2022', 'Agosto_2022', 'Septiembre_2022', 'Octubre_2022', 'Noviembre_2022', 'Diciembre_2022']"
   ]
  },
  {
   "cell_type": "code",
   "execution_count": 6,
   "metadata": {},
   "outputs": [
    {
     "data": {
      "text/plain": [
       "336"
      ]
     },
     "execution_count": 6,
     "metadata": {},
     "output_type": "execute_result"
    }
   ],
   "source": [
    "Mes = []\n",
    "for i in Meses:\n",
    "    for j in range(28):\n",
    "        Mes.append(i)\n",
    "len(Mes)"
   ]
  },
  {
   "cell_type": "code",
   "execution_count": 7,
   "metadata": {},
   "outputs": [
    {
     "data": {
      "text/plain": [
       "(336, 1)"
      ]
     },
     "execution_count": 7,
     "metadata": {},
     "output_type": "execute_result"
    }
   ],
   "source": [
    "\n",
    "columns = ['Meses']\n",
    "\n",
    "df_listo = pd.DataFrame(Mes, columns=columns)\n",
    "df_listo.shape"
   ]
  },
  {
   "cell_type": "code",
   "execution_count": 8,
   "metadata": {},
   "outputs": [],
   "source": [
    "df_listo['Autoridad_Portuaria'] = autoridad_porturaria"
   ]
  },
  {
   "cell_type": "code",
   "execution_count": 9,
   "metadata": {},
   "outputs": [
    {
     "data": {
      "text/html": [
       "<div>\n",
       "<style scoped>\n",
       "    .dataframe tbody tr th:only-of-type {\n",
       "        vertical-align: middle;\n",
       "    }\n",
       "\n",
       "    .dataframe tbody tr th {\n",
       "        vertical-align: top;\n",
       "    }\n",
       "\n",
       "    .dataframe thead th {\n",
       "        text-align: right;\n",
       "    }\n",
       "</style>\n",
       "<table border=\"1\" class=\"dataframe\">\n",
       "  <thead>\n",
       "    <tr style=\"text-align: right;\">\n",
       "      <th></th>\n",
       "      <th>Meses</th>\n",
       "      <th>Autoridad_Portuaria</th>\n",
       "    </tr>\n",
       "  </thead>\n",
       "  <tbody>\n",
       "    <tr>\n",
       "      <th>0</th>\n",
       "      <td>Enero_2022</td>\n",
       "      <td>A Coruña</td>\n",
       "    </tr>\n",
       "    <tr>\n",
       "      <th>1</th>\n",
       "      <td>Enero_2022</td>\n",
       "      <td>Alicante</td>\n",
       "    </tr>\n",
       "    <tr>\n",
       "      <th>2</th>\n",
       "      <td>Enero_2022</td>\n",
       "      <td>Almería</td>\n",
       "    </tr>\n",
       "    <tr>\n",
       "      <th>3</th>\n",
       "      <td>Enero_2022</td>\n",
       "      <td>Avilés</td>\n",
       "    </tr>\n",
       "    <tr>\n",
       "      <th>4</th>\n",
       "      <td>Enero_2022</td>\n",
       "      <td>Bahía de Algeciras</td>\n",
       "    </tr>\n",
       "    <tr>\n",
       "      <th>...</th>\n",
       "      <td>...</td>\n",
       "      <td>...</td>\n",
       "    </tr>\n",
       "    <tr>\n",
       "      <th>331</th>\n",
       "      <td>Diciembre_2022</td>\n",
       "      <td>Sevilla</td>\n",
       "    </tr>\n",
       "    <tr>\n",
       "      <th>332</th>\n",
       "      <td>Diciembre_2022</td>\n",
       "      <td>Tarragona</td>\n",
       "    </tr>\n",
       "    <tr>\n",
       "      <th>333</th>\n",
       "      <td>Diciembre_2022</td>\n",
       "      <td>Valencia</td>\n",
       "    </tr>\n",
       "    <tr>\n",
       "      <th>334</th>\n",
       "      <td>Diciembre_2022</td>\n",
       "      <td>Vigo</td>\n",
       "    </tr>\n",
       "    <tr>\n",
       "      <th>335</th>\n",
       "      <td>Diciembre_2022</td>\n",
       "      <td>Vilagarcía</td>\n",
       "    </tr>\n",
       "  </tbody>\n",
       "</table>\n",
       "<p>336 rows × 2 columns</p>\n",
       "</div>"
      ],
      "text/plain": [
       "              Meses Autoridad_Portuaria\n",
       "0        Enero_2022            A Coruña\n",
       "1        Enero_2022            Alicante\n",
       "2        Enero_2022             Almería\n",
       "3        Enero_2022              Avilés\n",
       "4        Enero_2022  Bahía de Algeciras\n",
       "..              ...                 ...\n",
       "331  Diciembre_2022             Sevilla\n",
       "332  Diciembre_2022           Tarragona\n",
       "333  Diciembre_2022            Valencia\n",
       "334  Diciembre_2022                Vigo\n",
       "335  Diciembre_2022          Vilagarcía\n",
       "\n",
       "[336 rows x 2 columns]"
      ]
     },
     "execution_count": 9,
     "metadata": {},
     "output_type": "execute_result"
    }
   ],
   "source": [
    "df_listo"
   ]
  },
  {
   "cell_type": "markdown",
   "metadata": {},
   "source": [
    "## Graneles Líquidos"
   ]
  },
  {
   "cell_type": "code",
   "execution_count": 10,
   "metadata": {},
   "outputs": [],
   "source": [
    "Graneles_liquidos = df['Enero_2022 t Graneles Líquidos']"
   ]
  },
  {
   "cell_type": "code",
   "execution_count": 11,
   "metadata": {},
   "outputs": [],
   "source": [
    "Graneles_liquidos_Febrero = df['Febrero_2022 t Graneles Líquidos']\n",
    "Graneles_liquidos_Marzo = df['Marzo_2022 t Graneles Líquidos']\n",
    "Graneles_liquidos_Abril = df['Abril_2022 t Graneles Líquidos']\n",
    "Graneles_liquidos_Mayo = df['Mayo_2022 t Graneles Líquidos']\n",
    "Graneles_liquidos_Junio = df['Junio_2022 t Graneles Líquidos']\n",
    "Graneles_liquidos_Julio = df['Julio_2022 t Graneles Líquidos']\n",
    "Graneles_liquidos_Agosto = df['Agosto_2022 t Graneles Líquidos']\n",
    "Graneles_liquidos_Septiembre = df['Septiembre_2022 t Graneles Líquidos']\n",
    "Graneles_liquidos_Octubre = df['Octubre_2022 t Graneles Líquidos']\n",
    "Graneles_liquidos_Noviembre = df['Noviembre_2022 t Graneles Líquidos']\n",
    "Graneles_liquidos_Diciembre = df['Diciembre_2022 t Graneles Líquidos']"
   ]
  },
  {
   "cell_type": "code",
   "execution_count": 12,
   "metadata": {},
   "outputs": [],
   "source": [
    "Graneles_liquidos = Graneles_liquidos.tolist()\n",
    "Graneles_liquidos_Febrero = Graneles_liquidos_Febrero.tolist()\n",
    "Graneles_liquidos_Marzo = Graneles_liquidos_Marzo.tolist()\n",
    "Graneles_liquidos_Abril = Graneles_liquidos_Abril.tolist()\n",
    "Graneles_liquidos_Mayo = Graneles_liquidos_Mayo.tolist()\n",
    "Graneles_liquidos_Junio = Graneles_liquidos_Junio.tolist()\n",
    "Graneles_liquidos_Julio = Graneles_liquidos_Julio.tolist()\n",
    "Graneles_liquidos_Agosto = Graneles_liquidos_Agosto.tolist()\n",
    "Graneles_liquidos_Septiembre = Graneles_liquidos_Septiembre.tolist()\n",
    "Graneles_liquidos_Octubre = Graneles_liquidos_Octubre.tolist()\n",
    "Graneles_liquidos_Noviembre = Graneles_liquidos_Noviembre.tolist()\n",
    "Graneles_liquidos_Diciembre = Graneles_liquidos_Diciembre.tolist()"
   ]
  },
  {
   "cell_type": "code",
   "execution_count": 13,
   "metadata": {},
   "outputs": [
    {
     "data": {
      "text/plain": [
       "336"
      ]
     },
     "execution_count": 13,
     "metadata": {},
     "output_type": "execute_result"
    }
   ],
   "source": [
    "for i in Graneles_liquidos_Febrero:\n",
    "    Graneles_liquidos.append(i)\n",
    "len(Graneles_liquidos)\n",
    "\n",
    "for i in Graneles_liquidos_Marzo:\n",
    "    Graneles_liquidos.append(i)\n",
    "len(Graneles_liquidos)\n",
    "\n",
    "for i in Graneles_liquidos_Abril:\n",
    "    Graneles_liquidos.append(i)\n",
    "len(Graneles_liquidos)\n",
    "\n",
    "for i in Graneles_liquidos_Mayo:\n",
    "    Graneles_liquidos.append(i)\n",
    "len(Graneles_liquidos)\n",
    "\n",
    "for i in Graneles_liquidos_Junio:\n",
    "    Graneles_liquidos.append(i)\n",
    "len(Graneles_liquidos)\n",
    "\n",
    "for i in Graneles_liquidos_Julio:\n",
    "    Graneles_liquidos.append(i)\n",
    "len(Graneles_liquidos)\n",
    "\n",
    "for i in Graneles_liquidos_Agosto:\n",
    "    Graneles_liquidos.append(i)\n",
    "len(Graneles_liquidos)\n",
    "\n",
    "for i in Graneles_liquidos_Septiembre:\n",
    "    Graneles_liquidos.append(i)\n",
    "len(Graneles_liquidos)\n",
    "\n",
    "for i in Graneles_liquidos_Octubre:\n",
    "    Graneles_liquidos.append(i)\n",
    "len(Graneles_liquidos)\n",
    "\n",
    "for i in Graneles_liquidos_Noviembre:\n",
    "    Graneles_liquidos.append(i)\n",
    "len(Graneles_liquidos)\n",
    "\n",
    "for i in Graneles_liquidos_Diciembre:\n",
    "    Graneles_liquidos.append(i)\n",
    "len(Graneles_liquidos)"
   ]
  },
  {
   "cell_type": "code",
   "execution_count": 14,
   "metadata": {},
   "outputs": [],
   "source": [
    "df_listo['Graneles Líquidos t'] = Graneles_liquidos"
   ]
  },
  {
   "cell_type": "code",
   "execution_count": 15,
   "metadata": {},
   "outputs": [
    {
     "data": {
      "text/html": [
       "<div>\n",
       "<style scoped>\n",
       "    .dataframe tbody tr th:only-of-type {\n",
       "        vertical-align: middle;\n",
       "    }\n",
       "\n",
       "    .dataframe tbody tr th {\n",
       "        vertical-align: top;\n",
       "    }\n",
       "\n",
       "    .dataframe thead th {\n",
       "        text-align: right;\n",
       "    }\n",
       "</style>\n",
       "<table border=\"1\" class=\"dataframe\">\n",
       "  <thead>\n",
       "    <tr style=\"text-align: right;\">\n",
       "      <th></th>\n",
       "      <th>Meses</th>\n",
       "      <th>Autoridad_Portuaria</th>\n",
       "      <th>Graneles Líquidos t</th>\n",
       "    </tr>\n",
       "  </thead>\n",
       "  <tbody>\n",
       "    <tr>\n",
       "      <th>0</th>\n",
       "      <td>Enero_2022</td>\n",
       "      <td>A Coruña</td>\n",
       "      <td>623294</td>\n",
       "    </tr>\n",
       "    <tr>\n",
       "      <th>1</th>\n",
       "      <td>Enero_2022</td>\n",
       "      <td>Alicante</td>\n",
       "      <td>0</td>\n",
       "    </tr>\n",
       "    <tr>\n",
       "      <th>2</th>\n",
       "      <td>Enero_2022</td>\n",
       "      <td>Almería</td>\n",
       "      <td>7512</td>\n",
       "    </tr>\n",
       "    <tr>\n",
       "      <th>3</th>\n",
       "      <td>Enero_2022</td>\n",
       "      <td>Avilés</td>\n",
       "      <td>74703</td>\n",
       "    </tr>\n",
       "    <tr>\n",
       "      <th>4</th>\n",
       "      <td>Enero_2022</td>\n",
       "      <td>Bahía de Algeciras</td>\n",
       "      <td>2268541</td>\n",
       "    </tr>\n",
       "    <tr>\n",
       "      <th>...</th>\n",
       "      <td>...</td>\n",
       "      <td>...</td>\n",
       "      <td>...</td>\n",
       "    </tr>\n",
       "    <tr>\n",
       "      <th>331</th>\n",
       "      <td>Diciembre_2022</td>\n",
       "      <td>Sevilla</td>\n",
       "      <td>51969</td>\n",
       "    </tr>\n",
       "    <tr>\n",
       "      <th>332</th>\n",
       "      <td>Diciembre_2022</td>\n",
       "      <td>Tarragona</td>\n",
       "      <td>1543352</td>\n",
       "    </tr>\n",
       "    <tr>\n",
       "      <th>333</th>\n",
       "      <td>Diciembre_2022</td>\n",
       "      <td>Valencia</td>\n",
       "      <td>449252</td>\n",
       "    </tr>\n",
       "    <tr>\n",
       "      <th>334</th>\n",
       "      <td>Diciembre_2022</td>\n",
       "      <td>Vigo</td>\n",
       "      <td>0</td>\n",
       "    </tr>\n",
       "    <tr>\n",
       "      <th>335</th>\n",
       "      <td>Diciembre_2022</td>\n",
       "      <td>Vilagarcía</td>\n",
       "      <td>8804</td>\n",
       "    </tr>\n",
       "  </tbody>\n",
       "</table>\n",
       "<p>336 rows × 3 columns</p>\n",
       "</div>"
      ],
      "text/plain": [
       "              Meses Autoridad_Portuaria  Graneles Líquidos t\n",
       "0        Enero_2022            A Coruña               623294\n",
       "1        Enero_2022            Alicante                    0\n",
       "2        Enero_2022             Almería                 7512\n",
       "3        Enero_2022              Avilés                74703\n",
       "4        Enero_2022  Bahía de Algeciras              2268541\n",
       "..              ...                 ...                  ...\n",
       "331  Diciembre_2022             Sevilla                51969\n",
       "332  Diciembre_2022           Tarragona              1543352\n",
       "333  Diciembre_2022            Valencia               449252\n",
       "334  Diciembre_2022                Vigo                    0\n",
       "335  Diciembre_2022          Vilagarcía                 8804\n",
       "\n",
       "[336 rows x 3 columns]"
      ]
     },
     "execution_count": 15,
     "metadata": {},
     "output_type": "execute_result"
    }
   ],
   "source": [
    "df_listo"
   ]
  },
  {
   "cell_type": "markdown",
   "metadata": {},
   "source": [
    "## Graneles Sólidos"
   ]
  },
  {
   "cell_type": "code",
   "execution_count": 16,
   "metadata": {},
   "outputs": [],
   "source": [
    "Graneles_solidos = df['Enero_2022 t Graneles Sólidos']"
   ]
  },
  {
   "cell_type": "code",
   "execution_count": 17,
   "metadata": {},
   "outputs": [],
   "source": [
    "Graneles_solidos_Febrero = df['Febrero_2022 t Graneles Sólidos']\n",
    "Graneles_solidos_Marzo = df['Marzo_2022 t Graneles Sólidos']\n",
    "Graneles_solidos_Abril = df['Abril_2022 t Graneles Sólidos']\n",
    "Graneles_solidos_Mayo = df['Mayo_2022 t Graneles Sólidos']\n",
    "Graneles_solidos_Junio = df['Junio_2022 t Graneles Sólidos']\n",
    "Graneles_solidos_Julio = df['Julio_2022 t Graneles Sólidos']\n",
    "Graneles_solidos_Agosto = df['Agosto_2022 t Graneles Sólidos']\n",
    "Graneles_solidos_Septiembre = df['Septiembre_2022 t Graneles Sólidos']\n",
    "Graneles_solidos_Octubre = df['Octubre_2022 t Graneles Sólidos']\n",
    "Graneles_solidos_Noviembre = df['Noviembre_2022 t Graneles Sólidos']\n",
    "Graneles_solidos_Diciembre = df['Diciembre_2022 t Graneles Sólidos']"
   ]
  },
  {
   "cell_type": "code",
   "execution_count": 18,
   "metadata": {},
   "outputs": [],
   "source": [
    "Graneles_solidos = Graneles_solidos.tolist()\n",
    "Graneles_solidos_Febrero = Graneles_solidos_Febrero.tolist()\n",
    "Graneles_solidos_Marzo = Graneles_solidos_Marzo.tolist()\n",
    "Graneles_solidos_Abril = Graneles_solidos_Abril.tolist()\n",
    "Graneles_solidos_Mayo = Graneles_solidos_Mayo.tolist()\n",
    "Graneles_solidos_Junio = Graneles_solidos_Junio.tolist()\n",
    "Graneles_solidos_Julio = Graneles_solidos_Julio.tolist()\n",
    "Graneles_solidos_Agosto = Graneles_solidos_Agosto.tolist()\n",
    "Graneles_solidos_Septiembre = Graneles_solidos_Septiembre.tolist()\n",
    "Graneles_solidos_Octubre = Graneles_solidos_Octubre.tolist()\n",
    "Graneles_solidos_Noviembre = Graneles_solidos_Noviembre.tolist()\n",
    "Graneles_solidos_Diciembre = Graneles_solidos_Diciembre.tolist()"
   ]
  },
  {
   "cell_type": "code",
   "execution_count": 19,
   "metadata": {},
   "outputs": [
    {
     "data": {
      "text/plain": [
       "336"
      ]
     },
     "execution_count": 19,
     "metadata": {},
     "output_type": "execute_result"
    }
   ],
   "source": [
    "for i in Graneles_solidos_Febrero:\n",
    "    Graneles_solidos.append(i)\n",
    "len(Graneles_solidos)\n",
    "\n",
    "for i in Graneles_solidos_Marzo:\n",
    "    Graneles_solidos.append(i)\n",
    "len(Graneles_solidos)\n",
    "\n",
    "for i in Graneles_solidos_Abril:\n",
    "    Graneles_solidos.append(i)\n",
    "len(Graneles_solidos)\n",
    "\n",
    "for i in Graneles_solidos_Mayo:\n",
    "    Graneles_solidos.append(i)\n",
    "len(Graneles_solidos)\n",
    "\n",
    "for i in Graneles_solidos_Junio:\n",
    "    Graneles_solidos.append(i)\n",
    "len(Graneles_solidos)\n",
    "\n",
    "for i in Graneles_solidos_Julio:\n",
    "    Graneles_solidos.append(i)\n",
    "len(Graneles_solidos)\n",
    "\n",
    "for i in Graneles_solidos_Agosto:\n",
    "    Graneles_solidos.append(i)\n",
    "len(Graneles_solidos)\n",
    "\n",
    "for i in Graneles_solidos_Septiembre:\n",
    "    Graneles_solidos.append(i)\n",
    "len(Graneles_solidos)\n",
    "\n",
    "for i in Graneles_solidos_Octubre:\n",
    "    Graneles_solidos.append(i)\n",
    "len(Graneles_solidos)\n",
    "\n",
    "for i in Graneles_solidos_Noviembre:\n",
    "    Graneles_solidos.append(i)\n",
    "len(Graneles_solidos)\n",
    "\n",
    "for i in Graneles_solidos_Diciembre:\n",
    "    Graneles_solidos.append(i)\n",
    "len(Graneles_solidos)"
   ]
  },
  {
   "cell_type": "code",
   "execution_count": 20,
   "metadata": {},
   "outputs": [],
   "source": [
    "df_listo['Graneles Sólidos t'] = Graneles_solidos"
   ]
  },
  {
   "cell_type": "code",
   "execution_count": 21,
   "metadata": {},
   "outputs": [
    {
     "data": {
      "text/html": [
       "<div>\n",
       "<style scoped>\n",
       "    .dataframe tbody tr th:only-of-type {\n",
       "        vertical-align: middle;\n",
       "    }\n",
       "\n",
       "    .dataframe tbody tr th {\n",
       "        vertical-align: top;\n",
       "    }\n",
       "\n",
       "    .dataframe thead th {\n",
       "        text-align: right;\n",
       "    }\n",
       "</style>\n",
       "<table border=\"1\" class=\"dataframe\">\n",
       "  <thead>\n",
       "    <tr style=\"text-align: right;\">\n",
       "      <th></th>\n",
       "      <th>Meses</th>\n",
       "      <th>Autoridad_Portuaria</th>\n",
       "      <th>Graneles Líquidos t</th>\n",
       "      <th>Graneles Sólidos t</th>\n",
       "    </tr>\n",
       "  </thead>\n",
       "  <tbody>\n",
       "    <tr>\n",
       "      <th>0</th>\n",
       "      <td>Enero_2022</td>\n",
       "      <td>A Coruña</td>\n",
       "      <td>623294</td>\n",
       "      <td>464559</td>\n",
       "    </tr>\n",
       "    <tr>\n",
       "      <th>1</th>\n",
       "      <td>Enero_2022</td>\n",
       "      <td>Alicante</td>\n",
       "      <td>0</td>\n",
       "      <td>119575</td>\n",
       "    </tr>\n",
       "    <tr>\n",
       "      <th>2</th>\n",
       "      <td>Enero_2022</td>\n",
       "      <td>Almería</td>\n",
       "      <td>7512</td>\n",
       "      <td>266992</td>\n",
       "    </tr>\n",
       "    <tr>\n",
       "      <th>3</th>\n",
       "      <td>Enero_2022</td>\n",
       "      <td>Avilés</td>\n",
       "      <td>74703</td>\n",
       "      <td>189219</td>\n",
       "    </tr>\n",
       "    <tr>\n",
       "      <th>4</th>\n",
       "      <td>Enero_2022</td>\n",
       "      <td>Bahía de Algeciras</td>\n",
       "      <td>2268541</td>\n",
       "      <td>207212</td>\n",
       "    </tr>\n",
       "  </tbody>\n",
       "</table>\n",
       "</div>"
      ],
      "text/plain": [
       "        Meses Autoridad_Portuaria  Graneles Líquidos t  Graneles Sólidos t\n",
       "0  Enero_2022            A Coruña               623294              464559\n",
       "1  Enero_2022            Alicante                    0              119575\n",
       "2  Enero_2022             Almería                 7512              266992\n",
       "3  Enero_2022              Avilés                74703              189219\n",
       "4  Enero_2022  Bahía de Algeciras              2268541              207212"
      ]
     },
     "execution_count": 21,
     "metadata": {},
     "output_type": "execute_result"
    }
   ],
   "source": [
    "df_listo.head()"
   ]
  },
  {
   "cell_type": "markdown",
   "metadata": {},
   "source": [
    "## Mercancía General"
   ]
  },
  {
   "cell_type": "code",
   "execution_count": 22,
   "metadata": {},
   "outputs": [],
   "source": [
    "Mercancia_general = df['Enero_2022 t Mercancía General']"
   ]
  },
  {
   "cell_type": "code",
   "execution_count": 23,
   "metadata": {},
   "outputs": [],
   "source": [
    "Mercancia_general_Febrero = df['Febrero_2022 t Mercancía General']\n",
    "Mercancia_general_Marzo = df['Marzo_2022 t Mercancía General']\n",
    "Mercancia_general_Abril = df['Abril_2022 t Mercancía General']\n",
    "Mercancia_general_Mayo = df['Mayo_2022 t Mercancía General']\n",
    "Mercancia_general_Junio = df['Junio_2022 t Mercancía General']\n",
    "Mercancia_general_Julio = df['Julio_2022 t Mercancía General']\n",
    "Mercancia_general_Agosto = df['Agosto_2022 t Mercancía General']\n",
    "Mercancia_general_Septiembre = df['Septiembre_2022 t Mercancía General']\n",
    "Mercancia_general_Octubre = df['Octubre_2022 t Mercancía General']\n",
    "Mercancia_general_Noviembre = df['Noviembre_2022 t Mercancía General']\n",
    "Mercancia_general_Diciembre = df['Diciembre_2022 t Mercancía General']"
   ]
  },
  {
   "cell_type": "code",
   "execution_count": 24,
   "metadata": {},
   "outputs": [],
   "source": [
    "Mercancia_general = Mercancia_general.tolist()\n",
    "Mercancia_general_Febrero = Mercancia_general_Febrero.tolist()\n",
    "Mercancia_general_Marzo = Mercancia_general_Marzo.tolist()\n",
    "Mercancia_general_Abril = Mercancia_general_Abril.tolist()\n",
    "Mercancia_general_Mayo = Mercancia_general_Mayo.tolist()\n",
    "Mercancia_general_Junio = Mercancia_general_Junio.tolist()\n",
    "Mercancia_general_Julio = Mercancia_general_Julio.tolist()\n",
    "Mercancia_general_Agosto = Mercancia_general_Agosto.tolist()\n",
    "Mercancia_general_Septiembre = Mercancia_general_Septiembre.tolist()\n",
    "Mercancia_general_Octubre = Mercancia_general_Octubre.tolist()\n",
    "Mercancia_general_Noviembre = Mercancia_general_Noviembre.tolist()\n",
    "Mercancia_general_Diciembre = Mercancia_general_Diciembre.tolist()"
   ]
  },
  {
   "cell_type": "code",
   "execution_count": 25,
   "metadata": {},
   "outputs": [
    {
     "data": {
      "text/plain": [
       "336"
      ]
     },
     "execution_count": 25,
     "metadata": {},
     "output_type": "execute_result"
    }
   ],
   "source": [
    "for i in Mercancia_general_Febrero:\n",
    "    Mercancia_general.append(i)\n",
    "len(Mercancia_general)\n",
    "\n",
    "for i in Mercancia_general_Marzo:\n",
    "    Mercancia_general.append(i)\n",
    "len(Mercancia_general)\n",
    "\n",
    "for i in Mercancia_general_Abril:\n",
    "    Mercancia_general.append(i)\n",
    "len(Mercancia_general)\n",
    "\n",
    "for i in Mercancia_general_Mayo:\n",
    "    Mercancia_general.append(i)\n",
    "len(Mercancia_general)\n",
    "\n",
    "for i in Mercancia_general_Junio:\n",
    "    Mercancia_general.append(i)\n",
    "len(Mercancia_general)\n",
    "\n",
    "for i in Mercancia_general_Julio:\n",
    "    Mercancia_general.append(i)\n",
    "len(Mercancia_general)\n",
    "\n",
    "for i in Mercancia_general_Agosto:\n",
    "    Mercancia_general.append(i)\n",
    "len(Mercancia_general)\n",
    "\n",
    "for i in Mercancia_general_Septiembre:\n",
    "    Mercancia_general.append(i)\n",
    "len(Mercancia_general)\n",
    "\n",
    "for i in Mercancia_general_Octubre:\n",
    "    Mercancia_general.append(i)\n",
    "len(Mercancia_general)\n",
    "\n",
    "for i in Mercancia_general_Noviembre:\n",
    "    Mercancia_general.append(i)\n",
    "len(Mercancia_general)\n",
    "\n",
    "for i in Mercancia_general_Diciembre:\n",
    "    Mercancia_general.append(i)\n",
    "len(Mercancia_general)"
   ]
  },
  {
   "cell_type": "code",
   "execution_count": 26,
   "metadata": {},
   "outputs": [],
   "source": [
    "df_listo['Mercancía General t'] = Mercancia_general"
   ]
  },
  {
   "cell_type": "markdown",
   "metadata": {},
   "source": [
    "## Mercancía General Contenedores"
   ]
  },
  {
   "cell_type": "code",
   "execution_count": 27,
   "metadata": {},
   "outputs": [],
   "source": [
    "Mercancia_general_contenedores = df['Enero_2022 t Mercancía General Contenedores']"
   ]
  },
  {
   "cell_type": "code",
   "execution_count": 28,
   "metadata": {},
   "outputs": [],
   "source": [
    "Mercancia_general_contenedores_Febrero = df['Febrero_2022 t Mercancía General Contenedores']\n",
    "Mercancia_general_contenedores_Marzo = df['Marzo_2022 t Mercancía General Contenedores']\n",
    "Mercancia_general_contenedores_Abril = df['Abril_2022 t Mercancía General Contenedores']\n",
    "Mercancia_general_contenedores_Mayo = df['Mayo_2022 t Mercancía General Contenedores']\n",
    "Mercancia_general_contenedores_Junio = df['Junio_2022 t Mercancía General Contenedores']\n",
    "Mercancia_general_contenedores_Julio = df['Julio_2022 t Mercancía General Contenedores']\n",
    "Mercancia_general_contenedores_Agosto = df['Agosto_2022 t Mercancía General Contenedores']\n",
    "Mercancia_general_contenedores_Septiembre = df['Septiembre_2022 t Mercancía General Contenedores']\n",
    "Mercancia_general_contenedores_Octubre = df['Octubre_2022 t Mercancía General Contenedores']\n",
    "Mercancia_general_contenedores_Noviembre = df['Noviembre_2022 t Mercancía General Contenedores']\n",
    "Mercancia_general_contenedores_Diciembre = df['Diciembre_2022 t Mercancía General Contenedores']"
   ]
  },
  {
   "cell_type": "code",
   "execution_count": 29,
   "metadata": {},
   "outputs": [],
   "source": [
    "Mercancia_general_contenedores = Mercancia_general_contenedores.tolist()\n",
    "Mercancia_general_contenedores_Febrero = Mercancia_general_contenedores_Febrero.tolist()\n",
    "Mercancia_general_contenedores_Marzo = Mercancia_general_contenedores_Marzo.tolist()\n",
    "Mercancia_general_contenedores_Abril = Mercancia_general_contenedores_Abril.tolist()\n",
    "Mercancia_general_contenedores_Mayo = Mercancia_general_contenedores_Mayo.tolist()\n",
    "Mercancia_general_contenedores_Junio = Mercancia_general_contenedores_Junio.tolist()\n",
    "Mercancia_general_contenedores_Julio = Mercancia_general_contenedores_Julio.tolist()\n",
    "Mercancia_general_contenedores_Agosto = Mercancia_general_contenedores_Agosto.tolist()\n",
    "Mercancia_general_contenedores_Septiembre = Mercancia_general_contenedores_Septiembre.tolist()\n",
    "Mercancia_general_contenedores_Octubre = Mercancia_general_contenedores_Octubre.tolist()\n",
    "Mercancia_general_contenedores_Noviembre = Mercancia_general_contenedores_Noviembre.tolist()\n",
    "Mercancia_general_contenedores_Diciembre = Mercancia_general_contenedores_Diciembre.tolist()"
   ]
  },
  {
   "cell_type": "code",
   "execution_count": 30,
   "metadata": {},
   "outputs": [
    {
     "data": {
      "text/plain": [
       "336"
      ]
     },
     "execution_count": 30,
     "metadata": {},
     "output_type": "execute_result"
    }
   ],
   "source": [
    "for i in Mercancia_general_contenedores_Febrero:\n",
    "    Mercancia_general_contenedores.append(i)\n",
    "len(Mercancia_general_contenedores)\n",
    "\n",
    "for i in Mercancia_general_contenedores_Marzo:\n",
    "    Mercancia_general_contenedores.append(i)\n",
    "len(Mercancia_general_contenedores)\n",
    "\n",
    "for i in Mercancia_general_contenedores_Abril:\n",
    "    Mercancia_general_contenedores.append(i)\n",
    "len(Mercancia_general_contenedores)\n",
    "\n",
    "for i in Mercancia_general_contenedores_Mayo:\n",
    "    Mercancia_general_contenedores.append(i)\n",
    "len(Mercancia_general_contenedores)\n",
    "\n",
    "for i in Mercancia_general_contenedores_Junio:\n",
    "    Mercancia_general_contenedores.append(i)\n",
    "len(Mercancia_general_contenedores)\n",
    "\n",
    "for i in Mercancia_general_contenedores_Julio:\n",
    "    Mercancia_general_contenedores.append(i)\n",
    "len(Mercancia_general_contenedores)\n",
    "\n",
    "for i in Mercancia_general_contenedores_Agosto:\n",
    "    Mercancia_general_contenedores.append(i)\n",
    "len(Mercancia_general_contenedores)\n",
    "\n",
    "for i in Mercancia_general_contenedores_Septiembre:\n",
    "    Mercancia_general_contenedores.append(i)\n",
    "len(Mercancia_general_contenedores)\n",
    "\n",
    "for i in Mercancia_general_contenedores_Octubre:\n",
    "    Mercancia_general_contenedores.append(i)\n",
    "len(Mercancia_general_contenedores)\n",
    "\n",
    "for i in Mercancia_general_contenedores_Noviembre:\n",
    "    Mercancia_general_contenedores.append(i)\n",
    "len(Mercancia_general_contenedores)\n",
    "\n",
    "for i in Mercancia_general_contenedores_Diciembre:\n",
    "    Mercancia_general_contenedores.append(i)\n",
    "len(Mercancia_general_contenedores)"
   ]
  },
  {
   "cell_type": "code",
   "execution_count": 31,
   "metadata": {},
   "outputs": [],
   "source": [
    "df_listo['Mercancia General Contenedores t'] = Mercancia_general_contenedores"
   ]
  },
  {
   "cell_type": "markdown",
   "metadata": {},
   "source": [
    "## Pesca"
   ]
  },
  {
   "cell_type": "code",
   "execution_count": 32,
   "metadata": {},
   "outputs": [],
   "source": [
    "Pesca = df['Enero_2022 t Pesca']"
   ]
  },
  {
   "cell_type": "code",
   "execution_count": 33,
   "metadata": {},
   "outputs": [],
   "source": [
    "Pesca_Febrero = df['Febrero_2022 t Pesca']\n",
    "Pesca_Marzo = df['Marzo_2022 t Pesca']\n",
    "Pesca_Abril = df['Abril_2022 t Pesca']\n",
    "Pesca_Mayo = df['Mayo_2022 t Pesca']\n",
    "Pesca_Junio = df['Junio_2022 t Pesca']\n",
    "Pesca_Julio = df['Julio_2022 t Pesca']\n",
    "Pesca_Agosto = df['Agosto_2022 t Pesca']\n",
    "Pesca_Septiembre = df['Septiembre_2022 t Pesca']\n",
    "Pesca_Octubre = df['Octubre_2022 t Pesca']\n",
    "Pesca_Noviembre = df['Noviembre_2022 t Pesca']\n",
    "Pesca_Diciembre = df['Diciembre_2022 t Pesca']"
   ]
  },
  {
   "cell_type": "code",
   "execution_count": 34,
   "metadata": {},
   "outputs": [],
   "source": [
    "Pesca = Pesca.tolist()\n",
    "Pesca_Febrero = Pesca_Febrero.tolist()\n",
    "Pesca_Marzo = Pesca_Marzo.tolist()\n",
    "Pesca_Abril = Pesca_Abril.tolist()\n",
    "Pesca_Mayo = Pesca_Mayo.tolist()\n",
    "Pesca_Junio = Pesca_Junio.tolist()\n",
    "Pesca_Julio = Pesca_Julio.tolist()\n",
    "Pesca_Agosto = Pesca_Agosto.tolist()\n",
    "Pesca_Septiembre = Pesca_Septiembre.tolist()\n",
    "Pesca_Octubre = Pesca_Octubre.tolist()\n",
    "Pesca_Noviembre = Pesca_Noviembre.tolist()\n",
    "Pesca_Diciembre = Pesca_Diciembre.tolist()"
   ]
  },
  {
   "cell_type": "code",
   "execution_count": 35,
   "metadata": {},
   "outputs": [
    {
     "data": {
      "text/plain": [
       "336"
      ]
     },
     "execution_count": 35,
     "metadata": {},
     "output_type": "execute_result"
    }
   ],
   "source": [
    "for i in Pesca_Febrero:\n",
    "    Pesca.append(i)\n",
    "len(Pesca)\n",
    "\n",
    "for i in Pesca_Marzo:\n",
    "    Pesca.append(i)\n",
    "len(Pesca)\n",
    "\n",
    "for i in Pesca_Abril:\n",
    "    Pesca.append(i)\n",
    "len(Pesca)\n",
    "\n",
    "for i in Pesca_Mayo:\n",
    "    Pesca.append(i)\n",
    "len(Pesca)\n",
    "\n",
    "for i in Pesca_Junio:\n",
    "    Pesca.append(i)\n",
    "len(Pesca)\n",
    "\n",
    "for i in Pesca_Julio:\n",
    "    Pesca.append(i)\n",
    "len(Pesca)\n",
    "\n",
    "for i in Pesca_Agosto:\n",
    "    Pesca.append(i)\n",
    "len(Pesca)\n",
    "\n",
    "for i in Pesca_Septiembre:\n",
    "    Pesca.append(i)\n",
    "len(Pesca)\n",
    "\n",
    "for i in Pesca_Octubre:\n",
    "    Pesca.append(i)\n",
    "len(Pesca)\n",
    "\n",
    "for i in Pesca_Noviembre:\n",
    "    Pesca.append(i)\n",
    "len(Pesca)\n",
    "\n",
    "for i in Pesca_Diciembre:\n",
    "    Pesca.append(i)\n",
    "len(Pesca)"
   ]
  },
  {
   "cell_type": "code",
   "execution_count": 36,
   "metadata": {},
   "outputs": [],
   "source": [
    "pd.options.display.max_columns = None\n",
    "pd.options.display.max_rows = None"
   ]
  },
  {
   "cell_type": "code",
   "execution_count": 37,
   "metadata": {},
   "outputs": [],
   "source": [
    "df_listo['Pesca t'] = Pesca"
   ]
  },
  {
   "cell_type": "code",
   "execution_count": 38,
   "metadata": {},
   "outputs": [
    {
     "data": {
      "text/html": [
       "<div>\n",
       "<style scoped>\n",
       "    .dataframe tbody tr th:only-of-type {\n",
       "        vertical-align: middle;\n",
       "    }\n",
       "\n",
       "    .dataframe tbody tr th {\n",
       "        vertical-align: top;\n",
       "    }\n",
       "\n",
       "    .dataframe thead th {\n",
       "        text-align: right;\n",
       "    }\n",
       "</style>\n",
       "<table border=\"1\" class=\"dataframe\">\n",
       "  <thead>\n",
       "    <tr style=\"text-align: right;\">\n",
       "      <th></th>\n",
       "      <th>Meses</th>\n",
       "      <th>Autoridad_Portuaria</th>\n",
       "      <th>Graneles Líquidos t</th>\n",
       "      <th>Graneles Sólidos t</th>\n",
       "      <th>Mercancía General t</th>\n",
       "      <th>Mercancia General Contenedores t</th>\n",
       "      <th>Pesca t</th>\n",
       "    </tr>\n",
       "  </thead>\n",
       "  <tbody>\n",
       "    <tr>\n",
       "      <th>0</th>\n",
       "      <td>Enero_2022</td>\n",
       "      <td>A Coruña</td>\n",
       "      <td>623294</td>\n",
       "      <td>464559</td>\n",
       "      <td>79616</td>\n",
       "      <td>0</td>\n",
       "      <td>1403.861</td>\n",
       "    </tr>\n",
       "    <tr>\n",
       "      <th>1</th>\n",
       "      <td>Enero_2022</td>\n",
       "      <td>Alicante</td>\n",
       "      <td>0</td>\n",
       "      <td>119575</td>\n",
       "      <td>104040</td>\n",
       "      <td>97163</td>\n",
       "      <td>0.000</td>\n",
       "    </tr>\n",
       "    <tr>\n",
       "      <th>2</th>\n",
       "      <td>Enero_2022</td>\n",
       "      <td>Almería</td>\n",
       "      <td>7512</td>\n",
       "      <td>266992</td>\n",
       "      <td>134447</td>\n",
       "      <td>35899</td>\n",
       "      <td>208.561</td>\n",
       "    </tr>\n",
       "    <tr>\n",
       "      <th>3</th>\n",
       "      <td>Enero_2022</td>\n",
       "      <td>Avilés</td>\n",
       "      <td>74703</td>\n",
       "      <td>189219</td>\n",
       "      <td>97892</td>\n",
       "      <td>0</td>\n",
       "      <td>627.525</td>\n",
       "    </tr>\n",
       "    <tr>\n",
       "      <th>4</th>\n",
       "      <td>Enero_2022</td>\n",
       "      <td>Bahía de Algeciras</td>\n",
       "      <td>2268541</td>\n",
       "      <td>207212</td>\n",
       "      <td>6062831</td>\n",
       "      <td>4742267</td>\n",
       "      <td>23.820</td>\n",
       "    </tr>\n",
       "  </tbody>\n",
       "</table>\n",
       "</div>"
      ],
      "text/plain": [
       "        Meses Autoridad_Portuaria  Graneles Líquidos t  Graneles Sólidos t  \\\n",
       "0  Enero_2022            A Coruña               623294              464559   \n",
       "1  Enero_2022            Alicante                    0              119575   \n",
       "2  Enero_2022             Almería                 7512              266992   \n",
       "3  Enero_2022              Avilés                74703              189219   \n",
       "4  Enero_2022  Bahía de Algeciras              2268541              207212   \n",
       "\n",
       "   Mercancía General t  Mercancia General Contenedores t   Pesca t  \n",
       "0                79616                                 0  1403.861  \n",
       "1               104040                             97163     0.000  \n",
       "2               134447                             35899   208.561  \n",
       "3                97892                                 0   627.525  \n",
       "4              6062831                           4742267    23.820  "
      ]
     },
     "execution_count": 38,
     "metadata": {},
     "output_type": "execute_result"
    }
   ],
   "source": [
    "df_listo.head()"
   ]
  },
  {
   "cell_type": "markdown",
   "metadata": {},
   "source": [
    "## Avituallamiento"
   ]
  },
  {
   "cell_type": "code",
   "execution_count": 39,
   "metadata": {},
   "outputs": [],
   "source": [
    "Avituallamiento = df['Enero_2022 t Avituallamiento']"
   ]
  },
  {
   "cell_type": "code",
   "execution_count": 40,
   "metadata": {},
   "outputs": [],
   "source": [
    "Avituallamiento_Febrero = df['Febrero_2022 t Avituallamiento']\n",
    "Avituallamiento_Marzo = df['Marzo_2022 t Avituallamiento']\n",
    "Avituallamiento_Abril = df['Abril_2022 t Avituallamiento']\n",
    "Avituallamiento_Mayo = df['Mayo_2022 t Avituallamiento']\n",
    "Avituallamiento_Junio = df['Junio_2022 t Avituallamiento']\n",
    "Avituallamiento_Julio = df['Julio_2022 t Avituallamiento']\n",
    "Avituallamiento_Agosto = df['Agosto_2022 t Avituallamiento']\n",
    "Avituallamiento_Septiembre = df['Septiembre_2022 t Avituallamiento']\n",
    "Avituallamiento_Octubre = df['Octubre_2022 t Avituallamiento']\n",
    "Avituallamiento_Noviembre = df['Noviembre_2022 t Avituallamiento']\n",
    "Avituallamiento_Diciembre = df['Diciembre_2022 t Avituallamiento']"
   ]
  },
  {
   "cell_type": "code",
   "execution_count": 41,
   "metadata": {},
   "outputs": [],
   "source": [
    "Avituallamiento = Avituallamiento.tolist()\n",
    "Avituallamiento_Febrero = Avituallamiento_Febrero.tolist()\n",
    "Avituallamiento_Marzo = Avituallamiento_Marzo.tolist()\n",
    "Avituallamiento_Abril = Avituallamiento_Abril.tolist()\n",
    "Avituallamiento_Mayo = Avituallamiento_Mayo.tolist()\n",
    "Avituallamiento_Junio = Avituallamiento_Junio.tolist()\n",
    "Avituallamiento_Julio = Avituallamiento_Julio.tolist()\n",
    "Avituallamiento_Agosto = Avituallamiento_Agosto.tolist()\n",
    "Avituallamiento_Septiembre = Avituallamiento_Septiembre.tolist()\n",
    "Avituallamiento_Octubre = Avituallamiento_Octubre.tolist()\n",
    "Avituallamiento_Noviembre = Avituallamiento_Noviembre.tolist()\n",
    "Avituallamiento_Diciembre = Avituallamiento_Diciembre.tolist()"
   ]
  },
  {
   "cell_type": "code",
   "execution_count": 42,
   "metadata": {},
   "outputs": [
    {
     "data": {
      "text/plain": [
       "336"
      ]
     },
     "execution_count": 42,
     "metadata": {},
     "output_type": "execute_result"
    }
   ],
   "source": [
    "for i in Avituallamiento_Febrero:\n",
    "    Avituallamiento.append(i)\n",
    "len(Avituallamiento)\n",
    "\n",
    "for i in Avituallamiento_Marzo:\n",
    "    Avituallamiento.append(i)\n",
    "len(Avituallamiento)\n",
    "\n",
    "for i in Avituallamiento_Abril:\n",
    "    Avituallamiento.append(i)\n",
    "len(Avituallamiento)\n",
    "\n",
    "for i in Avituallamiento_Mayo:\n",
    "    Avituallamiento.append(i)\n",
    "len(Avituallamiento)\n",
    "\n",
    "for i in Avituallamiento_Junio:\n",
    "    Avituallamiento.append(i)\n",
    "len(Avituallamiento)\n",
    "\n",
    "for i in Avituallamiento_Julio:\n",
    "    Avituallamiento.append(i)\n",
    "len(Avituallamiento)\n",
    "\n",
    "for i in Avituallamiento_Agosto:\n",
    "    Avituallamiento.append(i)\n",
    "len(Avituallamiento)\n",
    "\n",
    "for i in Avituallamiento_Septiembre:\n",
    "    Avituallamiento.append(i)\n",
    "len(Avituallamiento)\n",
    "\n",
    "for i in Avituallamiento_Octubre:\n",
    "    Avituallamiento.append(i)\n",
    "len(Avituallamiento)\n",
    "\n",
    "for i in Avituallamiento_Noviembre:\n",
    "    Avituallamiento.append(i)\n",
    "len(Avituallamiento)\n",
    "\n",
    "for i in Avituallamiento_Diciembre:\n",
    "    Avituallamiento.append(i)\n",
    "len(Avituallamiento)"
   ]
  },
  {
   "cell_type": "code",
   "execution_count": 43,
   "metadata": {},
   "outputs": [],
   "source": [
    "df_listo['Avituallamiento t'] = Avituallamiento"
   ]
  },
  {
   "cell_type": "markdown",
   "metadata": {},
   "source": [
    "## Avituallamiento De Combustibles Líquidos"
   ]
  },
  {
   "cell_type": "code",
   "execution_count": 44,
   "metadata": {},
   "outputs": [],
   "source": [
    "Avituallamiento_de_comb_liquidos = df['Enero_2022 t Avituallamiento De Combustibles Líquidos']"
   ]
  },
  {
   "cell_type": "code",
   "execution_count": 45,
   "metadata": {},
   "outputs": [],
   "source": [
    "Avituallamiento_De_Combustibles_Líquidos_Febrero = df['Febrero_2022 t Avituallamiento De Combustibles Líquidos']\n",
    "Avituallamiento_De_Combustibles_Líquidos_Marzo = df['Marzo_2022 t Avituallamiento De Combustibles Líquidos']\n",
    "Avituallamiento_De_Combustibles_Líquidos_Abril = df['Abril_2022 t Avituallamiento De Combustibles Líquidos']\n",
    "Avituallamiento_De_Combustibles_Líquidos_Mayo = df['Mayo_2022 t Avituallamiento De Combustibles Líquidos']\n",
    "Avituallamiento_De_Combustibles_Líquidos_Junio = df['Junio_2022 t Avituallamiento De Combustibles Líquidos']\n",
    "Avituallamiento_De_Combustibles_Líquidos_Julio = df['Julio_2022 t Avituallamiento De Combustibles Líquidos']\n",
    "Avituallamiento_De_Combustibles_Líquidos_Agosto = df['Agosto_2022 t Avituallamiento De Combustibles Líquidos']\n",
    "Avituallamiento_De_Combustibles_Líquidos_Septiembre = df['Septiembre_2022 t Avituallamiento De Combustibles Líquidos']\n",
    "Avituallamiento_De_Combustibles_Líquidos_Octubre = df['Octubre_2022 t Avituallamiento De Combustibles Líquidos']\n",
    "Avituallamiento_De_Combustibles_Líquidos_Noviembre = df['Noviembre_2022 t Avituallamiento De Combustibles Líquidos']\n",
    "Avituallamiento_De_Combustibles_Líquidos_Diciembre = df['Diciembre_2022 t Avituallamiento De Combustibles Líquidos']"
   ]
  },
  {
   "cell_type": "code",
   "execution_count": 46,
   "metadata": {},
   "outputs": [],
   "source": [
    "Avituallamiento_De_Combustibles_Líquidos = Avituallamiento_de_comb_liquidos.tolist()\n",
    "Avituallamiento_De_Combustibles_Líquidos_Febrero = Avituallamiento_De_Combustibles_Líquidos_Febrero.tolist()\n",
    "Avituallamiento_De_Combustibles_Líquidos_Marzo = Avituallamiento_De_Combustibles_Líquidos_Marzo.tolist()\n",
    "Avituallamiento_De_Combustibles_Líquidos_Abril = Avituallamiento_De_Combustibles_Líquidos_Abril.tolist()\n",
    "Avituallamiento_De_Combustibles_Líquidos_Mayo = Avituallamiento_De_Combustibles_Líquidos_Mayo.tolist()\n",
    "Avituallamiento_De_Combustibles_Líquidos_Junio = Avituallamiento_De_Combustibles_Líquidos_Junio.tolist()\n",
    "Avituallamiento_De_Combustibles_Líquidos_Julio = Avituallamiento_De_Combustibles_Líquidos_Julio.tolist()\n",
    "Avituallamiento_De_Combustibles_Líquidos_Agosto = Avituallamiento_De_Combustibles_Líquidos_Agosto.tolist()\n",
    "Avituallamiento_De_Combustibles_Líquidos_Septiembre = Avituallamiento_De_Combustibles_Líquidos_Septiembre.tolist()\n",
    "Avituallamiento_De_Combustibles_Líquidos_Octubre = Avituallamiento_De_Combustibles_Líquidos_Octubre.tolist()\n",
    "Avituallamiento_De_Combustibles_Líquidos_Noviembre = Avituallamiento_De_Combustibles_Líquidos_Noviembre.tolist()\n",
    "Avituallamiento_De_Combustibles_Líquidos_Diciembre = Avituallamiento_De_Combustibles_Líquidos_Diciembre.tolist()"
   ]
  },
  {
   "cell_type": "code",
   "execution_count": 47,
   "metadata": {},
   "outputs": [
    {
     "data": {
      "text/plain": [
       "336"
      ]
     },
     "execution_count": 47,
     "metadata": {},
     "output_type": "execute_result"
    }
   ],
   "source": [
    "for i in Avituallamiento_De_Combustibles_Líquidos_Febrero:\n",
    "    Avituallamiento_De_Combustibles_Líquidos.append(i)\n",
    "len(Avituallamiento_De_Combustibles_Líquidos)\n",
    "\n",
    "for i in Avituallamiento_De_Combustibles_Líquidos_Marzo:\n",
    "    Avituallamiento_De_Combustibles_Líquidos.append(i)\n",
    "len(Avituallamiento_De_Combustibles_Líquidos)\n",
    "\n",
    "for i in Avituallamiento_De_Combustibles_Líquidos_Abril:\n",
    "    Avituallamiento_De_Combustibles_Líquidos.append(i)\n",
    "len(Avituallamiento_De_Combustibles_Líquidos)\n",
    "\n",
    "for i in Avituallamiento_De_Combustibles_Líquidos_Mayo:\n",
    "    Avituallamiento_De_Combustibles_Líquidos.append(i)\n",
    "len(Avituallamiento_De_Combustibles_Líquidos)\n",
    "\n",
    "for i in Avituallamiento_De_Combustibles_Líquidos_Junio:\n",
    "    Avituallamiento_De_Combustibles_Líquidos.append(i)\n",
    "len(Avituallamiento_De_Combustibles_Líquidos)\n",
    "\n",
    "for i in Avituallamiento_De_Combustibles_Líquidos_Julio:\n",
    "    Avituallamiento_De_Combustibles_Líquidos.append(i)\n",
    "len(Avituallamiento_De_Combustibles_Líquidos)\n",
    "\n",
    "for i in Avituallamiento_De_Combustibles_Líquidos_Agosto:\n",
    "    Avituallamiento_De_Combustibles_Líquidos.append(i)\n",
    "len(Avituallamiento_De_Combustibles_Líquidos)\n",
    "\n",
    "for i in Avituallamiento_De_Combustibles_Líquidos_Septiembre:\n",
    "    Avituallamiento_De_Combustibles_Líquidos.append(i)\n",
    "len(Avituallamiento_De_Combustibles_Líquidos)\n",
    "\n",
    "for i in Avituallamiento_De_Combustibles_Líquidos_Octubre:\n",
    "    Avituallamiento_De_Combustibles_Líquidos.append(i)\n",
    "len(Avituallamiento_De_Combustibles_Líquidos)\n",
    "\n",
    "for i in Avituallamiento_De_Combustibles_Líquidos_Noviembre:\n",
    "    Avituallamiento_De_Combustibles_Líquidos.append(i)\n",
    "len(Avituallamiento_De_Combustibles_Líquidos)\n",
    "\n",
    "for i in Avituallamiento_De_Combustibles_Líquidos_Diciembre:\n",
    "    Avituallamiento_De_Combustibles_Líquidos.append(i)\n",
    "len(Avituallamiento_De_Combustibles_Líquidos)"
   ]
  },
  {
   "cell_type": "code",
   "execution_count": 48,
   "metadata": {},
   "outputs": [],
   "source": [
    "df_listo['Avituallamiento De Combustibles Líquidos t'] = Avituallamiento_De_Combustibles_Líquidos"
   ]
  },
  {
   "cell_type": "markdown",
   "metadata": {},
   "source": [
    "## Tráfico Interior"
   ]
  },
  {
   "cell_type": "code",
   "execution_count": 49,
   "metadata": {},
   "outputs": [],
   "source": [
    "Trafico_interior = df['Enero_2022 t Tráfico Interior']"
   ]
  },
  {
   "cell_type": "code",
   "execution_count": 50,
   "metadata": {},
   "outputs": [],
   "source": [
    "Trafico_interior_Febrero = df['Febrero_2022 t Tráfico Interior']\n",
    "Trafico_interior_Marzo = df['Marzo_2022 t Tráfico Interior']\n",
    "Trafico_interior_Abril = df['Abril_2022 t Tráfico Interior']\n",
    "Trafico_interior_Mayo = df['Mayo_2022 t Tráfico Interior']\n",
    "Trafico_interior_Junio = df['Junio_2022 t Tráfico Interior']\n",
    "Trafico_interior_Julio = df['Julio_2022 t Tráfico Interior']\n",
    "Trafico_interior_Agosto = df['Agosto_2022 t Tráfico Interior']\n",
    "Trafico_interior_Septiembre = df['Septiembre_2022 t Tráfico Interior']\n",
    "Trafico_interior_Octubre = df['Octubre_2022 t Tráfico Interior']\n",
    "Trafico_interior_Noviembre = df['Noviembre_2022 t Tráfico Interior']\n",
    "Trafico_interior_Diciembre = df['Diciembre_2022 t Tráfico Interior']"
   ]
  },
  {
   "cell_type": "code",
   "execution_count": 51,
   "metadata": {},
   "outputs": [],
   "source": [
    "Trafico_interior = Trafico_interior.tolist()"
   ]
  },
  {
   "cell_type": "code",
   "execution_count": 52,
   "metadata": {},
   "outputs": [],
   "source": [
    "\n",
    "Trafico_interior_Febrero = Trafico_interior_Febrero.tolist()\n",
    "Trafico_interior_Marzo = Trafico_interior_Marzo.tolist()\n",
    "Trafico_interior_Abril = Trafico_interior_Abril.tolist()\n",
    "Trafico_interior_Mayo = Trafico_interior_Mayo.tolist()\n",
    "Trafico_interior_Junio = Trafico_interior_Junio.tolist()\n",
    "Trafico_interior_Julio = Trafico_interior_Julio.tolist()\n",
    "Trafico_interior_Agosto = Trafico_interior_Agosto.tolist()\n",
    "Trafico_interior_Septiembre = Trafico_interior_Septiembre.tolist()\n",
    "Trafico_interior_Octubre = Trafico_interior_Octubre.tolist()\n",
    "Trafico_interior_Noviembre = Trafico_interior_Noviembre.tolist()\n",
    "Trafico_interior_Diciembre = Trafico_interior_Diciembre.tolist()"
   ]
  },
  {
   "cell_type": "code",
   "execution_count": 53,
   "metadata": {},
   "outputs": [
    {
     "data": {
      "text/plain": [
       "336"
      ]
     },
     "execution_count": 53,
     "metadata": {},
     "output_type": "execute_result"
    }
   ],
   "source": [
    "for i in Trafico_interior_Febrero:\n",
    "    Trafico_interior.append(i)\n",
    "len(Trafico_interior)\n",
    "\n",
    "for i in Trafico_interior_Marzo:\n",
    "    Trafico_interior.append(i)\n",
    "len(Trafico_interior)\n",
    "\n",
    "for i in Trafico_interior_Abril:\n",
    "    Trafico_interior.append(i)\n",
    "len(Trafico_interior)\n",
    "\n",
    "for i in Trafico_interior_Mayo:\n",
    "    Trafico_interior.append(i)\n",
    "len(Trafico_interior)\n",
    "\n",
    "for i in Trafico_interior_Junio:\n",
    "    Trafico_interior.append(i)\n",
    "len(Trafico_interior)\n",
    "\n",
    "for i in Trafico_interior_Julio:\n",
    "    Trafico_interior.append(i)\n",
    "len(Trafico_interior)\n",
    "\n",
    "for i in Trafico_interior_Agosto:\n",
    "    Trafico_interior.append(i)\n",
    "len(Trafico_interior)\n",
    "\n",
    "for i in Trafico_interior_Septiembre:\n",
    "    Trafico_interior.append(i)\n",
    "len(Trafico_interior)\n",
    "\n",
    "for i in Trafico_interior_Octubre:\n",
    "    Trafico_interior.append(i)\n",
    "len(Trafico_interior)\n",
    "\n",
    "for i in Trafico_interior_Noviembre:\n",
    "    Trafico_interior.append(i)\n",
    "len(Trafico_interior)\n",
    "\n",
    "for i in Trafico_interior_Diciembre:\n",
    "    Trafico_interior.append(i)\n",
    "len(Trafico_interior)"
   ]
  },
  {
   "cell_type": "code",
   "execution_count": 54,
   "metadata": {},
   "outputs": [],
   "source": [
    "df_listo['Tráfico Interior t'] = Trafico_interior"
   ]
  },
  {
   "cell_type": "markdown",
   "metadata": {},
   "source": [
    "## Mercancías En Tránsito"
   ]
  },
  {
   "cell_type": "code",
   "execution_count": 55,
   "metadata": {},
   "outputs": [],
   "source": [
    "Mercancias_en_transito = df['Enero_2022 t Mercancías En Tránsito']"
   ]
  },
  {
   "cell_type": "code",
   "execution_count": 56,
   "metadata": {},
   "outputs": [],
   "source": [
    "Mercancias_en_transito_Febrero = df['Febrero_2022 t Mercancías En Tránsito']\n",
    "Mercancias_en_transito_Marzo = df['Marzo_2022 t Mercancías En Tránsito']\n",
    "Mercancias_en_transito_Abril = df['Abril_2022 t Mercancías En Tránsito']\n",
    "Mercancias_en_transito_Mayo = df['Mayo_2022 t Mercancías En Tránsito']\n",
    "Mercancias_en_transito_Junio = df['Junio_2022 t Mercancías En Tránsito']\n",
    "Mercancias_en_transito_Julio = df['Julio_2022 t Mercancías En Tránsito']\n",
    "Mercancias_en_transito_Agosto = df['Agosto_2022 t Mercancías En Tránsito']\n",
    "Mercancias_en_transito_Septiembre = df['Septiembre_2022 t Mercancías En Tránsito']\n",
    "Mercancias_en_transito_Octubre = df['Octubre_2022 t Mercancías En Tránsito']\n",
    "Mercancias_en_transito_Noviembre = df['Noviembre_2022 t Mercancías En Tránsito']\n",
    "Mercancias_en_transito_Diciembre = df['Diciembre_2022 t Mercancías En Tránsito']"
   ]
  },
  {
   "cell_type": "code",
   "execution_count": 57,
   "metadata": {},
   "outputs": [],
   "source": [
    "Mercancias_en_transito = Mercancias_en_transito.tolist()\n",
    "Mercancias_en_transito_Febrero = Mercancias_en_transito_Febrero.tolist()\n",
    "Mercancias_en_transito_Marzo = Mercancias_en_transito_Marzo.tolist()\n",
    "Mercancias_en_transito_Abril = Mercancias_en_transito_Abril.tolist()\n",
    "Mercancias_en_transito_Mayo = Mercancias_en_transito_Mayo.tolist()\n",
    "Mercancias_en_transito_Junio = Mercancias_en_transito_Junio.tolist()\n",
    "Mercancias_en_transito_Julio = Mercancias_en_transito_Julio.tolist()\n",
    "Mercancias_en_transito_Agosto = Mercancias_en_transito_Agosto.tolist()\n",
    "Mercancias_en_transito_Septiembre = Mercancias_en_transito_Septiembre.tolist()\n",
    "Mercancias_en_transito_Octubre = Mercancias_en_transito_Octubre.tolist()\n",
    "Mercancias_en_transito_Noviembre = Mercancias_en_transito_Noviembre.tolist()\n",
    "Mercancias_en_transito_Diciembre = Mercancias_en_transito_Diciembre.tolist()"
   ]
  },
  {
   "cell_type": "code",
   "execution_count": 58,
   "metadata": {},
   "outputs": [
    {
     "data": {
      "text/plain": [
       "336"
      ]
     },
     "execution_count": 58,
     "metadata": {},
     "output_type": "execute_result"
    }
   ],
   "source": [
    "for i in Mercancias_en_transito_Febrero:\n",
    "    Mercancias_en_transito.append(i)\n",
    "len(Mercancias_en_transito)\n",
    "\n",
    "for i in Mercancias_en_transito_Marzo:\n",
    "    Mercancias_en_transito.append(i)\n",
    "len(Mercancias_en_transito)\n",
    "\n",
    "for i in Mercancias_en_transito_Abril:\n",
    "    Mercancias_en_transito.append(i)\n",
    "len(Mercancias_en_transito)\n",
    "\n",
    "for i in Mercancias_en_transito_Mayo:\n",
    "    Mercancias_en_transito.append(i)\n",
    "len(Mercancias_en_transito)\n",
    "\n",
    "for i in Mercancias_en_transito_Junio:\n",
    "    Mercancias_en_transito.append(i)\n",
    "len(Mercancias_en_transito)\n",
    "\n",
    "for i in Mercancias_en_transito_Julio:\n",
    "    Mercancias_en_transito.append(i)\n",
    "len(Mercancias_en_transito)\n",
    "\n",
    "for i in Mercancias_en_transito_Agosto:\n",
    "    Mercancias_en_transito.append(i)\n",
    "len(Mercancias_en_transito)\n",
    "\n",
    "for i in Mercancias_en_transito_Septiembre:\n",
    "    Mercancias_en_transito.append(i)\n",
    "len(Mercancias_en_transito)\n",
    "\n",
    "for i in Mercancias_en_transito_Octubre:\n",
    "    Mercancias_en_transito.append(i)\n",
    "len(Mercancias_en_transito)\n",
    "\n",
    "for i in Mercancias_en_transito_Noviembre:\n",
    "    Mercancias_en_transito.append(i)\n",
    "len(Mercancias_en_transito)\n",
    "\n",
    "for i in Mercancias_en_transito_Diciembre:\n",
    "    Mercancias_en_transito.append(i)\n",
    "len(Mercancias_en_transito)"
   ]
  },
  {
   "cell_type": "code",
   "execution_count": 59,
   "metadata": {},
   "outputs": [],
   "source": [
    "df_listo['Mercancías En Tránsito t'] = Mercancias_en_transito"
   ]
  },
  {
   "cell_type": "markdown",
   "metadata": {},
   "source": [
    "## Mercancías En Tránsito En Contenedores"
   ]
  },
  {
   "cell_type": "code",
   "execution_count": 60,
   "metadata": {},
   "outputs": [],
   "source": [
    "Mercancias_en_transito_contenedores = df['Enero_2022 t Mercancías En Tránsito En Contenedores']"
   ]
  },
  {
   "cell_type": "code",
   "execution_count": 61,
   "metadata": {},
   "outputs": [],
   "source": [
    "Mercancias_en_transito_contenedores_Febrero = df['Febrero_2022 t Mercancías En Tránsito En Contenedores']\n",
    "Mercancias_en_transito_contenedores_Marzo = df['Marzo_2022 t Mercancías En Tránsito En Contenedores']\n",
    "Mercancias_en_transito_contenedores_Abril = df['Abril_2022 t Mercancías En Tránsito En Contenedores']\n",
    "Mercancias_en_transito_contenedores_Mayo = df['Mayo_2022 t Mercancías En Tránsito En Contenedores']\n",
    "Mercancias_en_transito_contenedores_Junio = df['Junio_2022 t Mercancías En Tránsito En Contenedores']\n",
    "Mercancias_en_transito_contenedores_Julio = df['Julio_2022 t Mercancías En Tránsito En Contenedores']\n",
    "Mercancias_en_transito_contenedores_Agosto = df['Agosto_2022 t Mercancías En Tránsito En Contenedores']\n",
    "Mercancias_en_transito_contenedores_Septiembre = df['Septiembre_2022 t Mercancías En Tránsito En Contenedores']\n",
    "Mercancias_en_transito_contenedores_Octubre = df['Octubre_2022 t Mercancías En Tránsito En Contenedores']\n",
    "Mercancias_en_transito_contenedores_Noviembre = df['Noviembre_2022 t Mercancías En Tránsito En Contenedores']\n",
    "Mercancias_en_transito_contenedores_Diciembre = df['Diciembre_2022 t Mercancías En Tránsito En Contenedores']"
   ]
  },
  {
   "cell_type": "code",
   "execution_count": 62,
   "metadata": {},
   "outputs": [],
   "source": [
    "Mercancias_en_transito_contenedores = Mercancias_en_transito_contenedores.tolist()\n",
    "Mercancias_en_transito_contenedores_Febrero = Mercancias_en_transito_contenedores_Febrero.tolist()\n",
    "Mercancias_en_transito_contenedores_Marzo = Mercancias_en_transito_contenedores_Marzo.tolist()\n",
    "Mercancias_en_transito_contenedores_Abril = Mercancias_en_transito_contenedores_Abril.tolist()\n",
    "Mercancias_en_transito_contenedores_Mayo = Mercancias_en_transito_contenedores_Mayo.tolist()\n",
    "Mercancias_en_transito_contenedores_Junio = Mercancias_en_transito_contenedores_Junio.tolist()\n",
    "Mercancias_en_transito_contenedores_Julio = Mercancias_en_transito_contenedores_Julio.tolist()\n",
    "Mercancias_en_transito_contenedores_Agosto = Mercancias_en_transito_contenedores_Agosto.tolist()\n",
    "Mercancias_en_transito_contenedores_Septiembre = Mercancias_en_transito_contenedores_Septiembre.tolist()\n",
    "Mercancias_en_transito_contenedores_Octubre = Mercancias_en_transito_contenedores_Octubre.tolist()\n",
    "Mercancias_en_transito_contenedores_Noviembre = Mercancias_en_transito_contenedores_Noviembre.tolist()\n",
    "Mercancias_en_transito_contenedores_Diciembre = Mercancias_en_transito_contenedores_Diciembre.tolist()"
   ]
  },
  {
   "cell_type": "code",
   "execution_count": 63,
   "metadata": {},
   "outputs": [
    {
     "data": {
      "text/plain": [
       "336"
      ]
     },
     "execution_count": 63,
     "metadata": {},
     "output_type": "execute_result"
    }
   ],
   "source": [
    "for i in Mercancias_en_transito_contenedores_Febrero:\n",
    "    Mercancias_en_transito_contenedores.append(i)\n",
    "len(Mercancias_en_transito_contenedores)\n",
    "\n",
    "for i in Mercancias_en_transito_contenedores_Marzo:\n",
    "    Mercancias_en_transito_contenedores.append(i)\n",
    "len(Mercancias_en_transito_contenedores)\n",
    "\n",
    "for i in Mercancias_en_transito_contenedores_Abril:\n",
    "    Mercancias_en_transito_contenedores.append(i)\n",
    "len(Mercancias_en_transito_contenedores)\n",
    "\n",
    "for i in Mercancias_en_transito_contenedores_Mayo:\n",
    "    Mercancias_en_transito_contenedores.append(i)\n",
    "len(Mercancias_en_transito_contenedores)\n",
    "\n",
    "for i in Mercancias_en_transito_contenedores_Junio:\n",
    "    Mercancias_en_transito_contenedores.append(i)\n",
    "len(Mercancias_en_transito_contenedores)\n",
    "\n",
    "for i in Mercancias_en_transito_contenedores_Julio:\n",
    "    Mercancias_en_transito_contenedores.append(i)\n",
    "len(Mercancias_en_transito_contenedores)\n",
    "\n",
    "for i in Mercancias_en_transito_contenedores_Agosto:\n",
    "    Mercancias_en_transito_contenedores.append(i)\n",
    "len(Mercancias_en_transito_contenedores)\n",
    "\n",
    "for i in Mercancias_en_transito_contenedores_Septiembre:\n",
    "    Mercancias_en_transito_contenedores.append(i)\n",
    "len(Mercancias_en_transito_contenedores)\n",
    "\n",
    "for i in Mercancias_en_transito_contenedores_Octubre:\n",
    "    Mercancias_en_transito_contenedores.append(i)\n",
    "len(Mercancias_en_transito_contenedores)\n",
    "\n",
    "for i in Mercancias_en_transito_contenedores_Noviembre:\n",
    "    Mercancias_en_transito_contenedores.append(i)\n",
    "len(Mercancias_en_transito_contenedores)\n",
    "\n",
    "for i in Mercancias_en_transito_contenedores_Diciembre:\n",
    "    Mercancias_en_transito_contenedores.append(i)\n",
    "len(Mercancias_en_transito_contenedores)"
   ]
  },
  {
   "cell_type": "code",
   "execution_count": 64,
   "metadata": {},
   "outputs": [],
   "source": [
    "df_listo['Mercancías En Tránsito En Contenedores t'] = Mercancias_en_transito_contenedores"
   ]
  },
  {
   "cell_type": "code",
   "execution_count": 65,
   "metadata": {},
   "outputs": [
    {
     "data": {
      "text/html": [
       "<div>\n",
       "<style scoped>\n",
       "    .dataframe tbody tr th:only-of-type {\n",
       "        vertical-align: middle;\n",
       "    }\n",
       "\n",
       "    .dataframe tbody tr th {\n",
       "        vertical-align: top;\n",
       "    }\n",
       "\n",
       "    .dataframe thead th {\n",
       "        text-align: right;\n",
       "    }\n",
       "</style>\n",
       "<table border=\"1\" class=\"dataframe\">\n",
       "  <thead>\n",
       "    <tr style=\"text-align: right;\">\n",
       "      <th></th>\n",
       "      <th>Meses</th>\n",
       "      <th>Autoridad_Portuaria</th>\n",
       "      <th>Graneles Líquidos t</th>\n",
       "      <th>Graneles Sólidos t</th>\n",
       "      <th>Mercancía General t</th>\n",
       "      <th>Mercancia General Contenedores t</th>\n",
       "      <th>Pesca t</th>\n",
       "      <th>Avituallamiento t</th>\n",
       "      <th>Avituallamiento De Combustibles Líquidos t</th>\n",
       "      <th>Tráfico Interior t</th>\n",
       "      <th>Mercancías En Tránsito t</th>\n",
       "      <th>Mercancías En Tránsito En Contenedores t</th>\n",
       "    </tr>\n",
       "  </thead>\n",
       "  <tbody>\n",
       "    <tr>\n",
       "      <th>0</th>\n",
       "      <td>Enero_2022</td>\n",
       "      <td>A Coruña</td>\n",
       "      <td>623294</td>\n",
       "      <td>464559</td>\n",
       "      <td>79616</td>\n",
       "      <td>0</td>\n",
       "      <td>1403.861</td>\n",
       "      <td>2998</td>\n",
       "      <td>2209</td>\n",
       "      <td>0</td>\n",
       "      <td>92330</td>\n",
       "      <td>0</td>\n",
       "    </tr>\n",
       "    <tr>\n",
       "      <th>1</th>\n",
       "      <td>Enero_2022</td>\n",
       "      <td>Alicante</td>\n",
       "      <td>0</td>\n",
       "      <td>119575</td>\n",
       "      <td>104040</td>\n",
       "      <td>97163</td>\n",
       "      <td>0.000</td>\n",
       "      <td>1484</td>\n",
       "      <td>129</td>\n",
       "      <td>0</td>\n",
       "      <td>4663</td>\n",
       "      <td>4663</td>\n",
       "    </tr>\n",
       "    <tr>\n",
       "      <th>2</th>\n",
       "      <td>Enero_2022</td>\n",
       "      <td>Almería</td>\n",
       "      <td>7512</td>\n",
       "      <td>266992</td>\n",
       "      <td>134447</td>\n",
       "      <td>35899</td>\n",
       "      <td>208.561</td>\n",
       "      <td>4601</td>\n",
       "      <td>2290</td>\n",
       "      <td>0</td>\n",
       "      <td>141</td>\n",
       "      <td>141</td>\n",
       "    </tr>\n",
       "    <tr>\n",
       "      <th>3</th>\n",
       "      <td>Enero_2022</td>\n",
       "      <td>Avilés</td>\n",
       "      <td>74703</td>\n",
       "      <td>189219</td>\n",
       "      <td>97892</td>\n",
       "      <td>0</td>\n",
       "      <td>627.525</td>\n",
       "      <td>4251</td>\n",
       "      <td>1596</td>\n",
       "      <td>0</td>\n",
       "      <td>3025</td>\n",
       "      <td>0</td>\n",
       "    </tr>\n",
       "    <tr>\n",
       "      <th>4</th>\n",
       "      <td>Enero_2022</td>\n",
       "      <td>Bahía de Algeciras</td>\n",
       "      <td>2268541</td>\n",
       "      <td>207212</td>\n",
       "      <td>6062831</td>\n",
       "      <td>4742267</td>\n",
       "      <td>23.820</td>\n",
       "      <td>286828</td>\n",
       "      <td>274068</td>\n",
       "      <td>260600</td>\n",
       "      <td>5304368</td>\n",
       "      <td>4253234</td>\n",
       "    </tr>\n",
       "  </tbody>\n",
       "</table>\n",
       "</div>"
      ],
      "text/plain": [
       "        Meses Autoridad_Portuaria  Graneles Líquidos t  Graneles Sólidos t  \\\n",
       "0  Enero_2022            A Coruña               623294              464559   \n",
       "1  Enero_2022            Alicante                    0              119575   \n",
       "2  Enero_2022             Almería                 7512              266992   \n",
       "3  Enero_2022              Avilés                74703              189219   \n",
       "4  Enero_2022  Bahía de Algeciras              2268541              207212   \n",
       "\n",
       "   Mercancía General t  Mercancia General Contenedores t   Pesca t  \\\n",
       "0                79616                                 0  1403.861   \n",
       "1               104040                             97163     0.000   \n",
       "2               134447                             35899   208.561   \n",
       "3                97892                                 0   627.525   \n",
       "4              6062831                           4742267    23.820   \n",
       "\n",
       "   Avituallamiento t  Avituallamiento De Combustibles Líquidos t  \\\n",
       "0               2998                                        2209   \n",
       "1               1484                                         129   \n",
       "2               4601                                        2290   \n",
       "3               4251                                        1596   \n",
       "4             286828                                      274068   \n",
       "\n",
       "   Tráfico Interior t  Mercancías En Tránsito t  \\\n",
       "0                   0                     92330   \n",
       "1                   0                      4663   \n",
       "2                   0                       141   \n",
       "3                   0                      3025   \n",
       "4              260600                   5304368   \n",
       "\n",
       "   Mercancías En Tránsito En Contenedores t  \n",
       "0                                         0  \n",
       "1                                      4663  \n",
       "2                                       141  \n",
       "3                                         0  \n",
       "4                                   4253234  "
      ]
     },
     "execution_count": 65,
     "metadata": {},
     "output_type": "execute_result"
    }
   ],
   "source": [
    "df_listo.head()"
   ]
  },
  {
   "cell_type": "markdown",
   "metadata": {},
   "source": [
    "## Tráfico Ro-Ro"
   ]
  },
  {
   "cell_type": "code",
   "execution_count": 66,
   "metadata": {},
   "outputs": [],
   "source": [
    "Trafico_ro_ro = df['Enero_2022 t Tráfico Ro-Ro']"
   ]
  },
  {
   "cell_type": "code",
   "execution_count": 67,
   "metadata": {},
   "outputs": [],
   "source": [
    "Trafico_ro_ro_Febrero = df['Febrero_2022 t Tráfico Ro-Ro']\n",
    "Trafico_ro_ro_Marzo = df['Marzo_2022 t Tráfico Ro-Ro']\n",
    "Trafico_ro_ro_Abril = df['Abril_2022 t Tráfico Ro-Ro']\n",
    "Trafico_ro_ro_Mayo = df['Mayo_2022 t Tráfico Ro-Ro']\n",
    "Trafico_ro_ro_Junio = df['Junio_2022 t Tráfico Ro-Ro']\n",
    "Trafico_ro_ro_Julio = df['Julio_2022 t Tráfico Ro-Ro']\n",
    "Trafico_ro_ro_Agosto = df['Agosto_2022 t Tráfico Ro-Ro']\n",
    "Trafico_ro_ro_Septiembre = df['Septiembre_2022 t Tráfico Ro-Ro']\n",
    "Trafico_ro_ro_Octubre = df['Octubre_2022 t Tráfico Ro-Ro']\n",
    "Trafico_ro_ro_Noviembre = df['Noviembre_2022 t Tráfico Ro-Ro']\n",
    "Trafico_ro_ro_Diciembre = df['Diciembre_2022 t Tráfico Ro-Ro']"
   ]
  },
  {
   "cell_type": "code",
   "execution_count": 68,
   "metadata": {},
   "outputs": [],
   "source": [
    "Trafico_ro_ro = Trafico_ro_ro.tolist()\n",
    "Trafico_ro_ro_Febrero = Trafico_ro_ro_Febrero.tolist()\n",
    "Trafico_ro_ro_Marzo = Trafico_ro_ro_Marzo.tolist()\n",
    "Trafico_ro_ro_Abril = Trafico_ro_ro_Abril.tolist()\n",
    "Trafico_ro_ro_Mayo = Trafico_ro_ro_Mayo.tolist()\n",
    "Trafico_ro_ro_Junio = Trafico_ro_ro_Junio.tolist()\n",
    "Trafico_ro_ro_Julio = Trafico_ro_ro_Julio.tolist()\n",
    "Trafico_ro_ro_Agosto = Trafico_ro_ro_Agosto.tolist()\n",
    "Trafico_ro_ro_Septiembre = Trafico_ro_ro_Septiembre.tolist()\n",
    "Trafico_ro_ro_Octubre = Trafico_ro_ro_Octubre.tolist()\n",
    "Trafico_ro_ro_Noviembre = Trafico_ro_ro_Noviembre.tolist()\n",
    "Trafico_ro_ro_Diciembre = Trafico_ro_ro_Diciembre.tolist()"
   ]
  },
  {
   "cell_type": "code",
   "execution_count": 69,
   "metadata": {},
   "outputs": [
    {
     "data": {
      "text/plain": [
       "336"
      ]
     },
     "execution_count": 69,
     "metadata": {},
     "output_type": "execute_result"
    }
   ],
   "source": [
    "for i in Trafico_ro_ro_Febrero:\n",
    "    Trafico_ro_ro.append(i)\n",
    "len(Trafico_ro_ro)\n",
    "\n",
    "for i in Trafico_ro_ro_Marzo:\n",
    "    Trafico_ro_ro.append(i)\n",
    "len(Trafico_ro_ro)\n",
    "\n",
    "for i in Trafico_ro_ro_Abril:\n",
    "    Trafico_ro_ro.append(i)\n",
    "len(Trafico_ro_ro)\n",
    "\n",
    "for i in Trafico_ro_ro_Mayo:\n",
    "    Trafico_ro_ro.append(i)\n",
    "len(Trafico_ro_ro)\n",
    "\n",
    "for i in Trafico_ro_ro_Junio:\n",
    "    Trafico_ro_ro.append(i)\n",
    "len(Trafico_ro_ro)\n",
    "\n",
    "for i in Trafico_ro_ro_Julio:\n",
    "    Trafico_ro_ro.append(i)\n",
    "len(Trafico_ro_ro)\n",
    "\n",
    "for i in Trafico_ro_ro_Agosto:\n",
    "    Trafico_ro_ro.append(i)\n",
    "len(Trafico_ro_ro)\n",
    "\n",
    "for i in Trafico_ro_ro_Septiembre:\n",
    "    Trafico_ro_ro.append(i)\n",
    "len(Trafico_ro_ro)\n",
    "\n",
    "for i in Trafico_ro_ro_Octubre:\n",
    "    Trafico_ro_ro.append(i)\n",
    "len(Trafico_ro_ro)\n",
    "\n",
    "for i in Trafico_ro_ro_Noviembre:\n",
    "    Trafico_ro_ro.append(i)\n",
    "len(Trafico_ro_ro)\n",
    "\n",
    "for i in Trafico_ro_ro_Diciembre:\n",
    "    Trafico_ro_ro.append(i)\n",
    "len(Trafico_ro_ro)"
   ]
  },
  {
   "cell_type": "code",
   "execution_count": 70,
   "metadata": {},
   "outputs": [],
   "source": [
    "df_listo['Tráfico Ro-Ro t'] = Trafico_ro_ro"
   ]
  },
  {
   "cell_type": "markdown",
   "metadata": {},
   "source": [
    "## UTIS Ro-Ro"
   ]
  },
  {
   "cell_type": "code",
   "execution_count": 71,
   "metadata": {},
   "outputs": [],
   "source": [
    "UTIS_ro_ro = df['Enero_2022 UTIS Ro-Ro']"
   ]
  },
  {
   "cell_type": "code",
   "execution_count": 72,
   "metadata": {},
   "outputs": [],
   "source": [
    "UTIS_ro_ro_Febrero = df['Febrero_2022 UTIS Ro-Ro']\n",
    "UTIS_ro_ro_Marzo = df['Marzo_2022 UTIS Ro-Ro']\n",
    "UTIS_ro_ro_Abril = df['Abril_2022 UTIS Ro-Ro']\n",
    "UTIS_ro_ro_Mayo = df['Mayo_2022 UTIS Ro-Ro']\n",
    "UTIS_ro_ro_Junio = df['Junio_2022 UTIS Ro-Ro']\n",
    "UTIS_ro_ro_Julio = df['Julio_2022 UTIS Ro-Ro']\n",
    "UTIS_ro_ro_Agosto = df['Agosto_2022 UTIS Ro-Ro']\n",
    "UTIS_ro_ro_Septiembre = df['Septiembre_2022 UTIS Ro-Ro']\n",
    "UTIS_ro_ro_Octubre = df['Octubre_2022 UTIS Ro-Ro']\n",
    "UTIS_ro_ro_Noviembre = df['Noviembre_2022 UTIS Ro-Ro']\n",
    "UTIS_ro_ro_Diciembre = df['Diciembre_2022 UTIS Ro-Ro']"
   ]
  },
  {
   "cell_type": "code",
   "execution_count": 73,
   "metadata": {},
   "outputs": [],
   "source": [
    "UTIS_ro_ro = UTIS_ro_ro.tolist()\n",
    "UTIS_ro_ro_Febrero = UTIS_ro_ro_Febrero.tolist()\n",
    "UTIS_ro_ro_Marzo = UTIS_ro_ro_Marzo.tolist()\n",
    "UTIS_ro_ro_Abril = UTIS_ro_ro_Abril.tolist()\n",
    "UTIS_ro_ro_Mayo = UTIS_ro_ro_Mayo.tolist()\n",
    "UTIS_ro_ro_Junio = UTIS_ro_ro_Junio.tolist()\n",
    "UTIS_ro_ro_Julio = UTIS_ro_ro_Julio.tolist()\n",
    "UTIS_ro_ro_Agosto = UTIS_ro_ro_Agosto.tolist()\n",
    "UTIS_ro_ro_Septiembre = UTIS_ro_ro_Septiembre.tolist()\n",
    "UTIS_ro_ro_Octubre = UTIS_ro_ro_Octubre.tolist()\n",
    "UTIS_ro_ro_Noviembre = UTIS_ro_ro_Noviembre.tolist()\n",
    "UTIS_ro_ro_Diciembre = UTIS_ro_ro_Diciembre.tolist()"
   ]
  },
  {
   "cell_type": "code",
   "execution_count": 74,
   "metadata": {},
   "outputs": [
    {
     "data": {
      "text/plain": [
       "336"
      ]
     },
     "execution_count": 74,
     "metadata": {},
     "output_type": "execute_result"
    }
   ],
   "source": [
    "for i in UTIS_ro_ro_Febrero:\n",
    "    UTIS_ro_ro.append(i)\n",
    "len(UTIS_ro_ro)\n",
    "\n",
    "for i in UTIS_ro_ro_Marzo:\n",
    "    UTIS_ro_ro.append(i)\n",
    "len(UTIS_ro_ro)\n",
    "\n",
    "for i in UTIS_ro_ro_Abril:\n",
    "    UTIS_ro_ro.append(i)\n",
    "len(UTIS_ro_ro)\n",
    "\n",
    "for i in UTIS_ro_ro_Mayo:\n",
    "    UTIS_ro_ro.append(i)\n",
    "len(UTIS_ro_ro)\n",
    "\n",
    "for i in UTIS_ro_ro_Junio:\n",
    "    UTIS_ro_ro.append(i)\n",
    "len(UTIS_ro_ro)\n",
    "\n",
    "for i in UTIS_ro_ro_Julio:\n",
    "    UTIS_ro_ro.append(i)\n",
    "len(UTIS_ro_ro)\n",
    "\n",
    "for i in UTIS_ro_ro_Agosto:\n",
    "    UTIS_ro_ro.append(i)\n",
    "len(UTIS_ro_ro)\n",
    "\n",
    "for i in UTIS_ro_ro_Septiembre:\n",
    "    UTIS_ro_ro.append(i)\n",
    "len(UTIS_ro_ro)\n",
    "\n",
    "for i in UTIS_ro_ro_Octubre:\n",
    "    UTIS_ro_ro.append(i)\n",
    "len(UTIS_ro_ro)\n",
    "\n",
    "for i in UTIS_ro_ro_Noviembre:\n",
    "    UTIS_ro_ro.append(i)\n",
    "len(UTIS_ro_ro)\n",
    "\n",
    "for i in UTIS_ro_ro_Diciembre:\n",
    "    UTIS_ro_ro.append(i)\n",
    "len(UTIS_ro_ro)"
   ]
  },
  {
   "cell_type": "code",
   "execution_count": 75,
   "metadata": {},
   "outputs": [],
   "source": [
    "df_listo['UTIS Ro-Ro'] = UTIS_ro_ro"
   ]
  },
  {
   "cell_type": "markdown",
   "metadata": {},
   "source": [
    "## TEUS Contenedores"
   ]
  },
  {
   "cell_type": "code",
   "execution_count": 76,
   "metadata": {},
   "outputs": [],
   "source": [
    "TEUS_contenedores = df['Enero_2022 TEUS Contenedores']"
   ]
  },
  {
   "cell_type": "code",
   "execution_count": 77,
   "metadata": {},
   "outputs": [],
   "source": [
    "TEUS_contenedores_Febrero = df['Febrero_2022 TEUS Contenedores']\n",
    "TEUS_contenedores_Marzo = df['Marzo_2022 TEUS Contenedores']\n",
    "TEUS_contenedores_Abril = df['Abril_2022 TEUS Contenedores']\n",
    "TEUS_contenedores_Mayo = df['Mayo_2022 TEUS Contenedores']\n",
    "TEUS_contenedores_Junio = df['Junio_2022 TEUS Contenedores']\n",
    "TEUS_contenedores_Julio = df['Julio_2022 TEUS Contenedores']\n",
    "TEUS_contenedores_Agosto = df['Agosto_2022 TEUS Contenedores']\n",
    "TEUS_contenedores_Septiembre = df['Septiembre_2022 TEUS Contenedores']\n",
    "TEUS_contenedores_Octubre = df['Octubre_2022 TEUS Contenedores']\n",
    "TEUS_contenedores_Noviembre = df['Noviembre_2022 TEUS Contenedores']\n",
    "TEUS_contenedores_Diciembre = df['Diciembre_2022 TEUS Contenedores']"
   ]
  },
  {
   "cell_type": "code",
   "execution_count": 78,
   "metadata": {},
   "outputs": [],
   "source": [
    "TEUS_contenedores = TEUS_contenedores.tolist()\n",
    "TEUS_contenedores_Febrero = TEUS_contenedores_Febrero.tolist()\n",
    "TEUS_contenedores_Marzo = TEUS_contenedores_Marzo.tolist()\n",
    "TEUS_contenedores_Abril = TEUS_contenedores_Abril.tolist()\n",
    "TEUS_contenedores_Mayo = TEUS_contenedores_Mayo.tolist()\n",
    "TEUS_contenedores_Junio = TEUS_contenedores_Junio.tolist()\n",
    "TEUS_contenedores_Julio = TEUS_contenedores_Julio.tolist()\n",
    "TEUS_contenedores_Agosto = TEUS_contenedores_Agosto.tolist()\n",
    "TEUS_contenedores_Septiembre = TEUS_contenedores_Septiembre.tolist()\n",
    "TEUS_contenedores_Octubre = TEUS_contenedores_Octubre.tolist()\n",
    "TEUS_contenedores_Noviembre = TEUS_contenedores_Noviembre.tolist()\n",
    "TEUS_contenedores_Diciembre = TEUS_contenedores_Diciembre.tolist()"
   ]
  },
  {
   "cell_type": "code",
   "execution_count": 79,
   "metadata": {},
   "outputs": [
    {
     "data": {
      "text/plain": [
       "336"
      ]
     },
     "execution_count": 79,
     "metadata": {},
     "output_type": "execute_result"
    }
   ],
   "source": [
    "for i in TEUS_contenedores_Febrero:\n",
    "    TEUS_contenedores.append(i)\n",
    "len(TEUS_contenedores)\n",
    "\n",
    "for i in TEUS_contenedores_Marzo:\n",
    "    TEUS_contenedores.append(i)\n",
    "len(TEUS_contenedores)\n",
    "\n",
    "for i in TEUS_contenedores_Abril:\n",
    "    TEUS_contenedores.append(i)\n",
    "len(TEUS_contenedores)\n",
    "\n",
    "for i in TEUS_contenedores_Mayo:\n",
    "    TEUS_contenedores.append(i)\n",
    "len(TEUS_contenedores)\n",
    "\n",
    "for i in TEUS_contenedores_Junio:\n",
    "    TEUS_contenedores.append(i)\n",
    "len(TEUS_contenedores)\n",
    "\n",
    "for i in TEUS_contenedores_Julio:\n",
    "    TEUS_contenedores.append(i)\n",
    "len(TEUS_contenedores)\n",
    "\n",
    "for i in TEUS_contenedores_Agosto:\n",
    "    TEUS_contenedores.append(i)\n",
    "len(TEUS_contenedores)\n",
    "\n",
    "for i in TEUS_contenedores_Septiembre:\n",
    "    TEUS_contenedores.append(i)\n",
    "len(TEUS_contenedores)\n",
    "\n",
    "for i in TEUS_contenedores_Octubre:\n",
    "    TEUS_contenedores.append(i)\n",
    "len(TEUS_contenedores)\n",
    "\n",
    "for i in TEUS_contenedores_Noviembre:\n",
    "    TEUS_contenedores.append(i)\n",
    "len(TEUS_contenedores)\n",
    "\n",
    "for i in TEUS_contenedores_Diciembre:\n",
    "    TEUS_contenedores.append(i)\n",
    "len(TEUS_contenedores)"
   ]
  },
  {
   "cell_type": "code",
   "execution_count": 80,
   "metadata": {},
   "outputs": [],
   "source": [
    "df_listo['TEUS Contenedores'] = TEUS_contenedores"
   ]
  },
  {
   "cell_type": "code",
   "execution_count": 81,
   "metadata": {},
   "outputs": [
    {
     "data": {
      "text/html": [
       "<div>\n",
       "<style scoped>\n",
       "    .dataframe tbody tr th:only-of-type {\n",
       "        vertical-align: middle;\n",
       "    }\n",
       "\n",
       "    .dataframe tbody tr th {\n",
       "        vertical-align: top;\n",
       "    }\n",
       "\n",
       "    .dataframe thead th {\n",
       "        text-align: right;\n",
       "    }\n",
       "</style>\n",
       "<table border=\"1\" class=\"dataframe\">\n",
       "  <thead>\n",
       "    <tr style=\"text-align: right;\">\n",
       "      <th></th>\n",
       "      <th>Meses</th>\n",
       "      <th>Autoridad_Portuaria</th>\n",
       "      <th>Graneles Líquidos t</th>\n",
       "      <th>Graneles Sólidos t</th>\n",
       "      <th>Mercancía General t</th>\n",
       "      <th>Mercancia General Contenedores t</th>\n",
       "      <th>Pesca t</th>\n",
       "      <th>Avituallamiento t</th>\n",
       "      <th>Avituallamiento De Combustibles Líquidos t</th>\n",
       "      <th>Tráfico Interior t</th>\n",
       "      <th>Mercancías En Tránsito t</th>\n",
       "      <th>Mercancías En Tránsito En Contenedores t</th>\n",
       "      <th>Tráfico Ro-Ro t</th>\n",
       "      <th>UTIS Ro-Ro</th>\n",
       "      <th>TEUS Contenedores</th>\n",
       "    </tr>\n",
       "  </thead>\n",
       "  <tbody>\n",
       "    <tr>\n",
       "      <th>331</th>\n",
       "      <td>Diciembre_2022</td>\n",
       "      <td>Sevilla</td>\n",
       "      <td>51969</td>\n",
       "      <td>182749</td>\n",
       "      <td>127179</td>\n",
       "      <td>86066</td>\n",
       "      <td>0.000</td>\n",
       "      <td>2116</td>\n",
       "      <td>1228</td>\n",
       "      <td>0</td>\n",
       "      <td>0</td>\n",
       "      <td>0</td>\n",
       "      <td>14138</td>\n",
       "      <td>729</td>\n",
       "      <td>12514.50</td>\n",
       "    </tr>\n",
       "    <tr>\n",
       "      <th>332</th>\n",
       "      <td>Diciembre_2022</td>\n",
       "      <td>Tarragona</td>\n",
       "      <td>1543352</td>\n",
       "      <td>796007</td>\n",
       "      <td>128277</td>\n",
       "      <td>34074</td>\n",
       "      <td>127.699</td>\n",
       "      <td>10591</td>\n",
       "      <td>5368</td>\n",
       "      <td>4987</td>\n",
       "      <td>279930</td>\n",
       "      <td>2929</td>\n",
       "      <td>19018</td>\n",
       "      <td>0</td>\n",
       "      <td>4666.00</td>\n",
       "    </tr>\n",
       "    <tr>\n",
       "      <th>333</th>\n",
       "      <td>Diciembre_2022</td>\n",
       "      <td>Valencia</td>\n",
       "      <td>449252</td>\n",
       "      <td>105512</td>\n",
       "      <td>5042300</td>\n",
       "      <td>3979226</td>\n",
       "      <td>58.746</td>\n",
       "      <td>36692</td>\n",
       "      <td>30085</td>\n",
       "      <td>0</td>\n",
       "      <td>2129238</td>\n",
       "      <td>2097188</td>\n",
       "      <td>912796</td>\n",
       "      <td>31764</td>\n",
       "      <td>351427.00</td>\n",
       "    </tr>\n",
       "    <tr>\n",
       "      <th>334</th>\n",
       "      <td>Diciembre_2022</td>\n",
       "      <td>Vigo</td>\n",
       "      <td>0</td>\n",
       "      <td>17530</td>\n",
       "      <td>340798</td>\n",
       "      <td>206317</td>\n",
       "      <td>3070.354</td>\n",
       "      <td>12944</td>\n",
       "      <td>7347</td>\n",
       "      <td>0</td>\n",
       "      <td>13215</td>\n",
       "      <td>8328</td>\n",
       "      <td>97691</td>\n",
       "      <td>886</td>\n",
       "      <td>18914.00</td>\n",
       "    </tr>\n",
       "    <tr>\n",
       "      <th>335</th>\n",
       "      <td>Diciembre_2022</td>\n",
       "      <td>Vilagarcía</td>\n",
       "      <td>8804</td>\n",
       "      <td>38928</td>\n",
       "      <td>48614</td>\n",
       "      <td>20839</td>\n",
       "      <td>0.000</td>\n",
       "      <td>526</td>\n",
       "      <td>125</td>\n",
       "      <td>0</td>\n",
       "      <td>0</td>\n",
       "      <td>0</td>\n",
       "      <td>0</td>\n",
       "      <td>0</td>\n",
       "      <td>2239.75</td>\n",
       "    </tr>\n",
       "  </tbody>\n",
       "</table>\n",
       "</div>"
      ],
      "text/plain": [
       "              Meses Autoridad_Portuaria  Graneles Líquidos t  \\\n",
       "331  Diciembre_2022             Sevilla                51969   \n",
       "332  Diciembre_2022           Tarragona              1543352   \n",
       "333  Diciembre_2022            Valencia               449252   \n",
       "334  Diciembre_2022                Vigo                    0   \n",
       "335  Diciembre_2022          Vilagarcía                 8804   \n",
       "\n",
       "     Graneles Sólidos t  Mercancía General t  \\\n",
       "331              182749               127179   \n",
       "332              796007               128277   \n",
       "333              105512              5042300   \n",
       "334               17530               340798   \n",
       "335               38928                48614   \n",
       "\n",
       "     Mercancia General Contenedores t   Pesca t  Avituallamiento t  \\\n",
       "331                             86066     0.000               2116   \n",
       "332                             34074   127.699              10591   \n",
       "333                           3979226    58.746              36692   \n",
       "334                            206317  3070.354              12944   \n",
       "335                             20839     0.000                526   \n",
       "\n",
       "     Avituallamiento De Combustibles Líquidos t  Tráfico Interior t  \\\n",
       "331                                        1228                   0   \n",
       "332                                        5368                4987   \n",
       "333                                       30085                   0   \n",
       "334                                        7347                   0   \n",
       "335                                         125                   0   \n",
       "\n",
       "     Mercancías En Tránsito t  Mercancías En Tránsito En Contenedores t  \\\n",
       "331                         0                                         0   \n",
       "332                    279930                                      2929   \n",
       "333                   2129238                                   2097188   \n",
       "334                     13215                                      8328   \n",
       "335                         0                                         0   \n",
       "\n",
       "     Tráfico Ro-Ro t  UTIS Ro-Ro  TEUS Contenedores  \n",
       "331            14138         729           12514.50  \n",
       "332            19018           0            4666.00  \n",
       "333           912796       31764          351427.00  \n",
       "334            97691         886           18914.00  \n",
       "335                0           0            2239.75  "
      ]
     },
     "execution_count": 81,
     "metadata": {},
     "output_type": "execute_result"
    }
   ],
   "source": [
    "df_listo.tail()"
   ]
  },
  {
   "cell_type": "markdown",
   "metadata": {},
   "source": [
    "## TEUS Contenedores En Tránsito"
   ]
  },
  {
   "cell_type": "code",
   "execution_count": 82,
   "metadata": {},
   "outputs": [],
   "source": [
    "TEUS_contenedores_en_transito = df['Enero_2022 TEUS Contenedores En Tránsito']"
   ]
  },
  {
   "cell_type": "code",
   "execution_count": 83,
   "metadata": {},
   "outputs": [],
   "source": [
    "TEUS_contenedores_en_transito_Febrero = df['Febrero_2022 TEUS Contenedores En Tránsito']\n",
    "TEUS_contenedores_en_transito_Marzo = df['Marzo_2022 TEUS Contenedores En Tránsito']\n",
    "TEUS_contenedores_en_transito_Abril = df['Abril_2022 TEUS Contenedores En Tránsito']\n",
    "TEUS_contenedores_en_transito_Mayo = df['Mayo_2022 TEUS Contenedores En Tránsito']\n",
    "TEUS_contenedores_en_transito_Junio = df['Junio_2022 TEUS Contenedores En Tránsito']\n",
    "TEUS_contenedores_en_transito_Julio = df['Julio_2022 TEUS Contenedores En Tránsito']\n",
    "TEUS_contenedores_en_transito_Agosto = df['Agosto_2022 TEUS Contenedores En Tránsito']\n",
    "TEUS_contenedores_en_transito_Septiembre = df['Septiembre_2022 TEUS Contenedores En Tránsito']\n",
    "TEUS_contenedores_en_transito_Octubre = df['Octubre_2022 TEUS Contenedores En Tránsito']\n",
    "TEUS_contenedores_en_transito_Noviembre = df['Noviembre_2022 TEUS Contenedores En Tránsito']\n",
    "TEUS_contenedores_en_transito_Diciembre = df['Diciembre_2022 TEUS Contenedores En Tránsito']"
   ]
  },
  {
   "cell_type": "code",
   "execution_count": 84,
   "metadata": {},
   "outputs": [],
   "source": [
    "TEUS_contenedores_en_transito = TEUS_contenedores_en_transito.tolist()\n",
    "TEUS_contenedores_en_transito_Febrero = TEUS_contenedores_en_transito_Febrero.tolist()\n",
    "TEUS_contenedores_en_transito_Marzo = TEUS_contenedores_en_transito_Marzo.tolist()\n",
    "TEUS_contenedores_en_transito_Abril = TEUS_contenedores_en_transito_Abril.tolist()\n",
    "TEUS_contenedores_en_transito_Mayo = TEUS_contenedores_en_transito_Mayo.tolist()\n",
    "TEUS_contenedores_en_transito_Junio = TEUS_contenedores_en_transito_Junio.tolist()\n",
    "TEUS_contenedores_en_transito_Julio = TEUS_contenedores_en_transito_Julio.tolist()\n",
    "TEUS_contenedores_en_transito_Agosto = TEUS_contenedores_en_transito_Agosto.tolist()\n",
    "TEUS_contenedores_en_transito_Septiembre = TEUS_contenedores_en_transito_Septiembre.tolist()\n",
    "TEUS_contenedores_en_transito_Octubre = TEUS_contenedores_en_transito_Octubre.tolist()\n",
    "TEUS_contenedores_en_transito_Noviembre = TEUS_contenedores_en_transito_Noviembre.tolist()\n",
    "TEUS_contenedores_en_transito_Diciembre = TEUS_contenedores_en_transito_Diciembre.tolist()"
   ]
  },
  {
   "cell_type": "code",
   "execution_count": 85,
   "metadata": {},
   "outputs": [
    {
     "data": {
      "text/plain": [
       "336"
      ]
     },
     "execution_count": 85,
     "metadata": {},
     "output_type": "execute_result"
    }
   ],
   "source": [
    "for i in TEUS_contenedores_en_transito_Febrero:\n",
    "    TEUS_contenedores_en_transito.append(i)\n",
    "len(TEUS_contenedores_en_transito)\n",
    "\n",
    "for i in TEUS_contenedores_en_transito_Marzo:\n",
    "    TEUS_contenedores_en_transito.append(i)\n",
    "len(TEUS_contenedores_en_transito)\n",
    "\n",
    "for i in TEUS_contenedores_en_transito_Abril:\n",
    "    TEUS_contenedores_en_transito.append(i)\n",
    "len(TEUS_contenedores_en_transito)\n",
    "\n",
    "for i in TEUS_contenedores_en_transito_Mayo:\n",
    "    TEUS_contenedores_en_transito.append(i)\n",
    "len(TEUS_contenedores_en_transito)\n",
    "\n",
    "for i in TEUS_contenedores_en_transito_Junio:\n",
    "    TEUS_contenedores_en_transito.append(i)\n",
    "len(TEUS_contenedores_en_transito)\n",
    "\n",
    "for i in TEUS_contenedores_en_transito_Julio:\n",
    "    TEUS_contenedores_en_transito.append(i)\n",
    "len(TEUS_contenedores_en_transito)\n",
    "\n",
    "for i in TEUS_contenedores_en_transito_Agosto:\n",
    "    TEUS_contenedores_en_transito.append(i)\n",
    "len(TEUS_contenedores_en_transito)\n",
    "\n",
    "for i in TEUS_contenedores_en_transito_Septiembre:\n",
    "    TEUS_contenedores_en_transito.append(i)\n",
    "len(TEUS_contenedores_en_transito)\n",
    "\n",
    "for i in TEUS_contenedores_en_transito_Octubre:\n",
    "    TEUS_contenedores_en_transito.append(i)\n",
    "len(TEUS_contenedores_en_transito)\n",
    "\n",
    "for i in TEUS_contenedores_en_transito_Noviembre:\n",
    "    TEUS_contenedores_en_transito.append(i)\n",
    "len(TEUS_contenedores_en_transito)\n",
    "\n",
    "for i in TEUS_contenedores_en_transito_Diciembre:\n",
    "    TEUS_contenedores_en_transito.append(i)\n",
    "len(TEUS_contenedores_en_transito)"
   ]
  },
  {
   "cell_type": "code",
   "execution_count": 86,
   "metadata": {},
   "outputs": [],
   "source": [
    "df_listo['TEUS Contenedores En Tránsito'] = TEUS_contenedores_en_transito"
   ]
  },
  {
   "cell_type": "markdown",
   "metadata": {},
   "source": [
    "## TEUS Contenedores Entrada-Salida Nacional"
   ]
  },
  {
   "cell_type": "code",
   "execution_count": 87,
   "metadata": {},
   "outputs": [],
   "source": [
    "TEUS_contenedores_entrada_salida_nacional = df['Enero_2022 TEUS Contenedores Entrada-Salida Nacional']"
   ]
  },
  {
   "cell_type": "code",
   "execution_count": 88,
   "metadata": {},
   "outputs": [],
   "source": [
    "TEUS_contenedores_entrada_salida_nacional_Febrero = df['Febrero_2022 TEUS Contenedores Entrada-Salida Nacional']\n",
    "TEUS_contenedores_entrada_salida_nacional_Marzo = df['Marzo_2022 TEUS Contenedores Entrada-Salida Nacional']\n",
    "TEUS_contenedores_entrada_salida_nacional_Abril = df['Abril_2022 TEUS Contenedores Entrada-Salida Nacional']\n",
    "TEUS_contenedores_entrada_salida_nacional_Mayo = df['Mayo_2022 TEUS Contenedores Entrada-Salida Nacional']\n",
    "TEUS_contenedores_entrada_salida_nacional_Junio = df['Junio_2022 TEUS Contenedores Entrada-Salida Nacional']\n",
    "TEUS_contenedores_entrada_salida_nacional_Julio = df['Julio_2022 TEUS Contenedores Entrada-Salida Nacional']\n",
    "TEUS_contenedores_entrada_salida_nacional_Agosto = df['Agosto_2022 TEUS Contenedores Entrada-Salida Nacional']\n",
    "TEUS_contenedores_entrada_salida_nacional_Septiembre = df['Septiembre_2022 TEUS Contenedores Entrada-Salida Nacional']\n",
    "TEUS_contenedores_entrada_salida_nacional_Octubre = df['Octubre_2022 TEUS Contenedores Entrada-Salida Nacional']\n",
    "TEUS_contenedores_entrada_salida_nacional_Noviembre = df['Noviembre_2022 TEUS Contenedores Entrada-Salida Nacional']\n",
    "TEUS_contenedores_entrada_salida_nacional_Diciembre = df['Diciembre_2022 TEUS Contenedores Entrada-Salida Nacional']"
   ]
  },
  {
   "cell_type": "code",
   "execution_count": 89,
   "metadata": {},
   "outputs": [],
   "source": [
    "TEUS_contenedores_entrada_salida_nacional = TEUS_contenedores_entrada_salida_nacional.tolist()\n",
    "TEUS_contenedores_entrada_salida_nacional_Febrero = TEUS_contenedores_entrada_salida_nacional_Febrero.tolist()\n",
    "TEUS_contenedores_entrada_salida_nacional_Marzo = TEUS_contenedores_entrada_salida_nacional_Marzo.tolist()\n",
    "TEUS_contenedores_entrada_salida_nacional_Abril = TEUS_contenedores_entrada_salida_nacional_Abril.tolist()\n",
    "TEUS_contenedores_entrada_salida_nacional_Mayo = TEUS_contenedores_entrada_salida_nacional_Mayo.tolist()\n",
    "TEUS_contenedores_entrada_salida_nacional_Junio = TEUS_contenedores_entrada_salida_nacional_Junio.tolist()\n",
    "TEUS_contenedores_entrada_salida_nacional_Julio = TEUS_contenedores_entrada_salida_nacional_Julio.tolist()\n",
    "TEUS_contenedores_entrada_salida_nacional_Agosto = TEUS_contenedores_entrada_salida_nacional_Agosto.tolist()\n",
    "TEUS_contenedores_entrada_salida_nacional_Septiembre = TEUS_contenedores_entrada_salida_nacional_Septiembre.tolist()\n",
    "TEUS_contenedores_entrada_salida_nacional_Octubre = TEUS_contenedores_entrada_salida_nacional_Octubre.tolist()\n",
    "TEUS_contenedores_entrada_salida_nacional_Noviembre = TEUS_contenedores_entrada_salida_nacional_Noviembre.tolist()\n",
    "TEUS_contenedores_entrada_salida_nacional_Diciembre = TEUS_contenedores_entrada_salida_nacional_Diciembre.tolist()"
   ]
  },
  {
   "cell_type": "code",
   "execution_count": 90,
   "metadata": {},
   "outputs": [
    {
     "data": {
      "text/plain": [
       "336"
      ]
     },
     "execution_count": 90,
     "metadata": {},
     "output_type": "execute_result"
    }
   ],
   "source": [
    "for i in TEUS_contenedores_entrada_salida_nacional_Febrero:\n",
    "    TEUS_contenedores_entrada_salida_nacional.append(i)\n",
    "len(TEUS_contenedores_entrada_salida_nacional)\n",
    "\n",
    "for i in TEUS_contenedores_entrada_salida_nacional_Marzo:\n",
    "    TEUS_contenedores_entrada_salida_nacional.append(i)\n",
    "len(TEUS_contenedores_entrada_salida_nacional)\n",
    "\n",
    "for i in TEUS_contenedores_entrada_salida_nacional_Abril:\n",
    "    TEUS_contenedores_entrada_salida_nacional.append(i)\n",
    "len(TEUS_contenedores_entrada_salida_nacional)\n",
    "\n",
    "for i in TEUS_contenedores_entrada_salida_nacional_Mayo:\n",
    "    TEUS_contenedores_entrada_salida_nacional.append(i)\n",
    "len(TEUS_contenedores_entrada_salida_nacional)\n",
    "\n",
    "for i in TEUS_contenedores_entrada_salida_nacional_Junio:\n",
    "    TEUS_contenedores_entrada_salida_nacional.append(i)\n",
    "len(TEUS_contenedores_entrada_salida_nacional)\n",
    "\n",
    "for i in TEUS_contenedores_entrada_salida_nacional_Julio:\n",
    "    TEUS_contenedores_entrada_salida_nacional.append(i)\n",
    "len(TEUS_contenedores_entrada_salida_nacional)\n",
    "\n",
    "for i in TEUS_contenedores_entrada_salida_nacional_Agosto:\n",
    "    TEUS_contenedores_entrada_salida_nacional.append(i)\n",
    "len(TEUS_contenedores_entrada_salida_nacional)\n",
    "\n",
    "for i in TEUS_contenedores_entrada_salida_nacional_Septiembre:\n",
    "    TEUS_contenedores_entrada_salida_nacional.append(i)\n",
    "len(TEUS_contenedores_entrada_salida_nacional)\n",
    "\n",
    "for i in TEUS_contenedores_entrada_salida_nacional_Octubre:\n",
    "    TEUS_contenedores_entrada_salida_nacional.append(i)\n",
    "len(TEUS_contenedores_entrada_salida_nacional)\n",
    "\n",
    "for i in TEUS_contenedores_entrada_salida_nacional_Noviembre:\n",
    "    TEUS_contenedores_entrada_salida_nacional.append(i)\n",
    "len(TEUS_contenedores_entrada_salida_nacional)\n",
    "\n",
    "for i in TEUS_contenedores_entrada_salida_nacional_Diciembre:\n",
    "    TEUS_contenedores_entrada_salida_nacional.append(i)\n",
    "len(TEUS_contenedores_entrada_salida_nacional)"
   ]
  },
  {
   "cell_type": "code",
   "execution_count": 91,
   "metadata": {},
   "outputs": [],
   "source": [
    "df_listo['TEUS Contenedores Entrada-Salida Nacional'] = TEUS_contenedores_entrada_salida_nacional"
   ]
  },
  {
   "cell_type": "markdown",
   "metadata": {},
   "source": [
    "## TEUS Contenedores Entrada-Salida Exterior"
   ]
  },
  {
   "cell_type": "code",
   "execution_count": 92,
   "metadata": {},
   "outputs": [],
   "source": [
    "TEUS_contenedores_entrada_salida_exterior = df['Enero_2022 TEUS Contenedores Entrada-Salida Exterior']"
   ]
  },
  {
   "cell_type": "code",
   "execution_count": 93,
   "metadata": {},
   "outputs": [],
   "source": [
    "TEUS_contenedores_entrada_salida_exterior_Febrero = df['Febrero_2022 TEUS Contenedores Entrada-Salida Exterior']\n",
    "TEUS_contenedores_entrada_salida_exterior_Marzo = df['Marzo_2022 TEUS Contenedores Entrada-Salida Exterior']\n",
    "TEUS_contenedores_entrada_salida_exterior_Abril = df['Abril_2022 TEUS Contenedores Entrada-Salida Exterior']\n",
    "TEUS_contenedores_entrada_salida_exterior_Mayo = df['Mayo_2022 TEUS Contenedores Entrada-Salida Exterior']\n",
    "TEUS_contenedores_entrada_salida_exterior_Junio = df['Junio_2022 TEUS Contenedores Entrada-Salida Exterior']\n",
    "TEUS_contenedores_entrada_salida_exterior_Julio = df['Julio_2022 TEUS Contenedores Entrada-Salida Exterior']\n",
    "TEUS_contenedores_entrada_salida_exterior_Agosto = df['Agosto_2022 TEUS Contenedores Entrada-Salida Exterior']\n",
    "TEUS_contenedores_entrada_salida_exterior_Septiembre = df['Septiembre_2022 TEUS Contenedores Entrada-Salida Exterior']\n",
    "TEUS_contenedores_entrada_salida_exterior_Octubre = df['Octubre_2022 TEUS Contenedores Entrada-Salida Exterior']\n",
    "TEUS_contenedores_entrada_salida_exterior_Noviembre = df['Noviembre_2022 TEUS Contenedores Entrada-Salida Exterior']\n",
    "TEUS_contenedores_entrada_salida_exterior_Diciembre = df['Diciembre_2022 TEUS Contenedores Entrada-Salida Exterior']"
   ]
  },
  {
   "cell_type": "code",
   "execution_count": 94,
   "metadata": {},
   "outputs": [],
   "source": [
    "TEUS_contenedores_entrada_salida_exterior = TEUS_contenedores_entrada_salida_exterior.tolist()\n",
    "TEUS_contenedores_entrada_salida_exterior_Febrero = TEUS_contenedores_entrada_salida_exterior_Febrero.tolist()\n",
    "TEUS_contenedores_entrada_salida_exterior_Marzo = TEUS_contenedores_entrada_salida_exterior_Marzo.tolist()\n",
    "TEUS_contenedores_entrada_salida_exterior_Abril = TEUS_contenedores_entrada_salida_exterior_Abril.tolist()\n",
    "TEUS_contenedores_entrada_salida_exterior_Mayo = TEUS_contenedores_entrada_salida_exterior_Mayo.tolist()\n",
    "TEUS_contenedores_entrada_salida_exterior_Junio = TEUS_contenedores_entrada_salida_exterior_Junio.tolist()\n",
    "TEUS_contenedores_entrada_salida_exterior_Julio = TEUS_contenedores_entrada_salida_exterior_Julio.tolist()\n",
    "TEUS_contenedores_entrada_salida_exterior_Agosto = TEUS_contenedores_entrada_salida_exterior_Agosto.tolist()\n",
    "TEUS_contenedores_entrada_salida_exterior_Septiembre = TEUS_contenedores_entrada_salida_exterior_Septiembre.tolist()\n",
    "TEUS_contenedores_entrada_salida_exterior_Octubre = TEUS_contenedores_entrada_salida_exterior_Octubre.tolist()\n",
    "TEUS_contenedores_entrada_salida_exterior_Noviembre = TEUS_contenedores_entrada_salida_exterior_Noviembre.tolist()\n",
    "TEUS_contenedores_entrada_salida_exterior_Diciembre = TEUS_contenedores_entrada_salida_exterior_Diciembre.tolist()"
   ]
  },
  {
   "cell_type": "code",
   "execution_count": 95,
   "metadata": {},
   "outputs": [
    {
     "data": {
      "text/plain": [
       "336"
      ]
     },
     "execution_count": 95,
     "metadata": {},
     "output_type": "execute_result"
    }
   ],
   "source": [
    "for i in TEUS_contenedores_entrada_salida_exterior_Febrero:\n",
    "    TEUS_contenedores_entrada_salida_exterior.append(i)\n",
    "len(TEUS_contenedores_entrada_salida_exterior)\n",
    "\n",
    "for i in TEUS_contenedores_entrada_salida_exterior_Marzo:\n",
    "    TEUS_contenedores_entrada_salida_exterior.append(i)\n",
    "len(TEUS_contenedores_entrada_salida_exterior)\n",
    "\n",
    "for i in TEUS_contenedores_entrada_salida_exterior_Abril:\n",
    "    TEUS_contenedores_entrada_salida_exterior.append(i)\n",
    "len(TEUS_contenedores_entrada_salida_exterior)\n",
    "\n",
    "for i in TEUS_contenedores_entrada_salida_exterior_Mayo:\n",
    "    TEUS_contenedores_entrada_salida_exterior.append(i)\n",
    "len(TEUS_contenedores_entrada_salida_exterior)\n",
    "\n",
    "for i in TEUS_contenedores_entrada_salida_exterior_Junio:\n",
    "    TEUS_contenedores_entrada_salida_exterior.append(i)\n",
    "len(TEUS_contenedores_entrada_salida_exterior)\n",
    "\n",
    "for i in TEUS_contenedores_entrada_salida_exterior_Julio:\n",
    "    TEUS_contenedores_entrada_salida_exterior.append(i)\n",
    "len(TEUS_contenedores_entrada_salida_exterior)\n",
    "\n",
    "for i in TEUS_contenedores_entrada_salida_exterior_Agosto:\n",
    "    TEUS_contenedores_entrada_salida_exterior.append(i)\n",
    "len(TEUS_contenedores_entrada_salida_exterior)\n",
    "\n",
    "for i in TEUS_contenedores_entrada_salida_exterior_Septiembre:\n",
    "    TEUS_contenedores_entrada_salida_exterior.append(i)\n",
    "len(TEUS_contenedores_entrada_salida_exterior)\n",
    "\n",
    "for i in TEUS_contenedores_entrada_salida_exterior_Octubre:\n",
    "    TEUS_contenedores_entrada_salida_exterior.append(i)\n",
    "len(TEUS_contenedores_entrada_salida_exterior)\n",
    "\n",
    "for i in TEUS_contenedores_entrada_salida_exterior_Noviembre:\n",
    "    TEUS_contenedores_entrada_salida_exterior.append(i)\n",
    "len(TEUS_contenedores_entrada_salida_exterior)\n",
    "\n",
    "for i in TEUS_contenedores_entrada_salida_exterior_Diciembre:\n",
    "    TEUS_contenedores_entrada_salida_exterior.append(i)\n",
    "len(TEUS_contenedores_entrada_salida_exterior)"
   ]
  },
  {
   "cell_type": "code",
   "execution_count": 96,
   "metadata": {},
   "outputs": [],
   "source": [
    "df_listo['TEUS Contenedores Entrada-Salida Exterior'] = TEUS_contenedores_entrada_salida_exterior"
   ]
  },
  {
   "cell_type": "markdown",
   "metadata": {},
   "source": [
    "## Unidades Buques Mercantes"
   ]
  },
  {
   "cell_type": "code",
   "execution_count": 97,
   "metadata": {},
   "outputs": [],
   "source": [
    "Unidades_buques_mercantes = df['Enero_2022 Unidades Buques Mercantes']"
   ]
  },
  {
   "cell_type": "code",
   "execution_count": 98,
   "metadata": {},
   "outputs": [],
   "source": [
    "Unidades_buques_mercantes_Febrero = df['Febrero_2022 Unidades Buques Mercantes']\n",
    "Unidades_buques_mercantes_Marzo = df['Marzo_2022 Unidades Buques Mercantes']\n",
    "Unidades_buques_mercantes_Abril = df['Abril_2022 Unidades Buques Mercantes']\n",
    "Unidades_buques_mercantes_Mayo = df['Mayo_2022 Unidades Buques Mercantes']\n",
    "Unidades_buques_mercantes_Junio = df['Junio_2022 Unidades Buques Mercantes']\n",
    "Unidades_buques_mercantes_Julio = df['Julio_2022 Unidades Buques Mercantes']\n",
    "Unidades_buques_mercantes_Agosto = df['Agosto_2022 Unidades Buques Mercantes']\n",
    "Unidades_buques_mercantes_Septiembre = df['Septiembre_2022 Unidades Buques Mercantes']\n",
    "Unidades_buques_mercantes_Octubre = df['Octubre_2022 Unidades Buques Mercantes']\n",
    "Unidades_buques_mercantes_Noviembre = df['Noviembre_2022 Unidades Buques Mercantes']\n",
    "Unidades_buques_mercantes_Diciembre = df['Diciembre_2022 Unidades Buques Mercantes']"
   ]
  },
  {
   "cell_type": "code",
   "execution_count": 99,
   "metadata": {},
   "outputs": [],
   "source": [
    "Unidades_buques_mercantes = Unidades_buques_mercantes.tolist()\n",
    "Unidades_buques_mercantes_Febrero = Unidades_buques_mercantes_Febrero.tolist()\n",
    "Unidades_buques_mercantes_Marzo = Unidades_buques_mercantes_Marzo.tolist()\n",
    "Unidades_buques_mercantes_Abril = Unidades_buques_mercantes_Abril.tolist()\n",
    "Unidades_buques_mercantes_Mayo = Unidades_buques_mercantes_Mayo.tolist()\n",
    "Unidades_buques_mercantes_Junio = Unidades_buques_mercantes_Junio.tolist()\n",
    "Unidades_buques_mercantes_Julio = Unidades_buques_mercantes_Julio.tolist()\n",
    "Unidades_buques_mercantes_Agosto = Unidades_buques_mercantes_Agosto.tolist()\n",
    "Unidades_buques_mercantes_Septiembre = Unidades_buques_mercantes_Septiembre.tolist()\n",
    "Unidades_buques_mercantes_Octubre = Unidades_buques_mercantes_Octubre.tolist()\n",
    "Unidades_buques_mercantes_Noviembre = Unidades_buques_mercantes_Noviembre.tolist()\n",
    "Unidades_buques_mercantes_Diciembre = Unidades_buques_mercantes_Diciembre.tolist()"
   ]
  },
  {
   "cell_type": "code",
   "execution_count": 100,
   "metadata": {},
   "outputs": [
    {
     "data": {
      "text/plain": [
       "336"
      ]
     },
     "execution_count": 100,
     "metadata": {},
     "output_type": "execute_result"
    }
   ],
   "source": [
    "for i in Unidades_buques_mercantes_Febrero:\n",
    "    Unidades_buques_mercantes.append(i)\n",
    "len(Unidades_buques_mercantes)\n",
    "\n",
    "for i in Unidades_buques_mercantes_Marzo:\n",
    "    Unidades_buques_mercantes.append(i)\n",
    "len(Unidades_buques_mercantes)\n",
    "\n",
    "for i in Unidades_buques_mercantes_Abril:\n",
    "    Unidades_buques_mercantes.append(i)\n",
    "len(Unidades_buques_mercantes)\n",
    "\n",
    "for i in Unidades_buques_mercantes_Mayo:\n",
    "    Unidades_buques_mercantes.append(i)\n",
    "len(Unidades_buques_mercantes)\n",
    "\n",
    "for i in Unidades_buques_mercantes_Junio:\n",
    "    Unidades_buques_mercantes.append(i)\n",
    "len(Unidades_buques_mercantes)\n",
    "\n",
    "for i in Unidades_buques_mercantes_Julio:\n",
    "    Unidades_buques_mercantes.append(i)\n",
    "len(Unidades_buques_mercantes)\n",
    "\n",
    "for i in Unidades_buques_mercantes_Agosto:\n",
    "    Unidades_buques_mercantes.append(i)\n",
    "len(Unidades_buques_mercantes)\n",
    "\n",
    "for i in Unidades_buques_mercantes_Septiembre:\n",
    "    Unidades_buques_mercantes.append(i)\n",
    "len(Unidades_buques_mercantes)\n",
    "\n",
    "for i in Unidades_buques_mercantes_Octubre:\n",
    "    Unidades_buques_mercantes.append(i)\n",
    "len(Unidades_buques_mercantes)\n",
    "\n",
    "for i in Unidades_buques_mercantes_Noviembre:\n",
    "    Unidades_buques_mercantes.append(i)\n",
    "len(Unidades_buques_mercantes)\n",
    "\n",
    "for i in Unidades_buques_mercantes_Diciembre:\n",
    "    Unidades_buques_mercantes.append(i)\n",
    "len(Unidades_buques_mercantes)"
   ]
  },
  {
   "cell_type": "code",
   "execution_count": 101,
   "metadata": {},
   "outputs": [],
   "source": [
    "df_listo['Unidades Buques Mercantes'] = Unidades_buques_mercantes"
   ]
  },
  {
   "cell_type": "markdown",
   "metadata": {},
   "source": [
    "## G.T. Buques Mercantes"
   ]
  },
  {
   "cell_type": "code",
   "execution_count": 102,
   "metadata": {},
   "outputs": [],
   "source": [
    "G_T_buques_mercantes = df['Enero_2022 G.T. Buques Mercantes']"
   ]
  },
  {
   "cell_type": "code",
   "execution_count": 103,
   "metadata": {},
   "outputs": [],
   "source": [
    "G_T_buques_mercantes_Febrero = df['Febrero_2022 G.T. Buques Mercantes']\n",
    "G_T_buques_mercantes_Marzo = df['Marzo_2022 G.T. Buques Mercantes']\n",
    "G_T_buques_mercantes_Abril = df['Abril_2022 G.T. Buques Mercantes']\n",
    "G_T_buques_mercantes_Mayo = df['Mayo_2022 G.T. Buques Mercantes']\n",
    "G_T_buques_mercantes_Junio = df['Junio_2022 G.T. Buques Mercantes']\n",
    "G_T_buques_mercantes_Julio = df['Julio_2022 G.T. Buques Mercantes']\n",
    "G_T_buques_mercantes_Agosto = df['Agosto_2022 G.T. Buques Mercantes']\n",
    "G_T_buques_mercantes_Septiembre = df['Septiembre_2022 G.T. Buques Mercantes']\n",
    "G_T_buques_mercantes_Octubre = df['Octubre_2022 G.T. Buques Mercantes']\n",
    "G_T_buques_mercantes_Noviembre = df['Noviembre_2022 G.T. Buques Mercantes']\n",
    "G_T_buques_mercantes_Diciembre = df['Diciembre_2022 G.T. Buques Mercantes']"
   ]
  },
  {
   "cell_type": "code",
   "execution_count": 104,
   "metadata": {},
   "outputs": [],
   "source": [
    "G_T_buques_mercantes = G_T_buques_mercantes.tolist()\n",
    "G_T_buques_mercantes_Febrero = G_T_buques_mercantes_Febrero.tolist()\n",
    "G_T_buques_mercantes_Marzo = G_T_buques_mercantes_Marzo.tolist()\n",
    "G_T_buques_mercantes_Abril = G_T_buques_mercantes_Abril.tolist()\n",
    "G_T_buques_mercantes_Mayo = G_T_buques_mercantes_Mayo.tolist()\n",
    "G_T_buques_mercantes_Junio = G_T_buques_mercantes_Junio.tolist()\n",
    "G_T_buques_mercantes_Julio = G_T_buques_mercantes_Julio.tolist()\n",
    "G_T_buques_mercantes_Agosto = G_T_buques_mercantes_Agosto.tolist()\n",
    "G_T_buques_mercantes_Septiembre = G_T_buques_mercantes_Septiembre.tolist()\n",
    "G_T_buques_mercantes_Octubre = G_T_buques_mercantes_Octubre.tolist()\n",
    "G_T_buques_mercantes_Noviembre = G_T_buques_mercantes_Noviembre.tolist()\n",
    "G_T_buques_mercantes_Diciembre = G_T_buques_mercantes_Diciembre.tolist()"
   ]
  },
  {
   "cell_type": "code",
   "execution_count": 105,
   "metadata": {},
   "outputs": [
    {
     "data": {
      "text/plain": [
       "336"
      ]
     },
     "execution_count": 105,
     "metadata": {},
     "output_type": "execute_result"
    }
   ],
   "source": [
    "for i in G_T_buques_mercantes_Febrero:\n",
    "    G_T_buques_mercantes.append(i)\n",
    "len(G_T_buques_mercantes)\n",
    "\n",
    "for i in G_T_buques_mercantes_Marzo:\n",
    "    G_T_buques_mercantes.append(i)\n",
    "len(G_T_buques_mercantes)\n",
    "\n",
    "for i in G_T_buques_mercantes_Abril:\n",
    "    G_T_buques_mercantes.append(i)\n",
    "len(G_T_buques_mercantes)\n",
    "\n",
    "for i in G_T_buques_mercantes_Mayo:\n",
    "    G_T_buques_mercantes.append(i)\n",
    "len(G_T_buques_mercantes)\n",
    "\n",
    "for i in G_T_buques_mercantes_Junio:\n",
    "    G_T_buques_mercantes.append(i)\n",
    "len(G_T_buques_mercantes)\n",
    "\n",
    "for i in G_T_buques_mercantes_Julio:\n",
    "    G_T_buques_mercantes.append(i)\n",
    "len(G_T_buques_mercantes)\n",
    "\n",
    "for i in G_T_buques_mercantes_Agosto:\n",
    "    G_T_buques_mercantes.append(i)\n",
    "len(G_T_buques_mercantes)\n",
    "\n",
    "for i in G_T_buques_mercantes_Septiembre:\n",
    "    G_T_buques_mercantes.append(i)\n",
    "len(G_T_buques_mercantes)\n",
    "\n",
    "for i in G_T_buques_mercantes_Octubre:\n",
    "    G_T_buques_mercantes.append(i)\n",
    "len(G_T_buques_mercantes)\n",
    "\n",
    "for i in G_T_buques_mercantes_Noviembre:\n",
    "    G_T_buques_mercantes.append(i)\n",
    "len(G_T_buques_mercantes)\n",
    "\n",
    "for i in G_T_buques_mercantes_Diciembre:\n",
    "    G_T_buques_mercantes.append(i)\n",
    "len(G_T_buques_mercantes)"
   ]
  },
  {
   "cell_type": "code",
   "execution_count": 106,
   "metadata": {},
   "outputs": [],
   "source": [
    "df_listo['G.T. Buques Mercantes'] = G_T_buques_mercantes"
   ]
  },
  {
   "cell_type": "markdown",
   "metadata": {},
   "source": [
    "## Unidades Buques De Crucero"
   ]
  },
  {
   "cell_type": "code",
   "execution_count": 107,
   "metadata": {},
   "outputs": [],
   "source": [
    "Unidades_buques_crucero = df['Enero_2022 Unidades Buques De Crucero']"
   ]
  },
  {
   "cell_type": "code",
   "execution_count": 108,
   "metadata": {},
   "outputs": [],
   "source": [
    "Unidades_buques_crucero_Febrero = df['Febrero_2022 Unidades Buques De Crucero']\n",
    "Unidades_buques_crucero_Marzo = df['Marzo_2022 Unidades Buques De Crucero']\n",
    "Unidades_buques_crucero_Abril = df['Abril_2022 Unidades Buques De Crucero']\n",
    "Unidades_buques_crucero_Mayo = df['Mayo_2022 Unidades Buques De Crucero']\n",
    "Unidades_buques_crucero_Junio = df['Junio_2022 Unidades Buques De Crucero']\n",
    "Unidades_buques_crucero_Julio = df['Julio_2022 Unidades Buques De Crucero']\n",
    "Unidades_buques_crucero_Agosto = df['Agosto_2022 Unidades Buques De Crucero']\n",
    "Unidades_buques_crucero_Septiembre = df['Septiembre_2022 Unidades Buques De Crucero']\n",
    "Unidades_buques_crucero_Octubre = df['Octubre_2022 Unidades Buques De Crucero']\n",
    "Unidades_buques_crucero_Noviembre = df['Noviembre_2022 Unidades Buques De Crucero']\n",
    "Unidades_buques_crucero_Diciembre = df['Diciembre_2022 Unidades Buques De Crucero']"
   ]
  },
  {
   "cell_type": "code",
   "execution_count": 109,
   "metadata": {},
   "outputs": [],
   "source": [
    "Unidades_buques_crucero = Unidades_buques_crucero.tolist()\n",
    "Unidades_buques_crucero_Febrero = Unidades_buques_crucero_Febrero.tolist()\n",
    "Unidades_buques_crucero_Marzo = Unidades_buques_crucero_Marzo.tolist()\n",
    "Unidades_buques_crucero_Abril = Unidades_buques_crucero_Abril.tolist()\n",
    "Unidades_buques_crucero_Mayo = Unidades_buques_crucero_Mayo.tolist()\n",
    "Unidades_buques_crucero_Junio = Unidades_buques_crucero_Junio.tolist()\n",
    "Unidades_buques_crucero_Julio = Unidades_buques_crucero_Julio.tolist()\n",
    "Unidades_buques_crucero_Agosto = Unidades_buques_crucero_Agosto.tolist()\n",
    "Unidades_buques_crucero_Septiembre = Unidades_buques_crucero_Septiembre.tolist()\n",
    "Unidades_buques_crucero_Octubre = Unidades_buques_crucero_Octubre.tolist()\n",
    "Unidades_buques_crucero_Noviembre = Unidades_buques_crucero_Noviembre.tolist()\n",
    "Unidades_buques_crucero_Diciembre = Unidades_buques_crucero_Diciembre.tolist()"
   ]
  },
  {
   "cell_type": "code",
   "execution_count": 110,
   "metadata": {},
   "outputs": [
    {
     "data": {
      "text/plain": [
       "336"
      ]
     },
     "execution_count": 110,
     "metadata": {},
     "output_type": "execute_result"
    }
   ],
   "source": [
    "for i in Unidades_buques_crucero_Febrero:\n",
    "    Unidades_buques_crucero.append(i)\n",
    "len(Unidades_buques_crucero)\n",
    "\n",
    "for i in Unidades_buques_crucero_Marzo:\n",
    "    Unidades_buques_crucero.append(i)\n",
    "len(Unidades_buques_crucero)\n",
    "\n",
    "for i in Unidades_buques_crucero_Abril:\n",
    "    Unidades_buques_crucero.append(i)\n",
    "len(Unidades_buques_crucero)\n",
    "\n",
    "for i in Unidades_buques_crucero_Mayo:\n",
    "    Unidades_buques_crucero.append(i)\n",
    "len(Unidades_buques_crucero)\n",
    "\n",
    "for i in Unidades_buques_crucero_Junio:\n",
    "    Unidades_buques_crucero.append(i)\n",
    "len(Unidades_buques_crucero)\n",
    "\n",
    "for i in Unidades_buques_crucero_Julio:\n",
    "    Unidades_buques_crucero.append(i)\n",
    "len(Unidades_buques_crucero)\n",
    "\n",
    "for i in Unidades_buques_crucero_Agosto:\n",
    "    Unidades_buques_crucero.append(i)\n",
    "len(Unidades_buques_crucero)\n",
    "\n",
    "for i in Unidades_buques_crucero_Septiembre:\n",
    "    Unidades_buques_crucero.append(i)\n",
    "len(Unidades_buques_crucero)\n",
    "\n",
    "for i in Unidades_buques_crucero_Octubre:\n",
    "    Unidades_buques_crucero.append(i)\n",
    "len(Unidades_buques_crucero)\n",
    "\n",
    "for i in Unidades_buques_crucero_Noviembre:\n",
    "    Unidades_buques_crucero.append(i)\n",
    "len(Unidades_buques_crucero)\n",
    "\n",
    "for i in Unidades_buques_crucero_Diciembre:\n",
    "    Unidades_buques_crucero.append(i)\n",
    "len(Unidades_buques_crucero)"
   ]
  },
  {
   "cell_type": "code",
   "execution_count": 111,
   "metadata": {},
   "outputs": [],
   "source": [
    "df_listo['Unidades Buques De Crucero'] = Unidades_buques_crucero"
   ]
  },
  {
   "cell_type": "markdown",
   "metadata": {},
   "source": [
    "## Pasajeros En Régimen De Transporte Y De Crucero"
   ]
  },
  {
   "cell_type": "code",
   "execution_count": 112,
   "metadata": {},
   "outputs": [],
   "source": [
    "Pasajeros_regimen_transporte_crucero = df['Enero_2022 Pasajeros En Régimen De Transporte Y De Crucero']"
   ]
  },
  {
   "cell_type": "code",
   "execution_count": 113,
   "metadata": {},
   "outputs": [],
   "source": [
    "Pasajeros_regimen_transporte_crucero_Febrero = df['Febrero_2022 Pasajeros En Régimen De Transporte Y De Crucero']\n",
    "Pasajeros_regimen_transporte_crucero_Marzo = df['Marzo_2022 Pasajeros En Régimen De Transporte Y De Crucero']\n",
    "Pasajeros_regimen_transporte_crucero_Abril = df['Abril_2022 Pasajeros En Régimen De Transporte Y De Crucero']\n",
    "Pasajeros_regimen_transporte_crucero_Mayo = df['Mayo_2022 Pasajeros En Régimen De Transporte Y De Crucero']\n",
    "Pasajeros_regimen_transporte_crucero_Junio = df['Junio_2022 Pasajeros En Régimen De Transporte Y De Crucero']\n",
    "Pasajeros_regimen_transporte_crucero_Julio = df['Julio_2022 Pasajeros En Régimen De Transporte Y De Crucero']\n",
    "Pasajeros_regimen_transporte_crucero_Agosto = df['Agosto_2022 Pasajeros En Régimen De Transporte Y De Crucero']\n",
    "Pasajeros_regimen_transporte_crucero_Septiembre = df['Septiembre_2022 Pasajeros En Régimen De Transporte Y De Crucero']\n",
    "Pasajeros_regimen_transporte_crucero_Octubre = df['Octubre_2022 Pasajeros En Régimen De Transporte Y De Crucero']\n",
    "Pasajeros_regimen_transporte_crucero_Noviembre = df['Noviembre_2022 Pasajeros En Régimen De Transporte Y De Crucero']\n",
    "Pasajeros_regimen_transporte_crucero_Diciembre = df['Diciembre_2022 Pasajeros En Régimen De Transporte Y De Crucero']"
   ]
  },
  {
   "cell_type": "code",
   "execution_count": 114,
   "metadata": {},
   "outputs": [],
   "source": [
    "Pasajeros_regimen_transporte_crucero = Pasajeros_regimen_transporte_crucero.tolist()\n",
    "Pasajeros_regimen_transporte_crucero_Febrero = Pasajeros_regimen_transporte_crucero_Febrero.tolist()\n",
    "Pasajeros_regimen_transporte_crucero_Marzo = Pasajeros_regimen_transporte_crucero_Marzo.tolist()\n",
    "Pasajeros_regimen_transporte_crucero_Abril = Pasajeros_regimen_transporte_crucero_Abril.tolist()\n",
    "Pasajeros_regimen_transporte_crucero_Mayo = Pasajeros_regimen_transporte_crucero_Mayo.tolist()\n",
    "Pasajeros_regimen_transporte_crucero_Junio = Pasajeros_regimen_transporte_crucero_Junio.tolist()\n",
    "Pasajeros_regimen_transporte_crucero_Julio = Pasajeros_regimen_transporte_crucero_Julio.tolist()\n",
    "Pasajeros_regimen_transporte_crucero_Agosto = Pasajeros_regimen_transporte_crucero_Agosto.tolist()\n",
    "Pasajeros_regimen_transporte_crucero_Septiembre = Pasajeros_regimen_transporte_crucero_Septiembre.tolist()\n",
    "Pasajeros_regimen_transporte_crucero_Octubre = Pasajeros_regimen_transporte_crucero_Octubre.tolist()\n",
    "Pasajeros_regimen_transporte_crucero_Noviembre = Pasajeros_regimen_transporte_crucero_Noviembre.tolist()\n",
    "Pasajeros_regimen_transporte_crucero_Diciembre = Pasajeros_regimen_transporte_crucero_Diciembre.tolist()"
   ]
  },
  {
   "cell_type": "code",
   "execution_count": 115,
   "metadata": {},
   "outputs": [
    {
     "data": {
      "text/plain": [
       "336"
      ]
     },
     "execution_count": 115,
     "metadata": {},
     "output_type": "execute_result"
    }
   ],
   "source": [
    "for i in Pasajeros_regimen_transporte_crucero_Febrero:\n",
    "    Pasajeros_regimen_transporte_crucero.append(i)\n",
    "len(Pasajeros_regimen_transporte_crucero)\n",
    "\n",
    "for i in Pasajeros_regimen_transporte_crucero_Marzo:\n",
    "    Pasajeros_regimen_transporte_crucero.append(i)\n",
    "len(Pasajeros_regimen_transporte_crucero)\n",
    "\n",
    "for i in Pasajeros_regimen_transporte_crucero_Abril:\n",
    "    Pasajeros_regimen_transporte_crucero.append(i)\n",
    "len(Pasajeros_regimen_transporte_crucero)\n",
    "\n",
    "for i in Pasajeros_regimen_transporte_crucero_Mayo:\n",
    "    Pasajeros_regimen_transporte_crucero.append(i)\n",
    "len(Pasajeros_regimen_transporte_crucero)\n",
    "\n",
    "for i in Pasajeros_regimen_transporte_crucero_Junio:\n",
    "    Pasajeros_regimen_transporte_crucero.append(i)\n",
    "len(Pasajeros_regimen_transporte_crucero)\n",
    "\n",
    "for i in Pasajeros_regimen_transporte_crucero_Julio:\n",
    "    Pasajeros_regimen_transporte_crucero.append(i)\n",
    "len(Pasajeros_regimen_transporte_crucero)\n",
    "\n",
    "for i in Pasajeros_regimen_transporte_crucero_Agosto:\n",
    "    Pasajeros_regimen_transporte_crucero.append(i)\n",
    "len(Pasajeros_regimen_transporte_crucero)\n",
    "\n",
    "for i in Pasajeros_regimen_transporte_crucero_Septiembre:\n",
    "    Pasajeros_regimen_transporte_crucero.append(i)\n",
    "len(Pasajeros_regimen_transporte_crucero)\n",
    "\n",
    "for i in Pasajeros_regimen_transporte_crucero_Octubre:\n",
    "    Pasajeros_regimen_transporte_crucero.append(i)\n",
    "len(Pasajeros_regimen_transporte_crucero)\n",
    "\n",
    "for i in Pasajeros_regimen_transporte_crucero_Noviembre:\n",
    "    Pasajeros_regimen_transporte_crucero.append(i)\n",
    "len(Pasajeros_regimen_transporte_crucero)\n",
    "\n",
    "for i in Pasajeros_regimen_transporte_crucero_Diciembre:\n",
    "    Pasajeros_regimen_transporte_crucero.append(i)\n",
    "len(Pasajeros_regimen_transporte_crucero)"
   ]
  },
  {
   "cell_type": "code",
   "execution_count": 116,
   "metadata": {},
   "outputs": [],
   "source": [
    "df_listo['Pasajeros En Régimen De Transporte Y De Crucero'] = Pasajeros_regimen_transporte_crucero"
   ]
  },
  {
   "cell_type": "markdown",
   "metadata": {},
   "source": [
    "## Pasajeros En Régimen De Transporte"
   ]
  },
  {
   "cell_type": "code",
   "execution_count": 117,
   "metadata": {},
   "outputs": [],
   "source": [
    "Pasajeros_regimen_transporte = df['Enero_2022 Pasajeros En Régimen De Transporte']"
   ]
  },
  {
   "cell_type": "code",
   "execution_count": 118,
   "metadata": {},
   "outputs": [],
   "source": [
    "Pasajeros_regimen_transporte_Febrero = df['Febrero_2022 Pasajeros En Régimen De Transporte']\n",
    "Pasajeros_regimen_transporte_Marzo = df['Marzo_2022 Pasajeros En Régimen De Transporte']\n",
    "Pasajeros_regimen_transporte_Abril = df['Abril_2022 Pasajeros En Régimen De Transporte']\n",
    "Pasajeros_regimen_transporte_Mayo = df['Mayo_2022 Pasajeros En Régimen De Transporte']\n",
    "Pasajeros_regimen_transporte_Junio = df['Junio_2022 Pasajeros En Régimen De Transporte']\n",
    "Pasajeros_regimen_transporte_Julio = df['Julio_2022 Pasajeros En Régimen De Transporte']\n",
    "Pasajeros_regimen_transporte_Agosto = df['Agosto_2022 Pasajeros En Régimen De Transporte']\n",
    "Pasajeros_regimen_transporte_Septiembre = df['Septiembre_2022 Pasajeros En Régimen De Transporte']\n",
    "Pasajeros_regimen_transporte_Octubre = df['Octubre_2022 Pasajeros En Régimen De Transporte']\n",
    "Pasajeros_regimen_transporte_Noviembre = df['Noviembre_2022 Pasajeros En Régimen De Transporte']\n",
    "Pasajeros_regimen_transporte_Diciembre = df['Diciembre_2022 Pasajeros En Régimen De Transporte']"
   ]
  },
  {
   "cell_type": "code",
   "execution_count": 119,
   "metadata": {},
   "outputs": [],
   "source": [
    "Pasajeros_regimen_transporte = Pasajeros_regimen_transporte.tolist()\n",
    "Pasajeros_regimen_transporte_Febrero = Pasajeros_regimen_transporte_Febrero.tolist()\n",
    "Pasajeros_regimen_transporte_Marzo = Pasajeros_regimen_transporte_Marzo.tolist()\n",
    "Pasajeros_regimen_transporte_Abril = Pasajeros_regimen_transporte_Abril.tolist()\n",
    "Pasajeros_regimen_transporte_Mayo = Pasajeros_regimen_transporte_Mayo.tolist()\n",
    "Pasajeros_regimen_transporte_Junio = Pasajeros_regimen_transporte_Junio.tolist()\n",
    "Pasajeros_regimen_transporte_Julio = Pasajeros_regimen_transporte_Julio.tolist()\n",
    "Pasajeros_regimen_transporte_Agosto = Pasajeros_regimen_transporte_Agosto.tolist()\n",
    "Pasajeros_regimen_transporte_Septiembre = Pasajeros_regimen_transporte_Septiembre.tolist()\n",
    "Pasajeros_regimen_transporte_Octubre = Pasajeros_regimen_transporte_Octubre.tolist()\n",
    "Pasajeros_regimen_transporte_Noviembre = Pasajeros_regimen_transporte_Noviembre.tolist()\n",
    "Pasajeros_regimen_transporte_Diciembre = Pasajeros_regimen_transporte_Diciembre.tolist()"
   ]
  },
  {
   "cell_type": "code",
   "execution_count": 120,
   "metadata": {},
   "outputs": [
    {
     "data": {
      "text/plain": [
       "336"
      ]
     },
     "execution_count": 120,
     "metadata": {},
     "output_type": "execute_result"
    }
   ],
   "source": [
    "for i in Pasajeros_regimen_transporte_Febrero:\n",
    "    Pasajeros_regimen_transporte.append(i)\n",
    "len(Pasajeros_regimen_transporte)\n",
    "\n",
    "for i in Pasajeros_regimen_transporte_Marzo:\n",
    "    Pasajeros_regimen_transporte.append(i)\n",
    "len(Pasajeros_regimen_transporte)\n",
    "\n",
    "for i in Pasajeros_regimen_transporte_Abril:\n",
    "    Pasajeros_regimen_transporte.append(i)\n",
    "len(Pasajeros_regimen_transporte)\n",
    "\n",
    "for i in Pasajeros_regimen_transporte_Mayo:\n",
    "    Pasajeros_regimen_transporte.append(i)\n",
    "len(Pasajeros_regimen_transporte)\n",
    "\n",
    "for i in Pasajeros_regimen_transporte_Junio:\n",
    "    Pasajeros_regimen_transporte.append(i)\n",
    "len(Pasajeros_regimen_transporte)\n",
    "\n",
    "for i in Pasajeros_regimen_transporte_Julio:\n",
    "    Pasajeros_regimen_transporte.append(i)\n",
    "len(Pasajeros_regimen_transporte)\n",
    "\n",
    "for i in Pasajeros_regimen_transporte_Agosto:\n",
    "    Pasajeros_regimen_transporte.append(i)\n",
    "len(Pasajeros_regimen_transporte)\n",
    "\n",
    "for i in Pasajeros_regimen_transporte_Septiembre:\n",
    "    Pasajeros_regimen_transporte.append(i)\n",
    "len(Pasajeros_regimen_transporte)\n",
    "\n",
    "for i in Pasajeros_regimen_transporte_Octubre:\n",
    "    Pasajeros_regimen_transporte.append(i)\n",
    "len(Pasajeros_regimen_transporte)\n",
    "\n",
    "for i in Pasajeros_regimen_transporte_Noviembre:\n",
    "    Pasajeros_regimen_transporte.append(i)\n",
    "len(Pasajeros_regimen_transporte)\n",
    "\n",
    "for i in Pasajeros_regimen_transporte_Diciembre:\n",
    "    Pasajeros_regimen_transporte.append(i)\n",
    "len(Pasajeros_regimen_transporte)"
   ]
  },
  {
   "cell_type": "code",
   "execution_count": 121,
   "metadata": {},
   "outputs": [],
   "source": [
    "df_listo['Pasajeros En Régimen De Transporte'] = Pasajeros_regimen_transporte"
   ]
  },
  {
   "cell_type": "markdown",
   "metadata": {},
   "source": [
    "## Pasajeros De Crucero"
   ]
  },
  {
   "cell_type": "code",
   "execution_count": 122,
   "metadata": {},
   "outputs": [],
   "source": [
    "Pasajeros_crucero = df['Enero_2022 Pasajeros De Crucero']"
   ]
  },
  {
   "cell_type": "code",
   "execution_count": 123,
   "metadata": {},
   "outputs": [],
   "source": [
    "Pasajeros_crucero_Febrero = df['Febrero_2022 Pasajeros De Crucero']\n",
    "Pasajeros_crucero_Marzo = df['Marzo_2022 Pasajeros De Crucero']\n",
    "Pasajeros_crucero_Abril = df['Abril_2022 Pasajeros De Crucero']\n",
    "Pasajeros_crucero_Mayo = df['Mayo_2022 Pasajeros De Crucero']\n",
    "Pasajeros_crucero_Junio = df['Junio_2022 Pasajeros De Crucero']\n",
    "Pasajeros_crucero_Julio = df['Julio_2022 Pasajeros De Crucero']\n",
    "Pasajeros_crucero_Agosto = df['Agosto_2022 Pasajeros De Crucero']\n",
    "Pasajeros_crucero_Septiembre = df['Septiembre_2022 Pasajeros De Crucero']\n",
    "Pasajeros_crucero_Octubre = df['Octubre_2022 Pasajeros De Crucero']\n",
    "Pasajeros_crucero_Noviembre = df['Noviembre_2022 Pasajeros De Crucero']\n",
    "Pasajeros_crucero_Diciembre = df['Diciembre_2022 Pasajeros De Crucero']"
   ]
  },
  {
   "cell_type": "code",
   "execution_count": 124,
   "metadata": {},
   "outputs": [],
   "source": [
    "Pasajeros_crucero = Pasajeros_crucero.tolist()\n",
    "Pasajeros_crucero_Febrero = Pasajeros_crucero_Febrero.tolist()\n",
    "Pasajeros_crucero_Marzo = Pasajeros_crucero_Marzo.tolist()\n",
    "Pasajeros_crucero_Abril = Pasajeros_crucero_Abril.tolist()\n",
    "Pasajeros_crucero_Mayo = Pasajeros_crucero_Mayo.tolist()\n",
    "Pasajeros_crucero_Junio = Pasajeros_crucero_Junio.tolist()\n",
    "Pasajeros_crucero_Julio = Pasajeros_crucero_Julio.tolist()\n",
    "Pasajeros_crucero_Agosto = Pasajeros_crucero_Agosto.tolist()\n",
    "Pasajeros_crucero_Septiembre = Pasajeros_crucero_Septiembre.tolist()\n",
    "Pasajeros_crucero_Octubre = Pasajeros_crucero_Octubre.tolist()\n",
    "Pasajeros_crucero_Noviembre = Pasajeros_crucero_Noviembre.tolist()\n",
    "Pasajeros_crucero_Diciembre = Pasajeros_crucero_Diciembre.tolist()"
   ]
  },
  {
   "cell_type": "code",
   "execution_count": 125,
   "metadata": {},
   "outputs": [
    {
     "data": {
      "text/plain": [
       "336"
      ]
     },
     "execution_count": 125,
     "metadata": {},
     "output_type": "execute_result"
    }
   ],
   "source": [
    "for i in Pasajeros_crucero_Febrero:\n",
    "    Pasajeros_crucero.append(i)\n",
    "len(Pasajeros_crucero)\n",
    "\n",
    "for i in Pasajeros_crucero_Marzo:\n",
    "    Pasajeros_crucero.append(i)\n",
    "len(Pasajeros_crucero)\n",
    "\n",
    "for i in Pasajeros_crucero_Abril:\n",
    "    Pasajeros_crucero.append(i)\n",
    "len(Pasajeros_crucero)\n",
    "\n",
    "for i in Pasajeros_crucero_Mayo:\n",
    "    Pasajeros_crucero.append(i)\n",
    "len(Pasajeros_crucero)\n",
    "\n",
    "for i in Pasajeros_crucero_Junio:\n",
    "    Pasajeros_crucero.append(i)\n",
    "len(Pasajeros_crucero)\n",
    "\n",
    "for i in Pasajeros_crucero_Julio:\n",
    "    Pasajeros_crucero.append(i)\n",
    "len(Pasajeros_crucero)\n",
    "\n",
    "for i in Pasajeros_crucero_Agosto:\n",
    "    Pasajeros_crucero.append(i)\n",
    "len(Pasajeros_crucero)\n",
    "\n",
    "for i in Pasajeros_crucero_Septiembre:\n",
    "    Pasajeros_crucero.append(i)\n",
    "len(Pasajeros_crucero)\n",
    "\n",
    "for i in Pasajeros_crucero_Octubre:\n",
    "    Pasajeros_crucero.append(i)\n",
    "len(Pasajeros_crucero)\n",
    "\n",
    "for i in Pasajeros_crucero_Noviembre:\n",
    "    Pasajeros_crucero.append(i)\n",
    "len(Pasajeros_crucero)\n",
    "\n",
    "for i in Pasajeros_crucero_Diciembre:\n",
    "    Pasajeros_crucero.append(i)\n",
    "len(Pasajeros_crucero)"
   ]
  },
  {
   "cell_type": "code",
   "execution_count": 126,
   "metadata": {},
   "outputs": [],
   "source": [
    "df_listo['Pasajeros De Crucero'] = Pasajeros_crucero"
   ]
  },
  {
   "cell_type": "markdown",
   "metadata": {},
   "source": [
    "## Automóviles En Régimen De Pasaje"
   ]
  },
  {
   "cell_type": "code",
   "execution_count": 127,
   "metadata": {},
   "outputs": [],
   "source": [
    "automoviles_regimen_pasaje = df['Enero_2022 Automóviles En Régimen De Pasaje']"
   ]
  },
  {
   "cell_type": "code",
   "execution_count": 128,
   "metadata": {},
   "outputs": [],
   "source": [
    "automoviles_regimen_pasaje_Febrero = df['Febrero_2022 Automóviles En Régimen De Pasaje']\n",
    "automoviles_regimen_pasaje_Marzo = df['Marzo_2022 Automóviles En Régimen De Pasaje']\n",
    "automoviles_regimen_pasaje_Abril = df['Abril_2022 Automóviles En Régimen De Pasaje']\n",
    "automoviles_regimen_pasaje_Mayo = df['Mayo_2022 Automóviles En Régimen De Pasaje']\n",
    "automoviles_regimen_pasaje_Junio = df['Junio_2022 Automóviles En Régimen De Pasaje']\n",
    "automoviles_regimen_pasaje_Julio = df['Julio_2022 Automóviles En Régimen De Pasaje']\n",
    "automoviles_regimen_pasaje_Agosto = df['Agosto_2022 Automóviles En Régimen De Pasaje']\n",
    "automoviles_regimen_pasaje_Septiembre = df['Septiembre_2022 Automóviles En Régimen De Pasaje']\n",
    "automoviles_regimen_pasaje_Octubre = df['Octubre_2022 Automóviles En Régimen De Pasaje']\n",
    "automoviles_regimen_pasaje_Noviembre = df['Noviembre_2022 Automóviles En Régimen De Pasaje']\n",
    "automoviles_regimen_pasaje_Diciembre = df['Diciembre_2022 Automóviles En Régimen De Pasaje']"
   ]
  },
  {
   "cell_type": "code",
   "execution_count": 129,
   "metadata": {},
   "outputs": [],
   "source": [
    "automoviles_regimen_pasaje = automoviles_regimen_pasaje.tolist()\n",
    "automoviles_regimen_pasaje_Febrero = automoviles_regimen_pasaje_Febrero.tolist()\n",
    "automoviles_regimen_pasaje_Marzo = automoviles_regimen_pasaje_Marzo.tolist()\n",
    "automoviles_regimen_pasaje_Abril = automoviles_regimen_pasaje_Abril.tolist()\n",
    "automoviles_regimen_pasaje_Mayo = automoviles_regimen_pasaje_Mayo.tolist()\n",
    "automoviles_regimen_pasaje_Junio = automoviles_regimen_pasaje_Junio.tolist()\n",
    "automoviles_regimen_pasaje_Julio = automoviles_regimen_pasaje_Julio.tolist()\n",
    "automoviles_regimen_pasaje_Agosto = automoviles_regimen_pasaje_Agosto.tolist()\n",
    "automoviles_regimen_pasaje_Septiembre = automoviles_regimen_pasaje_Septiembre.tolist()\n",
    "automoviles_regimen_pasaje_Octubre = automoviles_regimen_pasaje_Octubre.tolist()\n",
    "automoviles_regimen_pasaje_Noviembre = automoviles_regimen_pasaje_Noviembre.tolist()\n",
    "automoviles_regimen_pasaje_Diciembre = automoviles_regimen_pasaje_Diciembre.tolist()"
   ]
  },
  {
   "cell_type": "code",
   "execution_count": 130,
   "metadata": {},
   "outputs": [
    {
     "data": {
      "text/plain": [
       "336"
      ]
     },
     "execution_count": 130,
     "metadata": {},
     "output_type": "execute_result"
    }
   ],
   "source": [
    "for i in automoviles_regimen_pasaje_Febrero:\n",
    "    automoviles_regimen_pasaje.append(i)\n",
    "len(automoviles_regimen_pasaje)\n",
    "\n",
    "for i in automoviles_regimen_pasaje_Marzo:\n",
    "    automoviles_regimen_pasaje.append(i)\n",
    "len(automoviles_regimen_pasaje)\n",
    "\n",
    "for i in automoviles_regimen_pasaje_Abril:\n",
    "    automoviles_regimen_pasaje.append(i)\n",
    "len(automoviles_regimen_pasaje)\n",
    "\n",
    "for i in automoviles_regimen_pasaje_Mayo:\n",
    "    automoviles_regimen_pasaje.append(i)\n",
    "len(automoviles_regimen_pasaje)\n",
    "\n",
    "for i in automoviles_regimen_pasaje_Junio:\n",
    "    automoviles_regimen_pasaje.append(i)\n",
    "len(automoviles_regimen_pasaje)\n",
    "\n",
    "for i in automoviles_regimen_pasaje_Julio:\n",
    "    automoviles_regimen_pasaje.append(i)\n",
    "len(automoviles_regimen_pasaje)\n",
    "\n",
    "for i in automoviles_regimen_pasaje_Agosto:\n",
    "    automoviles_regimen_pasaje.append(i)\n",
    "len(automoviles_regimen_pasaje)\n",
    "\n",
    "for i in automoviles_regimen_pasaje_Septiembre:\n",
    "    automoviles_regimen_pasaje.append(i)\n",
    "len(automoviles_regimen_pasaje)\n",
    "\n",
    "for i in automoviles_regimen_pasaje_Octubre:\n",
    "    automoviles_regimen_pasaje.append(i)\n",
    "len(automoviles_regimen_pasaje)\n",
    "\n",
    "for i in automoviles_regimen_pasaje_Noviembre:\n",
    "    automoviles_regimen_pasaje.append(i)\n",
    "len(automoviles_regimen_pasaje)\n",
    "\n",
    "for i in automoviles_regimen_pasaje_Diciembre:\n",
    "    automoviles_regimen_pasaje.append(i)\n",
    "len(automoviles_regimen_pasaje)"
   ]
  },
  {
   "cell_type": "code",
   "execution_count": 131,
   "metadata": {},
   "outputs": [],
   "source": [
    "df_listo['Automóviles En Régimen De Pasaje'] = automoviles_regimen_pasaje"
   ]
  },
  {
   "cell_type": "markdown",
   "metadata": {},
   "source": [
    "## Automóviles En Régimen De Mercancía"
   ]
  },
  {
   "cell_type": "code",
   "execution_count": 132,
   "metadata": {},
   "outputs": [],
   "source": [
    "automoviles_regimen_mercancia = df['Enero_2022 Automóviles En Régimen De Mercancía']"
   ]
  },
  {
   "cell_type": "code",
   "execution_count": 133,
   "metadata": {},
   "outputs": [],
   "source": [
    "automoviles_regimen_mercancia_Febrero = df['Febrero_2022 Automóviles En Régimen De Mercancía']\n",
    "automoviles_regimen_mercancia_Marzo = df['Marzo_2022 Automóviles En Régimen De Mercancía']\n",
    "automoviles_regimen_mercancia_Abril = df['Abril_2022 Automóviles En Régimen De Mercancía']\n",
    "automoviles_regimen_mercancia_Mayo = df['Mayo_2022 Automóviles En Régimen De Mercancía']\n",
    "automoviles_regimen_mercancia_Junio = df['Junio_2022 Automóviles En Régimen De Mercancía']\n",
    "automoviles_regimen_mercancia_Julio = df['Julio_2022 Automóviles En Régimen De Mercancía']\n",
    "automoviles_regimen_mercancia_Agosto = df['Agosto_2022 Automóviles En Régimen De Mercancía']\n",
    "automoviles_regimen_mercancia_Septiembre = df['Septiembre_2022 Automóviles En Régimen De Mercancía']\n",
    "automoviles_regimen_mercancia_Octubre = df['Octubre_2022 Automóviles En Régimen De Mercancía']\n",
    "automoviles_regimen_mercancia_Noviembre = df['Noviembre_2022 Automóviles En Régimen De Mercancía']\n",
    "automoviles_regimen_mercancia_Diciembre = df['Diciembre_2022 Automóviles En Régimen De Mercancía']"
   ]
  },
  {
   "cell_type": "code",
   "execution_count": 134,
   "metadata": {},
   "outputs": [],
   "source": [
    "automoviles_regimen_mercancia = automoviles_regimen_mercancia.tolist()\n",
    "automoviles_regimen_mercancia_Febrero = automoviles_regimen_mercancia_Febrero.tolist()\n",
    "automoviles_regimen_mercancia_Marzo = automoviles_regimen_mercancia_Marzo.tolist()\n",
    "automoviles_regimen_mercancia_Abril = automoviles_regimen_mercancia_Abril.tolist()\n",
    "automoviles_regimen_mercancia_Mayo = automoviles_regimen_mercancia_Mayo.tolist()\n",
    "automoviles_regimen_mercancia_Junio = automoviles_regimen_mercancia_Junio.tolist()\n",
    "automoviles_regimen_mercancia_Julio = automoviles_regimen_mercancia_Julio.tolist()\n",
    "automoviles_regimen_mercancia_Agosto = automoviles_regimen_mercancia_Agosto.tolist()\n",
    "automoviles_regimen_mercancia_Septiembre = automoviles_regimen_mercancia_Septiembre.tolist()\n",
    "automoviles_regimen_mercancia_Octubre = automoviles_regimen_mercancia_Octubre.tolist()\n",
    "automoviles_regimen_mercancia_Noviembre = automoviles_regimen_mercancia_Noviembre.tolist()\n",
    "automoviles_regimen_mercancia_Diciembre = automoviles_regimen_mercancia_Diciembre.tolist()"
   ]
  },
  {
   "cell_type": "code",
   "execution_count": 135,
   "metadata": {},
   "outputs": [
    {
     "data": {
      "text/plain": [
       "336"
      ]
     },
     "execution_count": 135,
     "metadata": {},
     "output_type": "execute_result"
    }
   ],
   "source": [
    "for i in automoviles_regimen_mercancia_Febrero:\n",
    "    automoviles_regimen_mercancia.append(i)\n",
    "len(automoviles_regimen_mercancia)\n",
    "\n",
    "for i in automoviles_regimen_mercancia_Marzo:\n",
    "    automoviles_regimen_mercancia.append(i)\n",
    "len(automoviles_regimen_mercancia)\n",
    "\n",
    "for i in automoviles_regimen_mercancia_Abril:\n",
    "    automoviles_regimen_mercancia.append(i)\n",
    "len(automoviles_regimen_mercancia)\n",
    "\n",
    "for i in automoviles_regimen_mercancia_Mayo:\n",
    "    automoviles_regimen_mercancia.append(i)\n",
    "len(automoviles_regimen_mercancia)\n",
    "\n",
    "for i in automoviles_regimen_mercancia_Junio:\n",
    "    automoviles_regimen_mercancia.append(i)\n",
    "len(automoviles_regimen_mercancia)\n",
    "\n",
    "for i in automoviles_regimen_mercancia_Julio:\n",
    "    automoviles_regimen_mercancia.append(i)\n",
    "len(automoviles_regimen_mercancia)\n",
    "\n",
    "for i in automoviles_regimen_mercancia_Agosto:\n",
    "    automoviles_regimen_mercancia.append(i)\n",
    "len(automoviles_regimen_mercancia)\n",
    "\n",
    "for i in automoviles_regimen_mercancia_Septiembre:\n",
    "    automoviles_regimen_mercancia.append(i)\n",
    "len(automoviles_regimen_mercancia)\n",
    "\n",
    "for i in automoviles_regimen_mercancia_Octubre:\n",
    "    automoviles_regimen_mercancia.append(i)\n",
    "len(automoviles_regimen_mercancia)\n",
    "\n",
    "for i in automoviles_regimen_mercancia_Noviembre:\n",
    "    automoviles_regimen_mercancia.append(i)\n",
    "len(automoviles_regimen_mercancia)\n",
    "\n",
    "for i in automoviles_regimen_mercancia_Diciembre:\n",
    "    automoviles_regimen_mercancia.append(i)\n",
    "len(automoviles_regimen_mercancia)"
   ]
  },
  {
   "cell_type": "code",
   "execution_count": 136,
   "metadata": {},
   "outputs": [],
   "source": [
    "df_listo['Automóviles En Régimen De Mercancía'] = automoviles_regimen_mercancia"
   ]
  },
  {
   "cell_type": "code",
   "execution_count": 137,
   "metadata": {},
   "outputs": [
    {
     "data": {
      "text/html": [
       "<div>\n",
       "<style scoped>\n",
       "    .dataframe tbody tr th:only-of-type {\n",
       "        vertical-align: middle;\n",
       "    }\n",
       "\n",
       "    .dataframe tbody tr th {\n",
       "        vertical-align: top;\n",
       "    }\n",
       "\n",
       "    .dataframe thead th {\n",
       "        text-align: right;\n",
       "    }\n",
       "</style>\n",
       "<table border=\"1\" class=\"dataframe\">\n",
       "  <thead>\n",
       "    <tr style=\"text-align: right;\">\n",
       "      <th></th>\n",
       "      <th>Meses</th>\n",
       "      <th>Autoridad_Portuaria</th>\n",
       "      <th>Graneles Líquidos t</th>\n",
       "      <th>Graneles Sólidos t</th>\n",
       "      <th>Mercancía General t</th>\n",
       "      <th>Mercancia General Contenedores t</th>\n",
       "      <th>Pesca t</th>\n",
       "      <th>Avituallamiento t</th>\n",
       "      <th>Avituallamiento De Combustibles Líquidos t</th>\n",
       "      <th>Tráfico Interior t</th>\n",
       "      <th>Mercancías En Tránsito t</th>\n",
       "      <th>Mercancías En Tránsito En Contenedores t</th>\n",
       "      <th>Tráfico Ro-Ro t</th>\n",
       "      <th>UTIS Ro-Ro</th>\n",
       "      <th>TEUS Contenedores</th>\n",
       "      <th>TEUS Contenedores En Tránsito</th>\n",
       "      <th>TEUS Contenedores Entrada-Salida Nacional</th>\n",
       "      <th>TEUS Contenedores Entrada-Salida Exterior</th>\n",
       "      <th>Unidades Buques Mercantes</th>\n",
       "      <th>G.T. Buques Mercantes</th>\n",
       "      <th>Unidades Buques De Crucero</th>\n",
       "      <th>Pasajeros En Régimen De Transporte Y De Crucero</th>\n",
       "      <th>Pasajeros En Régimen De Transporte</th>\n",
       "      <th>Pasajeros De Crucero</th>\n",
       "      <th>Automóviles En Régimen De Pasaje</th>\n",
       "      <th>Automóviles En Régimen De Mercancía</th>\n",
       "    </tr>\n",
       "  </thead>\n",
       "  <tbody>\n",
       "    <tr>\n",
       "      <th>0</th>\n",
       "      <td>Enero_2022</td>\n",
       "      <td>A Coruña</td>\n",
       "      <td>623294</td>\n",
       "      <td>464559</td>\n",
       "      <td>79616</td>\n",
       "      <td>0</td>\n",
       "      <td>1403.861</td>\n",
       "      <td>2998</td>\n",
       "      <td>2209</td>\n",
       "      <td>0</td>\n",
       "      <td>92330</td>\n",
       "      <td>0</td>\n",
       "      <td>0</td>\n",
       "      <td>0</td>\n",
       "      <td>0.0</td>\n",
       "      <td>0.0</td>\n",
       "      <td>0.00</td>\n",
       "      <td>0.00</td>\n",
       "      <td>89</td>\n",
       "      <td>1616714</td>\n",
       "      <td>5</td>\n",
       "      <td>4722</td>\n",
       "      <td>0</td>\n",
       "      <td>4722</td>\n",
       "      <td>0</td>\n",
       "      <td>0</td>\n",
       "    </tr>\n",
       "    <tr>\n",
       "      <th>1</th>\n",
       "      <td>Enero_2022</td>\n",
       "      <td>Alicante</td>\n",
       "      <td>0</td>\n",
       "      <td>119575</td>\n",
       "      <td>104040</td>\n",
       "      <td>97163</td>\n",
       "      <td>0.000</td>\n",
       "      <td>1484</td>\n",
       "      <td>129</td>\n",
       "      <td>0</td>\n",
       "      <td>4663</td>\n",
       "      <td>4663</td>\n",
       "      <td>59</td>\n",
       "      <td>0</td>\n",
       "      <td>14934.0</td>\n",
       "      <td>400.5</td>\n",
       "      <td>11548.25</td>\n",
       "      <td>2985.25</td>\n",
       "      <td>43</td>\n",
       "      <td>622310</td>\n",
       "      <td>1</td>\n",
       "      <td>11874</td>\n",
       "      <td>9394</td>\n",
       "      <td>2480</td>\n",
       "      <td>2147</td>\n",
       "      <td>110</td>\n",
       "    </tr>\n",
       "    <tr>\n",
       "      <th>2</th>\n",
       "      <td>Enero_2022</td>\n",
       "      <td>Almería</td>\n",
       "      <td>7512</td>\n",
       "      <td>266992</td>\n",
       "      <td>134447</td>\n",
       "      <td>35899</td>\n",
       "      <td>208.561</td>\n",
       "      <td>4601</td>\n",
       "      <td>2290</td>\n",
       "      <td>0</td>\n",
       "      <td>141</td>\n",
       "      <td>141</td>\n",
       "      <td>71601</td>\n",
       "      <td>3000</td>\n",
       "      <td>2129.5</td>\n",
       "      <td>8.0</td>\n",
       "      <td>316.75</td>\n",
       "      <td>1804.75</td>\n",
       "      <td>115</td>\n",
       "      <td>1716296</td>\n",
       "      <td>0</td>\n",
       "      <td>13819</td>\n",
       "      <td>13819</td>\n",
       "      <td>0</td>\n",
       "      <td>3411</td>\n",
       "      <td>155</td>\n",
       "    </tr>\n",
       "    <tr>\n",
       "      <th>3</th>\n",
       "      <td>Enero_2022</td>\n",
       "      <td>Avilés</td>\n",
       "      <td>74703</td>\n",
       "      <td>189219</td>\n",
       "      <td>97892</td>\n",
       "      <td>0</td>\n",
       "      <td>627.525</td>\n",
       "      <td>4251</td>\n",
       "      <td>1596</td>\n",
       "      <td>0</td>\n",
       "      <td>3025</td>\n",
       "      <td>0</td>\n",
       "      <td>0</td>\n",
       "      <td>0</td>\n",
       "      <td>0.0</td>\n",
       "      <td>0.0</td>\n",
       "      <td>0.00</td>\n",
       "      <td>0.00</td>\n",
       "      <td>65</td>\n",
       "      <td>456463</td>\n",
       "      <td>0</td>\n",
       "      <td>0</td>\n",
       "      <td>0</td>\n",
       "      <td>0</td>\n",
       "      <td>0</td>\n",
       "      <td>0</td>\n",
       "    </tr>\n",
       "    <tr>\n",
       "      <th>4</th>\n",
       "      <td>Enero_2022</td>\n",
       "      <td>Bahía de Algeciras</td>\n",
       "      <td>2268541</td>\n",
       "      <td>207212</td>\n",
       "      <td>6062831</td>\n",
       "      <td>4742267</td>\n",
       "      <td>23.820</td>\n",
       "      <td>286828</td>\n",
       "      <td>274068</td>\n",
       "      <td>260600</td>\n",
       "      <td>5304368</td>\n",
       "      <td>4253234</td>\n",
       "      <td>1304479</td>\n",
       "      <td>41255</td>\n",
       "      <td>396644.0</td>\n",
       "      <td>341856.0</td>\n",
       "      <td>72.00</td>\n",
       "      <td>54716.00</td>\n",
       "      <td>1738</td>\n",
       "      <td>32968898</td>\n",
       "      <td>0</td>\n",
       "      <td>112032</td>\n",
       "      <td>112032</td>\n",
       "      <td>0</td>\n",
       "      <td>17020</td>\n",
       "      <td>278</td>\n",
       "    </tr>\n",
       "  </tbody>\n",
       "</table>\n",
       "</div>"
      ],
      "text/plain": [
       "        Meses Autoridad_Portuaria  Graneles Líquidos t  Graneles Sólidos t  \\\n",
       "0  Enero_2022            A Coruña               623294              464559   \n",
       "1  Enero_2022            Alicante                    0              119575   \n",
       "2  Enero_2022             Almería                 7512              266992   \n",
       "3  Enero_2022              Avilés                74703              189219   \n",
       "4  Enero_2022  Bahía de Algeciras              2268541              207212   \n",
       "\n",
       "   Mercancía General t  Mercancia General Contenedores t   Pesca t  \\\n",
       "0                79616                                 0  1403.861   \n",
       "1               104040                             97163     0.000   \n",
       "2               134447                             35899   208.561   \n",
       "3                97892                                 0   627.525   \n",
       "4              6062831                           4742267    23.820   \n",
       "\n",
       "   Avituallamiento t  Avituallamiento De Combustibles Líquidos t  \\\n",
       "0               2998                                        2209   \n",
       "1               1484                                         129   \n",
       "2               4601                                        2290   \n",
       "3               4251                                        1596   \n",
       "4             286828                                      274068   \n",
       "\n",
       "   Tráfico Interior t  Mercancías En Tránsito t  \\\n",
       "0                   0                     92330   \n",
       "1                   0                      4663   \n",
       "2                   0                       141   \n",
       "3                   0                      3025   \n",
       "4              260600                   5304368   \n",
       "\n",
       "   Mercancías En Tránsito En Contenedores t  Tráfico Ro-Ro t  UTIS Ro-Ro  \\\n",
       "0                                         0                0           0   \n",
       "1                                      4663               59           0   \n",
       "2                                       141            71601        3000   \n",
       "3                                         0                0           0   \n",
       "4                                   4253234          1304479       41255   \n",
       "\n",
       "   TEUS Contenedores  TEUS Contenedores En Tránsito  \\\n",
       "0                0.0                            0.0   \n",
       "1            14934.0                          400.5   \n",
       "2             2129.5                            8.0   \n",
       "3                0.0                            0.0   \n",
       "4           396644.0                       341856.0   \n",
       "\n",
       "   TEUS Contenedores Entrada-Salida Nacional  \\\n",
       "0                                       0.00   \n",
       "1                                   11548.25   \n",
       "2                                     316.75   \n",
       "3                                       0.00   \n",
       "4                                      72.00   \n",
       "\n",
       "   TEUS Contenedores Entrada-Salida Exterior  Unidades Buques Mercantes  \\\n",
       "0                                       0.00                         89   \n",
       "1                                    2985.25                         43   \n",
       "2                                    1804.75                        115   \n",
       "3                                       0.00                         65   \n",
       "4                                   54716.00                       1738   \n",
       "\n",
       "   G.T. Buques Mercantes  Unidades Buques De Crucero  \\\n",
       "0                1616714                           5   \n",
       "1                 622310                           1   \n",
       "2                1716296                           0   \n",
       "3                 456463                           0   \n",
       "4               32968898                           0   \n",
       "\n",
       "   Pasajeros En Régimen De Transporte Y De Crucero  \\\n",
       "0                                             4722   \n",
       "1                                            11874   \n",
       "2                                            13819   \n",
       "3                                                0   \n",
       "4                                           112032   \n",
       "\n",
       "   Pasajeros En Régimen De Transporte  Pasajeros De Crucero  \\\n",
       "0                                   0                  4722   \n",
       "1                                9394                  2480   \n",
       "2                               13819                     0   \n",
       "3                                   0                     0   \n",
       "4                              112032                     0   \n",
       "\n",
       "   Automóviles En Régimen De Pasaje  Automóviles En Régimen De Mercancía  \n",
       "0                                 0                                    0  \n",
       "1                              2147                                  110  \n",
       "2                              3411                                  155  \n",
       "3                                 0                                    0  \n",
       "4                             17020                                  278  "
      ]
     },
     "execution_count": 137,
     "metadata": {},
     "output_type": "execute_result"
    }
   ],
   "source": [
    "df_listo.head()"
   ]
  },
  {
   "cell_type": "code",
   "execution_count": 138,
   "metadata": {},
   "outputs": [
    {
     "data": {
      "text/plain": [
       "(336, 26)"
      ]
     },
     "execution_count": 138,
     "metadata": {},
     "output_type": "execute_result"
    }
   ],
   "source": [
    "df_listo.shape"
   ]
  },
  {
   "cell_type": "code",
   "execution_count": null,
   "metadata": {},
   "outputs": [],
   "source": []
  },
  {
   "cell_type": "code",
   "execution_count": 139,
   "metadata": {},
   "outputs": [],
   "source": [
    "# Guardar una copia en csv\n",
    "df_listo.to_csv('carga_2022/data_cargo_2022.csv', encoding='utf-8', sep=';')"
   ]
  },
  {
   "cell_type": "code",
   "execution_count": null,
   "metadata": {},
   "outputs": [],
   "source": []
  },
  {
   "cell_type": "code",
   "execution_count": 140,
   "metadata": {},
   "outputs": [],
   "source": [
    "import openpyxl\n",
    "df_listo.to_excel('carga_2022/data_cargo_2022.xlsx')"
   ]
  }
 ],
 "metadata": {
  "kernelspec": {
   "display_name": "Python 3",
   "language": "python",
   "name": "python3"
  },
  "language_info": {
   "codemirror_mode": {
    "name": "ipython",
    "version": 3
   },
   "file_extension": ".py",
   "mimetype": "text/x-python",
   "name": "python",
   "nbconvert_exporter": "python",
   "pygments_lexer": "ipython3",
   "version": "3.11.4"
  }
 },
 "nbformat": 4,
 "nbformat_minor": 2
}
