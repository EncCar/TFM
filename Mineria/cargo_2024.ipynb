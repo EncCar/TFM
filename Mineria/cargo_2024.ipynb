{
 "cells": [
  {
   "cell_type": "markdown",
   "metadata": {},
   "source": [
    "## Procedimiento para seleccionar todas las cargas de 2024\n",
    "## Unión de Todas las Tablas en 2024"
   ]
  },
  {
   "cell_type": "code",
   "execution_count": 2,
   "metadata": {},
   "outputs": [],
   "source": [
    "# Import Packages\n",
    "import pandas as pd\n",
    "import numpy as np\n",
    "import seaborn as sns\n",
    "import os \n",
    "import openpyxl"
   ]
  },
  {
   "cell_type": "code",
   "execution_count": 3,
   "metadata": {},
   "outputs": [
    {
     "data": {
      "text/html": [
       "<div>\n",
       "<style scoped>\n",
       "    .dataframe tbody tr th:only-of-type {\n",
       "        vertical-align: middle;\n",
       "    }\n",
       "\n",
       "    .dataframe tbody tr th {\n",
       "        vertical-align: top;\n",
       "    }\n",
       "\n",
       "    .dataframe thead th {\n",
       "        text-align: right;\n",
       "    }\n",
       "</style>\n",
       "<table border=\"1\" class=\"dataframe\">\n",
       "  <thead>\n",
       "    <tr style=\"text-align: right;\">\n",
       "      <th></th>\n",
       "      <th>Unnamed: 0</th>\n",
       "      <th>Autoridad Portuaria</th>\n",
       "      <th>Enero_2023 t Graneles Líquidos</th>\n",
       "      <th>Enero_2024 t Graneles Líquidos</th>\n",
       "      <th>Enero_2023 t Graneles Sólidos</th>\n",
       "      <th>Enero_2024 t Graneles Sólidos</th>\n",
       "      <th>Enero_2023 t Mercancía General</th>\n",
       "      <th>Enero_2024 t Mercancía General</th>\n",
       "      <th>Enero_2023 t Mercancía General Contenedores</th>\n",
       "      <th>Enero_2024 t Mercancía General Contenedores</th>\n",
       "      <th>...</th>\n",
       "      <th>Abril_2023 Pasajeros En Régimen De Transporte Y De Crucero</th>\n",
       "      <th>Abril_2024 Pasajeros En Régimen De Transporte Y De Crucero</th>\n",
       "      <th>Abril_2023 Pasajeros En Régimen De Transporte</th>\n",
       "      <th>Abril_2024 Pasajeros En Régimen De Transporte</th>\n",
       "      <th>Abril_2023 Pasajeros De Crucero</th>\n",
       "      <th>Abril_2024 Pasajeros De Crucero</th>\n",
       "      <th>Abril_2023 Automóviles En Régimen De Pasaje</th>\n",
       "      <th>Abril_2024 Automóviles En Régimen De Pasaje</th>\n",
       "      <th>Abril_2023 Automóviles En Régimen De Mercancía</th>\n",
       "      <th>Abril_2024 Automóviles En Régimen De Mercancía</th>\n",
       "    </tr>\n",
       "  </thead>\n",
       "  <tbody>\n",
       "    <tr>\n",
       "      <th>0</th>\n",
       "      <td>0</td>\n",
       "      <td>A Coruña</td>\n",
       "      <td>676655</td>\n",
       "      <td>719906</td>\n",
       "      <td>521447</td>\n",
       "      <td>406133</td>\n",
       "      <td>40997</td>\n",
       "      <td>29789</td>\n",
       "      <td>66</td>\n",
       "      <td>0</td>\n",
       "      <td>...</td>\n",
       "      <td>27030</td>\n",
       "      <td>47166</td>\n",
       "      <td>0</td>\n",
       "      <td>0</td>\n",
       "      <td>27030</td>\n",
       "      <td>47166</td>\n",
       "      <td>0</td>\n",
       "      <td>0</td>\n",
       "      <td>0</td>\n",
       "      <td>0</td>\n",
       "    </tr>\n",
       "    <tr>\n",
       "      <th>1</th>\n",
       "      <td>1</td>\n",
       "      <td>Alicante</td>\n",
       "      <td>5453</td>\n",
       "      <td>9007</td>\n",
       "      <td>191759</td>\n",
       "      <td>109123</td>\n",
       "      <td>96205</td>\n",
       "      <td>86149</td>\n",
       "      <td>89346</td>\n",
       "      <td>77281</td>\n",
       "      <td>...</td>\n",
       "      <td>23635</td>\n",
       "      <td>40447</td>\n",
       "      <td>11055</td>\n",
       "      <td>8181</td>\n",
       "      <td>12580</td>\n",
       "      <td>32266</td>\n",
       "      <td>3120</td>\n",
       "      <td>3197</td>\n",
       "      <td>117</td>\n",
       "      <td>228</td>\n",
       "    </tr>\n",
       "    <tr>\n",
       "      <th>2</th>\n",
       "      <td>2</td>\n",
       "      <td>Almería</td>\n",
       "      <td>4538</td>\n",
       "      <td>18511</td>\n",
       "      <td>299084</td>\n",
       "      <td>256126</td>\n",
       "      <td>74717</td>\n",
       "      <td>109347</td>\n",
       "      <td>11672</td>\n",
       "      <td>15607</td>\n",
       "      <td>...</td>\n",
       "      <td>26333</td>\n",
       "      <td>28669</td>\n",
       "      <td>25678</td>\n",
       "      <td>27573</td>\n",
       "      <td>655</td>\n",
       "      <td>1096</td>\n",
       "      <td>8721</td>\n",
       "      <td>8555</td>\n",
       "      <td>174</td>\n",
       "      <td>1142</td>\n",
       "    </tr>\n",
       "    <tr>\n",
       "      <th>3</th>\n",
       "      <td>3</td>\n",
       "      <td>Avilés</td>\n",
       "      <td>55417</td>\n",
       "      <td>61421</td>\n",
       "      <td>271758</td>\n",
       "      <td>234074</td>\n",
       "      <td>86295</td>\n",
       "      <td>84260</td>\n",
       "      <td>0</td>\n",
       "      <td>0</td>\n",
       "      <td>...</td>\n",
       "      <td>0</td>\n",
       "      <td>0</td>\n",
       "      <td>0</td>\n",
       "      <td>0</td>\n",
       "      <td>0</td>\n",
       "      <td>0</td>\n",
       "      <td>0</td>\n",
       "      <td>0</td>\n",
       "      <td>0</td>\n",
       "      <td>0</td>\n",
       "    </tr>\n",
       "    <tr>\n",
       "      <th>4</th>\n",
       "      <td>4</td>\n",
       "      <td>Bahía de Algeciras</td>\n",
       "      <td>2380167</td>\n",
       "      <td>2793935</td>\n",
       "      <td>31659</td>\n",
       "      <td>42904</td>\n",
       "      <td>5747425</td>\n",
       "      <td>5498543</td>\n",
       "      <td>4544515</td>\n",
       "      <td>4436836</td>\n",
       "      <td>...</td>\n",
       "      <td>327554</td>\n",
       "      <td>346545</td>\n",
       "      <td>327554</td>\n",
       "      <td>346545</td>\n",
       "      <td>0</td>\n",
       "      <td>0</td>\n",
       "      <td>65612</td>\n",
       "      <td>74171</td>\n",
       "      <td>312</td>\n",
       "      <td>385</td>\n",
       "    </tr>\n",
       "    <tr>\n",
       "      <th>5</th>\n",
       "      <td>5</td>\n",
       "      <td>Bahía de Cádiz</td>\n",
       "      <td>163563</td>\n",
       "      <td>18934</td>\n",
       "      <td>137032</td>\n",
       "      <td>206223</td>\n",
       "      <td>166825</td>\n",
       "      <td>173076</td>\n",
       "      <td>115728</td>\n",
       "      <td>119797</td>\n",
       "      <td>...</td>\n",
       "      <td>65643</td>\n",
       "      <td>64693</td>\n",
       "      <td>1690</td>\n",
       "      <td>2601</td>\n",
       "      <td>63953</td>\n",
       "      <td>62092</td>\n",
       "      <td>1044</td>\n",
       "      <td>1643</td>\n",
       "      <td>1389</td>\n",
       "      <td>9836</td>\n",
       "    </tr>\n",
       "    <tr>\n",
       "      <th>6</th>\n",
       "      <td>6</td>\n",
       "      <td>Baleares</td>\n",
       "      <td>71491</td>\n",
       "      <td>102646</td>\n",
       "      <td>43279</td>\n",
       "      <td>22156</td>\n",
       "      <td>884058</td>\n",
       "      <td>982074</td>\n",
       "      <td>21952</td>\n",
       "      <td>21043</td>\n",
       "      <td>...</td>\n",
       "      <td>722105</td>\n",
       "      <td>665225</td>\n",
       "      <td>586589</td>\n",
       "      <td>515411</td>\n",
       "      <td>135516</td>\n",
       "      <td>149814</td>\n",
       "      <td>111964</td>\n",
       "      <td>102757</td>\n",
       "      <td>10089</td>\n",
       "      <td>13369</td>\n",
       "    </tr>\n",
       "    <tr>\n",
       "      <th>7</th>\n",
       "      <td>7</td>\n",
       "      <td>Barcelona</td>\n",
       "      <td>989889</td>\n",
       "      <td>766073</td>\n",
       "      <td>413626</td>\n",
       "      <td>324206</td>\n",
       "      <td>3571017</td>\n",
       "      <td>3843295</td>\n",
       "      <td>2789637</td>\n",
       "      <td>3011767</td>\n",
       "      <td>...</td>\n",
       "      <td>400530</td>\n",
       "      <td>395390</td>\n",
       "      <td>133110</td>\n",
       "      <td>117819</td>\n",
       "      <td>267420</td>\n",
       "      <td>277571</td>\n",
       "      <td>33502</td>\n",
       "      <td>30677</td>\n",
       "      <td>69834</td>\n",
       "      <td>61709</td>\n",
       "    </tr>\n",
       "    <tr>\n",
       "      <th>8</th>\n",
       "      <td>8</td>\n",
       "      <td>Bilbao</td>\n",
       "      <td>1503473</td>\n",
       "      <td>2134486</td>\n",
       "      <td>334672</td>\n",
       "      <td>280264</td>\n",
       "      <td>595059</td>\n",
       "      <td>569573</td>\n",
       "      <td>407988</td>\n",
       "      <td>400193</td>\n",
       "      <td>...</td>\n",
       "      <td>18704</td>\n",
       "      <td>31118</td>\n",
       "      <td>11409</td>\n",
       "      <td>11962</td>\n",
       "      <td>7295</td>\n",
       "      <td>19156</td>\n",
       "      <td>4966</td>\n",
       "      <td>5773</td>\n",
       "      <td>14822</td>\n",
       "      <td>27137</td>\n",
       "    </tr>\n",
       "    <tr>\n",
       "      <th>9</th>\n",
       "      <td>9</td>\n",
       "      <td>Cartagena</td>\n",
       "      <td>2345886</td>\n",
       "      <td>2137657</td>\n",
       "      <td>870622</td>\n",
       "      <td>878956</td>\n",
       "      <td>70850</td>\n",
       "      <td>57119</td>\n",
       "      <td>38339</td>\n",
       "      <td>39115</td>\n",
       "      <td>...</td>\n",
       "      <td>17919</td>\n",
       "      <td>21955</td>\n",
       "      <td>0</td>\n",
       "      <td>0</td>\n",
       "      <td>17919</td>\n",
       "      <td>21955</td>\n",
       "      <td>0</td>\n",
       "      <td>0</td>\n",
       "      <td>24</td>\n",
       "      <td>4</td>\n",
       "    </tr>\n",
       "  </tbody>\n",
       "</table>\n",
       "<p>10 rows × 194 columns</p>\n",
       "</div>"
      ],
      "text/plain": [
       "   Unnamed: 0 Autoridad Portuaria  Enero_2023 t Graneles Líquidos  \\\n",
       "0           0            A Coruña                          676655   \n",
       "1           1            Alicante                            5453   \n",
       "2           2             Almería                            4538   \n",
       "3           3              Avilés                           55417   \n",
       "4           4  Bahía de Algeciras                         2380167   \n",
       "5           5      Bahía de Cádiz                          163563   \n",
       "6           6            Baleares                           71491   \n",
       "7           7           Barcelona                          989889   \n",
       "8           8              Bilbao                         1503473   \n",
       "9           9           Cartagena                         2345886   \n",
       "\n",
       "   Enero_2024 t Graneles Líquidos  Enero_2023 t Graneles Sólidos  \\\n",
       "0                          719906                         521447   \n",
       "1                            9007                         191759   \n",
       "2                           18511                         299084   \n",
       "3                           61421                         271758   \n",
       "4                         2793935                          31659   \n",
       "5                           18934                         137032   \n",
       "6                          102646                          43279   \n",
       "7                          766073                         413626   \n",
       "8                         2134486                         334672   \n",
       "9                         2137657                         870622   \n",
       "\n",
       "   Enero_2024 t Graneles Sólidos  Enero_2023 t Mercancía General  \\\n",
       "0                         406133                           40997   \n",
       "1                         109123                           96205   \n",
       "2                         256126                           74717   \n",
       "3                         234074                           86295   \n",
       "4                          42904                         5747425   \n",
       "5                         206223                          166825   \n",
       "6                          22156                          884058   \n",
       "7                         324206                         3571017   \n",
       "8                         280264                          595059   \n",
       "9                         878956                           70850   \n",
       "\n",
       "   Enero_2024 t Mercancía General  \\\n",
       "0                           29789   \n",
       "1                           86149   \n",
       "2                          109347   \n",
       "3                           84260   \n",
       "4                         5498543   \n",
       "5                          173076   \n",
       "6                          982074   \n",
       "7                         3843295   \n",
       "8                          569573   \n",
       "9                           57119   \n",
       "\n",
       "   Enero_2023 t Mercancía General Contenedores  \\\n",
       "0                                           66   \n",
       "1                                        89346   \n",
       "2                                        11672   \n",
       "3                                            0   \n",
       "4                                      4544515   \n",
       "5                                       115728   \n",
       "6                                        21952   \n",
       "7                                      2789637   \n",
       "8                                       407988   \n",
       "9                                        38339   \n",
       "\n",
       "   Enero_2024 t Mercancía General Contenedores  ...  \\\n",
       "0                                            0  ...   \n",
       "1                                        77281  ...   \n",
       "2                                        15607  ...   \n",
       "3                                            0  ...   \n",
       "4                                      4436836  ...   \n",
       "5                                       119797  ...   \n",
       "6                                        21043  ...   \n",
       "7                                      3011767  ...   \n",
       "8                                       400193  ...   \n",
       "9                                        39115  ...   \n",
       "\n",
       "   Abril_2023 Pasajeros En Régimen De Transporte Y De Crucero  \\\n",
       "0                                              27030            \n",
       "1                                              23635            \n",
       "2                                              26333            \n",
       "3                                                  0            \n",
       "4                                             327554            \n",
       "5                                              65643            \n",
       "6                                             722105            \n",
       "7                                             400530            \n",
       "8                                              18704            \n",
       "9                                              17919            \n",
       "\n",
       "   Abril_2024 Pasajeros En Régimen De Transporte Y De Crucero  \\\n",
       "0                                              47166            \n",
       "1                                              40447            \n",
       "2                                              28669            \n",
       "3                                                  0            \n",
       "4                                             346545            \n",
       "5                                              64693            \n",
       "6                                             665225            \n",
       "7                                             395390            \n",
       "8                                              31118            \n",
       "9                                              21955            \n",
       "\n",
       "   Abril_2023 Pasajeros En Régimen De Transporte  \\\n",
       "0                                              0   \n",
       "1                                          11055   \n",
       "2                                          25678   \n",
       "3                                              0   \n",
       "4                                         327554   \n",
       "5                                           1690   \n",
       "6                                         586589   \n",
       "7                                         133110   \n",
       "8                                          11409   \n",
       "9                                              0   \n",
       "\n",
       "   Abril_2024 Pasajeros En Régimen De Transporte  \\\n",
       "0                                              0   \n",
       "1                                           8181   \n",
       "2                                          27573   \n",
       "3                                              0   \n",
       "4                                         346545   \n",
       "5                                           2601   \n",
       "6                                         515411   \n",
       "7                                         117819   \n",
       "8                                          11962   \n",
       "9                                              0   \n",
       "\n",
       "   Abril_2023 Pasajeros De Crucero  Abril_2024 Pasajeros De Crucero  \\\n",
       "0                            27030                            47166   \n",
       "1                            12580                            32266   \n",
       "2                              655                             1096   \n",
       "3                                0                                0   \n",
       "4                                0                                0   \n",
       "5                            63953                            62092   \n",
       "6                           135516                           149814   \n",
       "7                           267420                           277571   \n",
       "8                             7295                            19156   \n",
       "9                            17919                            21955   \n",
       "\n",
       "   Abril_2023 Automóviles En Régimen De Pasaje  \\\n",
       "0                                            0   \n",
       "1                                         3120   \n",
       "2                                         8721   \n",
       "3                                            0   \n",
       "4                                        65612   \n",
       "5                                         1044   \n",
       "6                                       111964   \n",
       "7                                        33502   \n",
       "8                                         4966   \n",
       "9                                            0   \n",
       "\n",
       "   Abril_2024 Automóviles En Régimen De Pasaje  \\\n",
       "0                                            0   \n",
       "1                                         3197   \n",
       "2                                         8555   \n",
       "3                                            0   \n",
       "4                                        74171   \n",
       "5                                         1643   \n",
       "6                                       102757   \n",
       "7                                        30677   \n",
       "8                                         5773   \n",
       "9                                            0   \n",
       "\n",
       "   Abril_2023 Automóviles En Régimen De Mercancía  \\\n",
       "0                                               0   \n",
       "1                                             117   \n",
       "2                                             174   \n",
       "3                                               0   \n",
       "4                                             312   \n",
       "5                                            1389   \n",
       "6                                           10089   \n",
       "7                                           69834   \n",
       "8                                           14822   \n",
       "9                                              24   \n",
       "\n",
       "   Abril_2024 Automóviles En Régimen De Mercancía  \n",
       "0                                               0  \n",
       "1                                             228  \n",
       "2                                            1142  \n",
       "3                                               0  \n",
       "4                                             385  \n",
       "5                                            9836  \n",
       "6                                           13369  \n",
       "7                                           61709  \n",
       "8                                           27137  \n",
       "9                                               4  \n",
       "\n",
       "[10 rows x 194 columns]"
      ]
     },
     "metadata": {},
     "output_type": "display_data"
    }
   ],
   "source": [
    "ruta = os.path.join('archivos_mineria_funciones_cargo_2024/carga_2024.xlsx')\n",
    "df = pd.read_excel(ruta)\n",
    "display(df.head(10))"
   ]
  },
  {
   "cell_type": "code",
   "execution_count": 4,
   "metadata": {},
   "outputs": [],
   "source": [
    "autor = df['Autoridad Portuaria']"
   ]
  },
  {
   "cell_type": "code",
   "execution_count": 5,
   "metadata": {},
   "outputs": [
    {
     "data": {
      "text/plain": [
       "112"
      ]
     },
     "execution_count": 5,
     "metadata": {},
     "output_type": "execute_result"
    }
   ],
   "source": [
    "autoridad_porturaria = []\n",
    "for i in range(4):\n",
    "    for puerto in autor:\n",
    "        autoridad_porturaria.append(puerto)\n",
    "len(autoridad_porturaria)"
   ]
  },
  {
   "cell_type": "code",
   "execution_count": 6,
   "metadata": {},
   "outputs": [
    {
     "data": {
      "text/plain": [
       "['A Coruña',\n",
       " 'Alicante',\n",
       " 'Almería',\n",
       " 'Avilés',\n",
       " 'Bahía de Algeciras',\n",
       " 'Bahía de Cádiz',\n",
       " 'Baleares',\n",
       " 'Barcelona',\n",
       " 'Bilbao',\n",
       " 'Cartagena',\n",
       " 'Castellón',\n",
       " 'Ceuta',\n",
       " 'Ferrol-San Cibrao',\n",
       " 'Gijón',\n",
       " 'Huelva',\n",
       " 'Las Palmas',\n",
       " 'Málaga',\n",
       " 'Marín y Ría de Pontevedra',\n",
       " 'Melilla',\n",
       " 'Motril',\n",
       " 'Pasaia',\n",
       " 'Santa Cruz de Tenerife',\n",
       " 'Santander',\n",
       " 'Sevilla',\n",
       " 'Tarragona',\n",
       " 'Valencia',\n",
       " 'Vigo',\n",
       " 'Vilagarcía',\n",
       " 'A Coruña',\n",
       " 'Alicante',\n",
       " 'Almería',\n",
       " 'Avilés',\n",
       " 'Bahía de Algeciras',\n",
       " 'Bahía de Cádiz',\n",
       " 'Baleares',\n",
       " 'Barcelona',\n",
       " 'Bilbao',\n",
       " 'Cartagena',\n",
       " 'Castellón',\n",
       " 'Ceuta',\n",
       " 'Ferrol-San Cibrao',\n",
       " 'Gijón',\n",
       " 'Huelva',\n",
       " 'Las Palmas',\n",
       " 'Málaga',\n",
       " 'Marín y Ría de Pontevedra',\n",
       " 'Melilla',\n",
       " 'Motril',\n",
       " 'Pasaia',\n",
       " 'Santa Cruz de Tenerife',\n",
       " 'Santander',\n",
       " 'Sevilla',\n",
       " 'Tarragona',\n",
       " 'Valencia',\n",
       " 'Vigo',\n",
       " 'Vilagarcía',\n",
       " 'A Coruña',\n",
       " 'Alicante',\n",
       " 'Almería',\n",
       " 'Avilés',\n",
       " 'Bahía de Algeciras',\n",
       " 'Bahía de Cádiz',\n",
       " 'Baleares',\n",
       " 'Barcelona',\n",
       " 'Bilbao',\n",
       " 'Cartagena',\n",
       " 'Castellón',\n",
       " 'Ceuta',\n",
       " 'Ferrol-San Cibrao',\n",
       " 'Gijón',\n",
       " 'Huelva',\n",
       " 'Las Palmas',\n",
       " 'Málaga',\n",
       " 'Marín y Ría de Pontevedra',\n",
       " 'Melilla',\n",
       " 'Motril',\n",
       " 'Pasaia',\n",
       " 'Santa Cruz de Tenerife',\n",
       " 'Santander',\n",
       " 'Sevilla',\n",
       " 'Tarragona',\n",
       " 'Valencia',\n",
       " 'Vigo',\n",
       " 'Vilagarcía',\n",
       " 'A Coruña',\n",
       " 'Alicante',\n",
       " 'Almería',\n",
       " 'Avilés',\n",
       " 'Bahía de Algeciras',\n",
       " 'Bahía de Cádiz',\n",
       " 'Baleares',\n",
       " 'Barcelona',\n",
       " 'Bilbao',\n",
       " 'Cartagena',\n",
       " 'Castellón',\n",
       " 'Ceuta',\n",
       " 'Ferrol-San Cibrao',\n",
       " 'Gijón',\n",
       " 'Huelva',\n",
       " 'Las Palmas',\n",
       " 'Málaga',\n",
       " 'Marín y Ría de Pontevedra',\n",
       " 'Melilla',\n",
       " 'Motril',\n",
       " 'Pasaia',\n",
       " 'Santa Cruz de Tenerife',\n",
       " 'Santander',\n",
       " 'Sevilla',\n",
       " 'Tarragona',\n",
       " 'Valencia',\n",
       " 'Vigo',\n",
       " 'Vilagarcía']"
      ]
     },
     "execution_count": 6,
     "metadata": {},
     "output_type": "execute_result"
    }
   ],
   "source": [
    "autoridad_porturaria"
   ]
  },
  {
   "cell_type": "code",
   "execution_count": 7,
   "metadata": {},
   "outputs": [],
   "source": [
    "Meses = ['Enero_2024', 'Febrero_2024', 'Marzo_2024', 'Abril_2024']"
   ]
  },
  {
   "cell_type": "code",
   "execution_count": 8,
   "metadata": {},
   "outputs": [
    {
     "data": {
      "text/plain": [
       "112"
      ]
     },
     "execution_count": 8,
     "metadata": {},
     "output_type": "execute_result"
    }
   ],
   "source": [
    "Mes = []\n",
    "for i in Meses:\n",
    "    for j in range(28):\n",
    "        Mes.append(i)\n",
    "len(Mes)"
   ]
  },
  {
   "cell_type": "code",
   "execution_count": 9,
   "metadata": {},
   "outputs": [
    {
     "data": {
      "text/plain": [
       "(112, 1)"
      ]
     },
     "execution_count": 9,
     "metadata": {},
     "output_type": "execute_result"
    }
   ],
   "source": [
    "\n",
    "columns = ['Meses']\n",
    "\n",
    "df_listo = pd.DataFrame(Mes, columns=columns)\n",
    "df_listo.shape"
   ]
  },
  {
   "cell_type": "code",
   "execution_count": 10,
   "metadata": {},
   "outputs": [],
   "source": [
    "df_listo['Autoridad_Portuaria'] = autoridad_porturaria"
   ]
  },
  {
   "cell_type": "code",
   "execution_count": 11,
   "metadata": {},
   "outputs": [
    {
     "data": {
      "text/html": [
       "<div>\n",
       "<style scoped>\n",
       "    .dataframe tbody tr th:only-of-type {\n",
       "        vertical-align: middle;\n",
       "    }\n",
       "\n",
       "    .dataframe tbody tr th {\n",
       "        vertical-align: top;\n",
       "    }\n",
       "\n",
       "    .dataframe thead th {\n",
       "        text-align: right;\n",
       "    }\n",
       "</style>\n",
       "<table border=\"1\" class=\"dataframe\">\n",
       "  <thead>\n",
       "    <tr style=\"text-align: right;\">\n",
       "      <th></th>\n",
       "      <th>Meses</th>\n",
       "      <th>Autoridad_Portuaria</th>\n",
       "    </tr>\n",
       "  </thead>\n",
       "  <tbody>\n",
       "    <tr>\n",
       "      <th>0</th>\n",
       "      <td>Enero_2024</td>\n",
       "      <td>A Coruña</td>\n",
       "    </tr>\n",
       "    <tr>\n",
       "      <th>1</th>\n",
       "      <td>Enero_2024</td>\n",
       "      <td>Alicante</td>\n",
       "    </tr>\n",
       "    <tr>\n",
       "      <th>2</th>\n",
       "      <td>Enero_2024</td>\n",
       "      <td>Almería</td>\n",
       "    </tr>\n",
       "    <tr>\n",
       "      <th>3</th>\n",
       "      <td>Enero_2024</td>\n",
       "      <td>Avilés</td>\n",
       "    </tr>\n",
       "    <tr>\n",
       "      <th>4</th>\n",
       "      <td>Enero_2024</td>\n",
       "      <td>Bahía de Algeciras</td>\n",
       "    </tr>\n",
       "    <tr>\n",
       "      <th>...</th>\n",
       "      <td>...</td>\n",
       "      <td>...</td>\n",
       "    </tr>\n",
       "    <tr>\n",
       "      <th>107</th>\n",
       "      <td>Abril_2024</td>\n",
       "      <td>Sevilla</td>\n",
       "    </tr>\n",
       "    <tr>\n",
       "      <th>108</th>\n",
       "      <td>Abril_2024</td>\n",
       "      <td>Tarragona</td>\n",
       "    </tr>\n",
       "    <tr>\n",
       "      <th>109</th>\n",
       "      <td>Abril_2024</td>\n",
       "      <td>Valencia</td>\n",
       "    </tr>\n",
       "    <tr>\n",
       "      <th>110</th>\n",
       "      <td>Abril_2024</td>\n",
       "      <td>Vigo</td>\n",
       "    </tr>\n",
       "    <tr>\n",
       "      <th>111</th>\n",
       "      <td>Abril_2024</td>\n",
       "      <td>Vilagarcía</td>\n",
       "    </tr>\n",
       "  </tbody>\n",
       "</table>\n",
       "<p>112 rows × 2 columns</p>\n",
       "</div>"
      ],
      "text/plain": [
       "          Meses Autoridad_Portuaria\n",
       "0    Enero_2024            A Coruña\n",
       "1    Enero_2024            Alicante\n",
       "2    Enero_2024             Almería\n",
       "3    Enero_2024              Avilés\n",
       "4    Enero_2024  Bahía de Algeciras\n",
       "..          ...                 ...\n",
       "107  Abril_2024             Sevilla\n",
       "108  Abril_2024           Tarragona\n",
       "109  Abril_2024            Valencia\n",
       "110  Abril_2024                Vigo\n",
       "111  Abril_2024          Vilagarcía\n",
       "\n",
       "[112 rows x 2 columns]"
      ]
     },
     "execution_count": 11,
     "metadata": {},
     "output_type": "execute_result"
    }
   ],
   "source": [
    "df_listo"
   ]
  },
  {
   "cell_type": "markdown",
   "metadata": {},
   "source": [
    "## Graneles Líquidos"
   ]
  },
  {
   "cell_type": "code",
   "execution_count": 12,
   "metadata": {},
   "outputs": [],
   "source": [
    "Graneles_liquidos = df['Enero_2024 t Graneles Líquidos']"
   ]
  },
  {
   "cell_type": "code",
   "execution_count": 13,
   "metadata": {},
   "outputs": [],
   "source": [
    "Graneles_liquidos_Febrero = df['Febrero_2024 t Graneles Líquidos']\n",
    "Graneles_liquidos_Marzo = df['Marzo_2024 t Graneles Líquidos']\n",
    "Graneles_liquidos_Abril = df['Abril_2024 t Graneles Líquidos']\n"
   ]
  },
  {
   "cell_type": "code",
   "execution_count": 14,
   "metadata": {},
   "outputs": [],
   "source": [
    "Graneles_liquidos = Graneles_liquidos.tolist()\n",
    "Graneles_liquidos_Febrero = Graneles_liquidos_Febrero.tolist()\n",
    "Graneles_liquidos_Marzo = Graneles_liquidos_Marzo.tolist()\n",
    "Graneles_liquidos_Abril = Graneles_liquidos_Abril.tolist()\n"
   ]
  },
  {
   "cell_type": "code",
   "execution_count": 15,
   "metadata": {},
   "outputs": [
    {
     "data": {
      "text/plain": [
       "112"
      ]
     },
     "execution_count": 15,
     "metadata": {},
     "output_type": "execute_result"
    }
   ],
   "source": [
    "for i in Graneles_liquidos_Febrero:\n",
    "    Graneles_liquidos.append(i)\n",
    "len(Graneles_liquidos)\n",
    "\n",
    "for i in Graneles_liquidos_Marzo:\n",
    "    Graneles_liquidos.append(i)\n",
    "len(Graneles_liquidos)\n",
    "\n",
    "for i in Graneles_liquidos_Abril:\n",
    "    Graneles_liquidos.append(i)\n",
    "len(Graneles_liquidos)\n"
   ]
  },
  {
   "cell_type": "code",
   "execution_count": 16,
   "metadata": {},
   "outputs": [],
   "source": [
    "df_listo['Graneles Líquidos t'] = Graneles_liquidos"
   ]
  },
  {
   "cell_type": "code",
   "execution_count": 17,
   "metadata": {},
   "outputs": [
    {
     "data": {
      "text/html": [
       "<div>\n",
       "<style scoped>\n",
       "    .dataframe tbody tr th:only-of-type {\n",
       "        vertical-align: middle;\n",
       "    }\n",
       "\n",
       "    .dataframe tbody tr th {\n",
       "        vertical-align: top;\n",
       "    }\n",
       "\n",
       "    .dataframe thead th {\n",
       "        text-align: right;\n",
       "    }\n",
       "</style>\n",
       "<table border=\"1\" class=\"dataframe\">\n",
       "  <thead>\n",
       "    <tr style=\"text-align: right;\">\n",
       "      <th></th>\n",
       "      <th>Meses</th>\n",
       "      <th>Autoridad_Portuaria</th>\n",
       "      <th>Graneles Líquidos t</th>\n",
       "    </tr>\n",
       "  </thead>\n",
       "  <tbody>\n",
       "    <tr>\n",
       "      <th>0</th>\n",
       "      <td>Enero_2024</td>\n",
       "      <td>A Coruña</td>\n",
       "      <td>719906</td>\n",
       "    </tr>\n",
       "    <tr>\n",
       "      <th>1</th>\n",
       "      <td>Enero_2024</td>\n",
       "      <td>Alicante</td>\n",
       "      <td>9007</td>\n",
       "    </tr>\n",
       "    <tr>\n",
       "      <th>2</th>\n",
       "      <td>Enero_2024</td>\n",
       "      <td>Almería</td>\n",
       "      <td>18511</td>\n",
       "    </tr>\n",
       "    <tr>\n",
       "      <th>3</th>\n",
       "      <td>Enero_2024</td>\n",
       "      <td>Avilés</td>\n",
       "      <td>61421</td>\n",
       "    </tr>\n",
       "    <tr>\n",
       "      <th>4</th>\n",
       "      <td>Enero_2024</td>\n",
       "      <td>Bahía de Algeciras</td>\n",
       "      <td>2793935</td>\n",
       "    </tr>\n",
       "    <tr>\n",
       "      <th>...</th>\n",
       "      <td>...</td>\n",
       "      <td>...</td>\n",
       "      <td>...</td>\n",
       "    </tr>\n",
       "    <tr>\n",
       "      <th>107</th>\n",
       "      <td>Abril_2024</td>\n",
       "      <td>Sevilla</td>\n",
       "      <td>62737</td>\n",
       "    </tr>\n",
       "    <tr>\n",
       "      <th>108</th>\n",
       "      <td>Abril_2024</td>\n",
       "      <td>Tarragona</td>\n",
       "      <td>1747029</td>\n",
       "    </tr>\n",
       "    <tr>\n",
       "      <th>109</th>\n",
       "      <td>Abril_2024</td>\n",
       "      <td>Valencia</td>\n",
       "      <td>298325</td>\n",
       "    </tr>\n",
       "    <tr>\n",
       "      <th>110</th>\n",
       "      <td>Abril_2024</td>\n",
       "      <td>Vigo</td>\n",
       "      <td>3000</td>\n",
       "    </tr>\n",
       "    <tr>\n",
       "      <th>111</th>\n",
       "      <td>Abril_2024</td>\n",
       "      <td>Vilagarcía</td>\n",
       "      <td>48921</td>\n",
       "    </tr>\n",
       "  </tbody>\n",
       "</table>\n",
       "<p>112 rows × 3 columns</p>\n",
       "</div>"
      ],
      "text/plain": [
       "          Meses Autoridad_Portuaria  Graneles Líquidos t\n",
       "0    Enero_2024            A Coruña               719906\n",
       "1    Enero_2024            Alicante                 9007\n",
       "2    Enero_2024             Almería                18511\n",
       "3    Enero_2024              Avilés                61421\n",
       "4    Enero_2024  Bahía de Algeciras              2793935\n",
       "..          ...                 ...                  ...\n",
       "107  Abril_2024             Sevilla                62737\n",
       "108  Abril_2024           Tarragona              1747029\n",
       "109  Abril_2024            Valencia               298325\n",
       "110  Abril_2024                Vigo                 3000\n",
       "111  Abril_2024          Vilagarcía                48921\n",
       "\n",
       "[112 rows x 3 columns]"
      ]
     },
     "execution_count": 17,
     "metadata": {},
     "output_type": "execute_result"
    }
   ],
   "source": [
    "df_listo"
   ]
  },
  {
   "cell_type": "markdown",
   "metadata": {},
   "source": [
    "## Graneles Sólidos"
   ]
  },
  {
   "cell_type": "code",
   "execution_count": 18,
   "metadata": {},
   "outputs": [],
   "source": [
    "Graneles_solidos = df['Enero_2024 t Graneles Sólidos']"
   ]
  },
  {
   "cell_type": "code",
   "execution_count": 19,
   "metadata": {},
   "outputs": [],
   "source": [
    "Graneles_solidos_Febrero = df['Febrero_2024 t Graneles Sólidos']\n",
    "Graneles_solidos_Marzo = df['Marzo_2024 t Graneles Sólidos']\n",
    "Graneles_solidos_Abril = df['Abril_2024 t Graneles Sólidos']"
   ]
  },
  {
   "cell_type": "code",
   "execution_count": 20,
   "metadata": {},
   "outputs": [],
   "source": [
    "Graneles_solidos = Graneles_solidos.tolist()\n",
    "Graneles_solidos_Febrero = Graneles_solidos_Febrero.tolist()\n",
    "Graneles_solidos_Marzo = Graneles_solidos_Marzo.tolist()\n",
    "Graneles_solidos_Abril = Graneles_solidos_Abril.tolist()\n"
   ]
  },
  {
   "cell_type": "code",
   "execution_count": 21,
   "metadata": {},
   "outputs": [
    {
     "data": {
      "text/plain": [
       "112"
      ]
     },
     "execution_count": 21,
     "metadata": {},
     "output_type": "execute_result"
    }
   ],
   "source": [
    "for i in Graneles_solidos_Febrero:\n",
    "    Graneles_solidos.append(i)\n",
    "len(Graneles_solidos)\n",
    "\n",
    "for i in Graneles_solidos_Marzo:\n",
    "    Graneles_solidos.append(i)\n",
    "len(Graneles_solidos)\n",
    "\n",
    "for i in Graneles_solidos_Abril:\n",
    "    Graneles_solidos.append(i)\n",
    "len(Graneles_solidos)\n",
    "\n"
   ]
  },
  {
   "cell_type": "code",
   "execution_count": 22,
   "metadata": {},
   "outputs": [],
   "source": [
    "df_listo['Graneles Sólidos t'] = Graneles_solidos"
   ]
  },
  {
   "cell_type": "code",
   "execution_count": 23,
   "metadata": {},
   "outputs": [
    {
     "data": {
      "text/html": [
       "<div>\n",
       "<style scoped>\n",
       "    .dataframe tbody tr th:only-of-type {\n",
       "        vertical-align: middle;\n",
       "    }\n",
       "\n",
       "    .dataframe tbody tr th {\n",
       "        vertical-align: top;\n",
       "    }\n",
       "\n",
       "    .dataframe thead th {\n",
       "        text-align: right;\n",
       "    }\n",
       "</style>\n",
       "<table border=\"1\" class=\"dataframe\">\n",
       "  <thead>\n",
       "    <tr style=\"text-align: right;\">\n",
       "      <th></th>\n",
       "      <th>Meses</th>\n",
       "      <th>Autoridad_Portuaria</th>\n",
       "      <th>Graneles Líquidos t</th>\n",
       "      <th>Graneles Sólidos t</th>\n",
       "    </tr>\n",
       "  </thead>\n",
       "  <tbody>\n",
       "    <tr>\n",
       "      <th>0</th>\n",
       "      <td>Enero_2024</td>\n",
       "      <td>A Coruña</td>\n",
       "      <td>719906</td>\n",
       "      <td>406133</td>\n",
       "    </tr>\n",
       "    <tr>\n",
       "      <th>1</th>\n",
       "      <td>Enero_2024</td>\n",
       "      <td>Alicante</td>\n",
       "      <td>9007</td>\n",
       "      <td>109123</td>\n",
       "    </tr>\n",
       "    <tr>\n",
       "      <th>2</th>\n",
       "      <td>Enero_2024</td>\n",
       "      <td>Almería</td>\n",
       "      <td>18511</td>\n",
       "      <td>256126</td>\n",
       "    </tr>\n",
       "    <tr>\n",
       "      <th>3</th>\n",
       "      <td>Enero_2024</td>\n",
       "      <td>Avilés</td>\n",
       "      <td>61421</td>\n",
       "      <td>234074</td>\n",
       "    </tr>\n",
       "    <tr>\n",
       "      <th>4</th>\n",
       "      <td>Enero_2024</td>\n",
       "      <td>Bahía de Algeciras</td>\n",
       "      <td>2793935</td>\n",
       "      <td>42904</td>\n",
       "    </tr>\n",
       "  </tbody>\n",
       "</table>\n",
       "</div>"
      ],
      "text/plain": [
       "        Meses Autoridad_Portuaria  Graneles Líquidos t  Graneles Sólidos t\n",
       "0  Enero_2024            A Coruña               719906              406133\n",
       "1  Enero_2024            Alicante                 9007              109123\n",
       "2  Enero_2024             Almería                18511              256126\n",
       "3  Enero_2024              Avilés                61421              234074\n",
       "4  Enero_2024  Bahía de Algeciras              2793935               42904"
      ]
     },
     "execution_count": 23,
     "metadata": {},
     "output_type": "execute_result"
    }
   ],
   "source": [
    "df_listo.head()"
   ]
  },
  {
   "cell_type": "markdown",
   "metadata": {},
   "source": [
    "## Mercancía General"
   ]
  },
  {
   "cell_type": "code",
   "execution_count": 24,
   "metadata": {},
   "outputs": [],
   "source": [
    "Mercancia_general = df['Enero_2024 t Mercancía General']"
   ]
  },
  {
   "cell_type": "code",
   "execution_count": 25,
   "metadata": {},
   "outputs": [],
   "source": [
    "Mercancia_general_Febrero = df['Febrero_2024 t Mercancía General']\n",
    "Mercancia_general_Marzo = df['Marzo_2024 t Mercancía General']\n",
    "Mercancia_general_Abril = df['Abril_2024 t Mercancía General']\n"
   ]
  },
  {
   "cell_type": "code",
   "execution_count": 26,
   "metadata": {},
   "outputs": [],
   "source": [
    "Mercancia_general = Mercancia_general.tolist()\n",
    "Mercancia_general_Febrero = Mercancia_general_Febrero.tolist()\n",
    "Mercancia_general_Marzo = Mercancia_general_Marzo.tolist()\n",
    "Mercancia_general_Abril = Mercancia_general_Abril.tolist()"
   ]
  },
  {
   "cell_type": "code",
   "execution_count": 27,
   "metadata": {},
   "outputs": [
    {
     "data": {
      "text/plain": [
       "112"
      ]
     },
     "execution_count": 27,
     "metadata": {},
     "output_type": "execute_result"
    }
   ],
   "source": [
    "for i in Mercancia_general_Febrero:\n",
    "    Mercancia_general.append(i)\n",
    "len(Mercancia_general)\n",
    "\n",
    "for i in Mercancia_general_Marzo:\n",
    "    Mercancia_general.append(i)\n",
    "len(Mercancia_general)\n",
    "\n",
    "for i in Mercancia_general_Abril:\n",
    "    Mercancia_general.append(i)\n",
    "len(Mercancia_general)\n",
    "\n"
   ]
  },
  {
   "cell_type": "code",
   "execution_count": 28,
   "metadata": {},
   "outputs": [],
   "source": [
    "df_listo['Mercancía General t'] = Mercancia_general"
   ]
  },
  {
   "cell_type": "markdown",
   "metadata": {},
   "source": [
    "## Mercancía General Contenedores"
   ]
  },
  {
   "cell_type": "code",
   "execution_count": 29,
   "metadata": {},
   "outputs": [],
   "source": [
    "Mercancia_general_contenedores = df['Enero_2024 t Mercancía General Contenedores']"
   ]
  },
  {
   "cell_type": "code",
   "execution_count": 30,
   "metadata": {},
   "outputs": [],
   "source": [
    "Mercancia_general_contenedores_Febrero = df['Febrero_2024 t Mercancía General Contenedores']\n",
    "Mercancia_general_contenedores_Marzo = df['Marzo_2024 t Mercancía General Contenedores']\n",
    "Mercancia_general_contenedores_Abril = df['Abril_2024 t Mercancía General Contenedores']\n"
   ]
  },
  {
   "cell_type": "code",
   "execution_count": 31,
   "metadata": {},
   "outputs": [],
   "source": [
    "Mercancia_general_contenedores = Mercancia_general_contenedores.tolist()\n",
    "Mercancia_general_contenedores_Febrero = Mercancia_general_contenedores_Febrero.tolist()\n",
    "Mercancia_general_contenedores_Marzo = Mercancia_general_contenedores_Marzo.tolist()\n",
    "Mercancia_general_contenedores_Abril = Mercancia_general_contenedores_Abril.tolist()\n"
   ]
  },
  {
   "cell_type": "code",
   "execution_count": 32,
   "metadata": {},
   "outputs": [
    {
     "data": {
      "text/plain": [
       "112"
      ]
     },
     "execution_count": 32,
     "metadata": {},
     "output_type": "execute_result"
    }
   ],
   "source": [
    "for i in Mercancia_general_contenedores_Febrero:\n",
    "    Mercancia_general_contenedores.append(i)\n",
    "len(Mercancia_general_contenedores)\n",
    "\n",
    "for i in Mercancia_general_contenedores_Marzo:\n",
    "    Mercancia_general_contenedores.append(i)\n",
    "len(Mercancia_general_contenedores)\n",
    "\n",
    "for i in Mercancia_general_contenedores_Abril:\n",
    "    Mercancia_general_contenedores.append(i)\n",
    "len(Mercancia_general_contenedores)\n",
    "\n"
   ]
  },
  {
   "cell_type": "code",
   "execution_count": 33,
   "metadata": {},
   "outputs": [],
   "source": [
    "df_listo['Mercancia General Contenedores t'] = Mercancia_general_contenedores"
   ]
  },
  {
   "cell_type": "markdown",
   "metadata": {},
   "source": [
    "## Pesca"
   ]
  },
  {
   "cell_type": "code",
   "execution_count": 34,
   "metadata": {},
   "outputs": [],
   "source": [
    "Pesca = df['Enero_2024 t Pesca']"
   ]
  },
  {
   "cell_type": "code",
   "execution_count": 35,
   "metadata": {},
   "outputs": [],
   "source": [
    "Pesca_Febrero = df['Febrero_2024 t Pesca']\n",
    "Pesca_Marzo = df['Marzo_2024 t Pesca']\n",
    "Pesca_Abril = df['Abril_2024 t Pesca']\n"
   ]
  },
  {
   "cell_type": "code",
   "execution_count": 36,
   "metadata": {},
   "outputs": [],
   "source": [
    "Pesca = Pesca.tolist()\n",
    "Pesca_Febrero = Pesca_Febrero.tolist()\n",
    "Pesca_Marzo = Pesca_Marzo.tolist()\n",
    "Pesca_Abril = Pesca_Abril.tolist()\n"
   ]
  },
  {
   "cell_type": "code",
   "execution_count": 37,
   "metadata": {},
   "outputs": [
    {
     "data": {
      "text/plain": [
       "112"
      ]
     },
     "execution_count": 37,
     "metadata": {},
     "output_type": "execute_result"
    }
   ],
   "source": [
    "for i in Pesca_Febrero:\n",
    "    Pesca.append(i)\n",
    "len(Pesca)\n",
    "\n",
    "for i in Pesca_Marzo:\n",
    "    Pesca.append(i)\n",
    "len(Pesca)\n",
    "\n",
    "for i in Pesca_Abril:\n",
    "    Pesca.append(i)\n",
    "len(Pesca)\n"
   ]
  },
  {
   "cell_type": "code",
   "execution_count": 38,
   "metadata": {},
   "outputs": [],
   "source": [
    "pd.options.display.max_columns = None\n",
    "pd.options.display.max_rows = None"
   ]
  },
  {
   "cell_type": "code",
   "execution_count": 39,
   "metadata": {},
   "outputs": [],
   "source": [
    "df_listo['Pesca t'] = Pesca"
   ]
  },
  {
   "cell_type": "code",
   "execution_count": 40,
   "metadata": {},
   "outputs": [
    {
     "data": {
      "text/html": [
       "<div>\n",
       "<style scoped>\n",
       "    .dataframe tbody tr th:only-of-type {\n",
       "        vertical-align: middle;\n",
       "    }\n",
       "\n",
       "    .dataframe tbody tr th {\n",
       "        vertical-align: top;\n",
       "    }\n",
       "\n",
       "    .dataframe thead th {\n",
       "        text-align: right;\n",
       "    }\n",
       "</style>\n",
       "<table border=\"1\" class=\"dataframe\">\n",
       "  <thead>\n",
       "    <tr style=\"text-align: right;\">\n",
       "      <th></th>\n",
       "      <th>Meses</th>\n",
       "      <th>Autoridad_Portuaria</th>\n",
       "      <th>Graneles Líquidos t</th>\n",
       "      <th>Graneles Sólidos t</th>\n",
       "      <th>Mercancía General t</th>\n",
       "      <th>Mercancia General Contenedores t</th>\n",
       "      <th>Pesca t</th>\n",
       "    </tr>\n",
       "  </thead>\n",
       "  <tbody>\n",
       "    <tr>\n",
       "      <th>0</th>\n",
       "      <td>Enero_2024</td>\n",
       "      <td>A Coruña</td>\n",
       "      <td>719906</td>\n",
       "      <td>406133</td>\n",
       "      <td>29789</td>\n",
       "      <td>0</td>\n",
       "      <td>1148.912</td>\n",
       "    </tr>\n",
       "    <tr>\n",
       "      <th>1</th>\n",
       "      <td>Enero_2024</td>\n",
       "      <td>Alicante</td>\n",
       "      <td>9007</td>\n",
       "      <td>109123</td>\n",
       "      <td>86149</td>\n",
       "      <td>77281</td>\n",
       "      <td>0.000</td>\n",
       "    </tr>\n",
       "    <tr>\n",
       "      <th>2</th>\n",
       "      <td>Enero_2024</td>\n",
       "      <td>Almería</td>\n",
       "      <td>18511</td>\n",
       "      <td>256126</td>\n",
       "      <td>109347</td>\n",
       "      <td>15607</td>\n",
       "      <td>228.505</td>\n",
       "    </tr>\n",
       "    <tr>\n",
       "      <th>3</th>\n",
       "      <td>Enero_2024</td>\n",
       "      <td>Avilés</td>\n",
       "      <td>61421</td>\n",
       "      <td>234074</td>\n",
       "      <td>84260</td>\n",
       "      <td>0</td>\n",
       "      <td>446.146</td>\n",
       "    </tr>\n",
       "    <tr>\n",
       "      <th>4</th>\n",
       "      <td>Enero_2024</td>\n",
       "      <td>Bahía de Algeciras</td>\n",
       "      <td>2793935</td>\n",
       "      <td>42904</td>\n",
       "      <td>5498543</td>\n",
       "      <td>4436836</td>\n",
       "      <td>87.537</td>\n",
       "    </tr>\n",
       "  </tbody>\n",
       "</table>\n",
       "</div>"
      ],
      "text/plain": [
       "        Meses Autoridad_Portuaria  Graneles Líquidos t  Graneles Sólidos t  \\\n",
       "0  Enero_2024            A Coruña               719906              406133   \n",
       "1  Enero_2024            Alicante                 9007              109123   \n",
       "2  Enero_2024             Almería                18511              256126   \n",
       "3  Enero_2024              Avilés                61421              234074   \n",
       "4  Enero_2024  Bahía de Algeciras              2793935               42904   \n",
       "\n",
       "   Mercancía General t  Mercancia General Contenedores t   Pesca t  \n",
       "0                29789                                 0  1148.912  \n",
       "1                86149                             77281     0.000  \n",
       "2               109347                             15607   228.505  \n",
       "3                84260                                 0   446.146  \n",
       "4              5498543                           4436836    87.537  "
      ]
     },
     "execution_count": 40,
     "metadata": {},
     "output_type": "execute_result"
    }
   ],
   "source": [
    "df_listo.head()"
   ]
  },
  {
   "cell_type": "markdown",
   "metadata": {},
   "source": [
    "## Avituallamiento"
   ]
  },
  {
   "cell_type": "code",
   "execution_count": 41,
   "metadata": {},
   "outputs": [],
   "source": [
    "Avituallamiento = df['Enero_2024 t Avituallamiento']"
   ]
  },
  {
   "cell_type": "code",
   "execution_count": 42,
   "metadata": {},
   "outputs": [],
   "source": [
    "Avituallamiento_Febrero = df['Febrero_2024 t Avituallamiento']\n",
    "Avituallamiento_Marzo = df['Marzo_2024 t Avituallamiento']\n",
    "Avituallamiento_Abril = df['Abril_2024 t Avituallamiento']\n"
   ]
  },
  {
   "cell_type": "code",
   "execution_count": 43,
   "metadata": {},
   "outputs": [],
   "source": [
    "Avituallamiento = Avituallamiento.tolist()\n",
    "Avituallamiento_Febrero = Avituallamiento_Febrero.tolist()\n",
    "Avituallamiento_Marzo = Avituallamiento_Marzo.tolist()\n",
    "Avituallamiento_Abril = Avituallamiento_Abril.tolist()\n"
   ]
  },
  {
   "cell_type": "code",
   "execution_count": 44,
   "metadata": {},
   "outputs": [
    {
     "data": {
      "text/plain": [
       "112"
      ]
     },
     "execution_count": 44,
     "metadata": {},
     "output_type": "execute_result"
    }
   ],
   "source": [
    "for i in Avituallamiento_Febrero:\n",
    "    Avituallamiento.append(i)\n",
    "len(Avituallamiento)\n",
    "\n",
    "for i in Avituallamiento_Marzo:\n",
    "    Avituallamiento.append(i)\n",
    "len(Avituallamiento)\n",
    "\n",
    "for i in Avituallamiento_Abril:\n",
    "    Avituallamiento.append(i)\n",
    "len(Avituallamiento)\n"
   ]
  },
  {
   "cell_type": "code",
   "execution_count": 45,
   "metadata": {},
   "outputs": [],
   "source": [
    "df_listo['Avituallamiento t'] = Avituallamiento"
   ]
  },
  {
   "cell_type": "markdown",
   "metadata": {},
   "source": [
    "## Avituallamiento De Combustibles Líquidos"
   ]
  },
  {
   "cell_type": "code",
   "execution_count": 46,
   "metadata": {},
   "outputs": [],
   "source": [
    "Avituallamiento_de_comb_liquidos = df['Enero_2024 t Avituallamiento De Combustibles Líquidos']"
   ]
  },
  {
   "cell_type": "code",
   "execution_count": 47,
   "metadata": {},
   "outputs": [],
   "source": [
    "Avituallamiento_De_Combustibles_Líquidos_Febrero = df['Febrero_2024 t Avituallamiento De Combustibles Líquidos']\n",
    "Avituallamiento_De_Combustibles_Líquidos_Marzo = df['Marzo_2024 t Avituallamiento De Combustibles Líquidos']\n",
    "Avituallamiento_De_Combustibles_Líquidos_Abril = df['Abril_2024 t Avituallamiento De Combustibles Líquidos']\n"
   ]
  },
  {
   "cell_type": "code",
   "execution_count": 48,
   "metadata": {},
   "outputs": [],
   "source": [
    "Avituallamiento_De_Combustibles_Líquidos = Avituallamiento_de_comb_liquidos.tolist()\n",
    "Avituallamiento_De_Combustibles_Líquidos_Febrero = Avituallamiento_De_Combustibles_Líquidos_Febrero.tolist()\n",
    "Avituallamiento_De_Combustibles_Líquidos_Marzo = Avituallamiento_De_Combustibles_Líquidos_Marzo.tolist()\n",
    "Avituallamiento_De_Combustibles_Líquidos_Abril = Avituallamiento_De_Combustibles_Líquidos_Abril.tolist()\n"
   ]
  },
  {
   "cell_type": "code",
   "execution_count": 49,
   "metadata": {},
   "outputs": [
    {
     "data": {
      "text/plain": [
       "112"
      ]
     },
     "execution_count": 49,
     "metadata": {},
     "output_type": "execute_result"
    }
   ],
   "source": [
    "for i in Avituallamiento_De_Combustibles_Líquidos_Febrero:\n",
    "    Avituallamiento_De_Combustibles_Líquidos.append(i)\n",
    "len(Avituallamiento_De_Combustibles_Líquidos)\n",
    "\n",
    "for i in Avituallamiento_De_Combustibles_Líquidos_Marzo:\n",
    "    Avituallamiento_De_Combustibles_Líquidos.append(i)\n",
    "len(Avituallamiento_De_Combustibles_Líquidos)\n",
    "\n",
    "for i in Avituallamiento_De_Combustibles_Líquidos_Abril:\n",
    "    Avituallamiento_De_Combustibles_Líquidos.append(i)\n",
    "len(Avituallamiento_De_Combustibles_Líquidos)\n",
    "\n"
   ]
  },
  {
   "cell_type": "code",
   "execution_count": 50,
   "metadata": {},
   "outputs": [],
   "source": [
    "df_listo['Avituallamiento De Combustibles Líquidos t'] = Avituallamiento_De_Combustibles_Líquidos"
   ]
  },
  {
   "cell_type": "markdown",
   "metadata": {},
   "source": [
    "## Tráfico Interior"
   ]
  },
  {
   "cell_type": "code",
   "execution_count": 51,
   "metadata": {},
   "outputs": [],
   "source": [
    "Trafico_interior = df['Enero_2024 t Tráfico Interior']"
   ]
  },
  {
   "cell_type": "code",
   "execution_count": 52,
   "metadata": {},
   "outputs": [],
   "source": [
    "Trafico_interior_Febrero = df['Febrero_2024 t Tráfico Interior']\n",
    "Trafico_interior_Marzo = df['Marzo_2024 t Tráfico Interior']\n",
    "Trafico_interior_Abril = df['Abril_2024 t Tráfico Interior']\n"
   ]
  },
  {
   "cell_type": "code",
   "execution_count": 53,
   "metadata": {},
   "outputs": [],
   "source": [
    "Trafico_interior = Trafico_interior.tolist()"
   ]
  },
  {
   "cell_type": "code",
   "execution_count": 54,
   "metadata": {},
   "outputs": [],
   "source": [
    "\n",
    "Trafico_interior_Febrero = Trafico_interior_Febrero.tolist()\n",
    "Trafico_interior_Marzo = Trafico_interior_Marzo.tolist()\n",
    "Trafico_interior_Abril = Trafico_interior_Abril.tolist()\n"
   ]
  },
  {
   "cell_type": "code",
   "execution_count": 55,
   "metadata": {},
   "outputs": [
    {
     "data": {
      "text/plain": [
       "112"
      ]
     },
     "execution_count": 55,
     "metadata": {},
     "output_type": "execute_result"
    }
   ],
   "source": [
    "for i in Trafico_interior_Febrero:\n",
    "    Trafico_interior.append(i)\n",
    "len(Trafico_interior)\n",
    "\n",
    "for i in Trafico_interior_Marzo:\n",
    "    Trafico_interior.append(i)\n",
    "len(Trafico_interior)\n",
    "\n",
    "for i in Trafico_interior_Abril:\n",
    "    Trafico_interior.append(i)\n",
    "len(Trafico_interior)\n"
   ]
  },
  {
   "cell_type": "code",
   "execution_count": 56,
   "metadata": {},
   "outputs": [],
   "source": [
    "df_listo['Tráfico Interior t'] = Trafico_interior"
   ]
  },
  {
   "cell_type": "markdown",
   "metadata": {},
   "source": [
    "## Mercancías En Tránsito"
   ]
  },
  {
   "cell_type": "code",
   "execution_count": 57,
   "metadata": {},
   "outputs": [],
   "source": [
    "Mercancias_en_transito = df['Enero_2024 t Mercancías En Tránsito']"
   ]
  },
  {
   "cell_type": "code",
   "execution_count": 58,
   "metadata": {},
   "outputs": [],
   "source": [
    "Mercancias_en_transito_Febrero = df['Febrero_2024 t Mercancías En Tránsito']\n",
    "Mercancias_en_transito_Marzo = df['Marzo_2024 t Mercancías En Tránsito']\n",
    "Mercancias_en_transito_Abril = df['Abril_2024 t Mercancías En Tránsito']\n"
   ]
  },
  {
   "cell_type": "code",
   "execution_count": 59,
   "metadata": {},
   "outputs": [],
   "source": [
    "Mercancias_en_transito = Mercancias_en_transito.tolist()\n",
    "Mercancias_en_transito_Febrero = Mercancias_en_transito_Febrero.tolist()\n",
    "Mercancias_en_transito_Marzo = Mercancias_en_transito_Marzo.tolist()\n",
    "Mercancias_en_transito_Abril = Mercancias_en_transito_Abril.tolist()\n"
   ]
  },
  {
   "cell_type": "code",
   "execution_count": 60,
   "metadata": {},
   "outputs": [
    {
     "data": {
      "text/plain": [
       "112"
      ]
     },
     "execution_count": 60,
     "metadata": {},
     "output_type": "execute_result"
    }
   ],
   "source": [
    "for i in Mercancias_en_transito_Febrero:\n",
    "    Mercancias_en_transito.append(i)\n",
    "len(Mercancias_en_transito)\n",
    "\n",
    "for i in Mercancias_en_transito_Marzo:\n",
    "    Mercancias_en_transito.append(i)\n",
    "len(Mercancias_en_transito)\n",
    "\n",
    "for i in Mercancias_en_transito_Abril:\n",
    "    Mercancias_en_transito.append(i)\n",
    "len(Mercancias_en_transito)\n",
    "\n"
   ]
  },
  {
   "cell_type": "code",
   "execution_count": 61,
   "metadata": {},
   "outputs": [],
   "source": [
    "df_listo['Mercancías En Tránsito t'] = Mercancias_en_transito"
   ]
  },
  {
   "cell_type": "markdown",
   "metadata": {},
   "source": [
    "## Mercancías En Tránsito En Contenedores"
   ]
  },
  {
   "cell_type": "code",
   "execution_count": 62,
   "metadata": {},
   "outputs": [],
   "source": [
    "Mercancias_en_transito_contenedores = df['Enero_2024 t Mercancías En Tránsito En Contenedores']"
   ]
  },
  {
   "cell_type": "code",
   "execution_count": 63,
   "metadata": {},
   "outputs": [],
   "source": [
    "Mercancias_en_transito_contenedores_Febrero = df['Febrero_2024 t Mercancías En Tránsito En Contenedores']\n",
    "Mercancias_en_transito_contenedores_Marzo = df['Marzo_2024 t Mercancías En Tránsito En Contenedores']\n",
    "Mercancias_en_transito_contenedores_Abril = df['Abril_2024 t Mercancías En Tránsito En Contenedores']\n"
   ]
  },
  {
   "cell_type": "code",
   "execution_count": 64,
   "metadata": {},
   "outputs": [],
   "source": [
    "Mercancias_en_transito_contenedores = Mercancias_en_transito_contenedores.tolist()\n",
    "Mercancias_en_transito_contenedores_Febrero = Mercancias_en_transito_contenedores_Febrero.tolist()\n",
    "Mercancias_en_transito_contenedores_Marzo = Mercancias_en_transito_contenedores_Marzo.tolist()\n",
    "Mercancias_en_transito_contenedores_Abril = Mercancias_en_transito_contenedores_Abril.tolist()\n"
   ]
  },
  {
   "cell_type": "code",
   "execution_count": 65,
   "metadata": {},
   "outputs": [
    {
     "data": {
      "text/plain": [
       "112"
      ]
     },
     "execution_count": 65,
     "metadata": {},
     "output_type": "execute_result"
    }
   ],
   "source": [
    "for i in Mercancias_en_transito_contenedores_Febrero:\n",
    "    Mercancias_en_transito_contenedores.append(i)\n",
    "len(Mercancias_en_transito_contenedores)\n",
    "\n",
    "for i in Mercancias_en_transito_contenedores_Marzo:\n",
    "    Mercancias_en_transito_contenedores.append(i)\n",
    "len(Mercancias_en_transito_contenedores)\n",
    "\n",
    "for i in Mercancias_en_transito_contenedores_Abril:\n",
    "    Mercancias_en_transito_contenedores.append(i)\n",
    "len(Mercancias_en_transito_contenedores)\n"
   ]
  },
  {
   "cell_type": "code",
   "execution_count": 66,
   "metadata": {},
   "outputs": [],
   "source": [
    "df_listo['Mercancías En Tránsito En Contenedores t'] = Mercancias_en_transito_contenedores"
   ]
  },
  {
   "cell_type": "code",
   "execution_count": 67,
   "metadata": {},
   "outputs": [
    {
     "data": {
      "text/html": [
       "<div>\n",
       "<style scoped>\n",
       "    .dataframe tbody tr th:only-of-type {\n",
       "        vertical-align: middle;\n",
       "    }\n",
       "\n",
       "    .dataframe tbody tr th {\n",
       "        vertical-align: top;\n",
       "    }\n",
       "\n",
       "    .dataframe thead th {\n",
       "        text-align: right;\n",
       "    }\n",
       "</style>\n",
       "<table border=\"1\" class=\"dataframe\">\n",
       "  <thead>\n",
       "    <tr style=\"text-align: right;\">\n",
       "      <th></th>\n",
       "      <th>Meses</th>\n",
       "      <th>Autoridad_Portuaria</th>\n",
       "      <th>Graneles Líquidos t</th>\n",
       "      <th>Graneles Sólidos t</th>\n",
       "      <th>Mercancía General t</th>\n",
       "      <th>Mercancia General Contenedores t</th>\n",
       "      <th>Pesca t</th>\n",
       "      <th>Avituallamiento t</th>\n",
       "      <th>Avituallamiento De Combustibles Líquidos t</th>\n",
       "      <th>Tráfico Interior t</th>\n",
       "      <th>Mercancías En Tránsito t</th>\n",
       "      <th>Mercancías En Tránsito En Contenedores t</th>\n",
       "    </tr>\n",
       "  </thead>\n",
       "  <tbody>\n",
       "    <tr>\n",
       "      <th>0</th>\n",
       "      <td>Enero_2024</td>\n",
       "      <td>A Coruña</td>\n",
       "      <td>719906</td>\n",
       "      <td>406133</td>\n",
       "      <td>29789</td>\n",
       "      <td>0</td>\n",
       "      <td>1148.912</td>\n",
       "      <td>2903</td>\n",
       "      <td>2245</td>\n",
       "      <td>0</td>\n",
       "      <td>41024</td>\n",
       "      <td>0</td>\n",
       "    </tr>\n",
       "    <tr>\n",
       "      <th>1</th>\n",
       "      <td>Enero_2024</td>\n",
       "      <td>Alicante</td>\n",
       "      <td>9007</td>\n",
       "      <td>109123</td>\n",
       "      <td>86149</td>\n",
       "      <td>77281</td>\n",
       "      <td>0.000</td>\n",
       "      <td>881</td>\n",
       "      <td>55</td>\n",
       "      <td>0</td>\n",
       "      <td>297</td>\n",
       "      <td>297</td>\n",
       "    </tr>\n",
       "    <tr>\n",
       "      <th>2</th>\n",
       "      <td>Enero_2024</td>\n",
       "      <td>Almería</td>\n",
       "      <td>18511</td>\n",
       "      <td>256126</td>\n",
       "      <td>109347</td>\n",
       "      <td>15607</td>\n",
       "      <td>228.505</td>\n",
       "      <td>6088</td>\n",
       "      <td>2622</td>\n",
       "      <td>0</td>\n",
       "      <td>0</td>\n",
       "      <td>0</td>\n",
       "    </tr>\n",
       "    <tr>\n",
       "      <th>3</th>\n",
       "      <td>Enero_2024</td>\n",
       "      <td>Avilés</td>\n",
       "      <td>61421</td>\n",
       "      <td>234074</td>\n",
       "      <td>84260</td>\n",
       "      <td>0</td>\n",
       "      <td>446.146</td>\n",
       "      <td>2950</td>\n",
       "      <td>1050</td>\n",
       "      <td>0</td>\n",
       "      <td>0</td>\n",
       "      <td>0</td>\n",
       "    </tr>\n",
       "    <tr>\n",
       "      <th>4</th>\n",
       "      <td>Enero_2024</td>\n",
       "      <td>Bahía de Algeciras</td>\n",
       "      <td>2793935</td>\n",
       "      <td>42904</td>\n",
       "      <td>5498543</td>\n",
       "      <td>4436836</td>\n",
       "      <td>87.537</td>\n",
       "      <td>347997</td>\n",
       "      <td>330817</td>\n",
       "      <td>325168</td>\n",
       "      <td>5388705</td>\n",
       "      <td>3990822</td>\n",
       "    </tr>\n",
       "  </tbody>\n",
       "</table>\n",
       "</div>"
      ],
      "text/plain": [
       "        Meses Autoridad_Portuaria  Graneles Líquidos t  Graneles Sólidos t  \\\n",
       "0  Enero_2024            A Coruña               719906              406133   \n",
       "1  Enero_2024            Alicante                 9007              109123   \n",
       "2  Enero_2024             Almería                18511              256126   \n",
       "3  Enero_2024              Avilés                61421              234074   \n",
       "4  Enero_2024  Bahía de Algeciras              2793935               42904   \n",
       "\n",
       "   Mercancía General t  Mercancia General Contenedores t   Pesca t  \\\n",
       "0                29789                                 0  1148.912   \n",
       "1                86149                             77281     0.000   \n",
       "2               109347                             15607   228.505   \n",
       "3                84260                                 0   446.146   \n",
       "4              5498543                           4436836    87.537   \n",
       "\n",
       "   Avituallamiento t  Avituallamiento De Combustibles Líquidos t  \\\n",
       "0               2903                                        2245   \n",
       "1                881                                          55   \n",
       "2               6088                                        2622   \n",
       "3               2950                                        1050   \n",
       "4             347997                                      330817   \n",
       "\n",
       "   Tráfico Interior t  Mercancías En Tránsito t  \\\n",
       "0                   0                     41024   \n",
       "1                   0                       297   \n",
       "2                   0                         0   \n",
       "3                   0                         0   \n",
       "4              325168                   5388705   \n",
       "\n",
       "   Mercancías En Tránsito En Contenedores t  \n",
       "0                                         0  \n",
       "1                                       297  \n",
       "2                                         0  \n",
       "3                                         0  \n",
       "4                                   3990822  "
      ]
     },
     "execution_count": 67,
     "metadata": {},
     "output_type": "execute_result"
    }
   ],
   "source": [
    "df_listo.head()"
   ]
  },
  {
   "cell_type": "markdown",
   "metadata": {},
   "source": [
    "## Tráfico Ro-Ro"
   ]
  },
  {
   "cell_type": "code",
   "execution_count": 68,
   "metadata": {},
   "outputs": [],
   "source": [
    "Trafico_ro_ro = df['Enero_2024 t Tráfico Ro-Ro']"
   ]
  },
  {
   "cell_type": "code",
   "execution_count": 69,
   "metadata": {},
   "outputs": [],
   "source": [
    "Trafico_ro_ro_Febrero = df['Febrero_2024 t Tráfico Ro-Ro']\n",
    "Trafico_ro_ro_Marzo = df['Marzo_2024 t Tráfico Ro-Ro']\n",
    "Trafico_ro_ro_Abril = df['Abril_2024 t Tráfico Ro-Ro']\n"
   ]
  },
  {
   "cell_type": "code",
   "execution_count": 70,
   "metadata": {},
   "outputs": [],
   "source": [
    "Trafico_ro_ro = Trafico_ro_ro.tolist()\n",
    "Trafico_ro_ro_Febrero = Trafico_ro_ro_Febrero.tolist()\n",
    "Trafico_ro_ro_Marzo = Trafico_ro_ro_Marzo.tolist()\n",
    "Trafico_ro_ro_Abril = Trafico_ro_ro_Abril.tolist()\n"
   ]
  },
  {
   "cell_type": "code",
   "execution_count": 71,
   "metadata": {},
   "outputs": [
    {
     "data": {
      "text/plain": [
       "112"
      ]
     },
     "execution_count": 71,
     "metadata": {},
     "output_type": "execute_result"
    }
   ],
   "source": [
    "for i in Trafico_ro_ro_Febrero:\n",
    "    Trafico_ro_ro.append(i)\n",
    "len(Trafico_ro_ro)\n",
    "\n",
    "for i in Trafico_ro_ro_Marzo:\n",
    "    Trafico_ro_ro.append(i)\n",
    "len(Trafico_ro_ro)\n",
    "\n",
    "for i in Trafico_ro_ro_Abril:\n",
    "    Trafico_ro_ro.append(i)\n",
    "len(Trafico_ro_ro)\n"
   ]
  },
  {
   "cell_type": "code",
   "execution_count": 72,
   "metadata": {},
   "outputs": [],
   "source": [
    "df_listo['Tráfico Ro-Ro t'] = Trafico_ro_ro"
   ]
  },
  {
   "cell_type": "markdown",
   "metadata": {},
   "source": [
    "## UTIS Ro-Ro"
   ]
  },
  {
   "cell_type": "code",
   "execution_count": 73,
   "metadata": {},
   "outputs": [],
   "source": [
    "UTIS_ro_ro = df['Enero_2023 UTIS Ro-Ro']"
   ]
  },
  {
   "cell_type": "code",
   "execution_count": 74,
   "metadata": {},
   "outputs": [],
   "source": [
    "UTIS_ro_ro_Febrero = df['Febrero_2024 UTIS Ro-Ro']\n",
    "UTIS_ro_ro_Marzo = df['Marzo_2024 UTIS Ro-Ro']\n",
    "UTIS_ro_ro_Abril = df['Abril_2024 UTIS Ro-Ro']\n"
   ]
  },
  {
   "cell_type": "code",
   "execution_count": 75,
   "metadata": {},
   "outputs": [],
   "source": [
    "UTIS_ro_ro = UTIS_ro_ro.tolist()\n",
    "UTIS_ro_ro_Febrero = UTIS_ro_ro_Febrero.tolist()\n",
    "UTIS_ro_ro_Marzo = UTIS_ro_ro_Marzo.tolist()\n",
    "UTIS_ro_ro_Abril = UTIS_ro_ro_Abril.tolist()\n"
   ]
  },
  {
   "cell_type": "code",
   "execution_count": 76,
   "metadata": {},
   "outputs": [
    {
     "data": {
      "text/plain": [
       "112"
      ]
     },
     "execution_count": 76,
     "metadata": {},
     "output_type": "execute_result"
    }
   ],
   "source": [
    "for i in UTIS_ro_ro_Febrero:\n",
    "    UTIS_ro_ro.append(i)\n",
    "len(UTIS_ro_ro)\n",
    "\n",
    "for i in UTIS_ro_ro_Marzo:\n",
    "    UTIS_ro_ro.append(i)\n",
    "len(UTIS_ro_ro)\n",
    "\n",
    "for i in UTIS_ro_ro_Abril:\n",
    "    UTIS_ro_ro.append(i)\n",
    "len(UTIS_ro_ro)\n",
    "\n"
   ]
  },
  {
   "cell_type": "code",
   "execution_count": 77,
   "metadata": {},
   "outputs": [],
   "source": [
    "df_listo['UTIS Ro-Ro'] = UTIS_ro_ro"
   ]
  },
  {
   "cell_type": "markdown",
   "metadata": {},
   "source": [
    "## TEUS Contenedores"
   ]
  },
  {
   "cell_type": "code",
   "execution_count": 78,
   "metadata": {},
   "outputs": [],
   "source": [
    "TEUS_contenedores = df['Enero_2024 TEUS Contenedores']"
   ]
  },
  {
   "cell_type": "code",
   "execution_count": 79,
   "metadata": {},
   "outputs": [],
   "source": [
    "TEUS_contenedores_Febrero = df['Febrero_2024 TEUS Contenedores']\n",
    "TEUS_contenedores_Marzo = df['Marzo_2024 TEUS Contenedores']\n",
    "TEUS_contenedores_Abril = df['Abril_2024 TEUS Contenedores']\n"
   ]
  },
  {
   "cell_type": "code",
   "execution_count": 80,
   "metadata": {},
   "outputs": [],
   "source": [
    "TEUS_contenedores = TEUS_contenedores.tolist()\n",
    "TEUS_contenedores_Febrero = TEUS_contenedores_Febrero.tolist()\n",
    "TEUS_contenedores_Marzo = TEUS_contenedores_Marzo.tolist()\n",
    "TEUS_contenedores_Abril = TEUS_contenedores_Abril.tolist()\n"
   ]
  },
  {
   "cell_type": "code",
   "execution_count": 81,
   "metadata": {},
   "outputs": [
    {
     "data": {
      "text/plain": [
       "112"
      ]
     },
     "execution_count": 81,
     "metadata": {},
     "output_type": "execute_result"
    }
   ],
   "source": [
    "for i in TEUS_contenedores_Febrero:\n",
    "    TEUS_contenedores.append(i)\n",
    "len(TEUS_contenedores)\n",
    "\n",
    "for i in TEUS_contenedores_Marzo:\n",
    "    TEUS_contenedores.append(i)\n",
    "len(TEUS_contenedores)\n",
    "\n",
    "for i in TEUS_contenedores_Abril:\n",
    "    TEUS_contenedores.append(i)\n",
    "len(TEUS_contenedores)\n",
    "\n"
   ]
  },
  {
   "cell_type": "code",
   "execution_count": 82,
   "metadata": {},
   "outputs": [],
   "source": [
    "df_listo['TEUS Contenedores'] = TEUS_contenedores"
   ]
  },
  {
   "cell_type": "code",
   "execution_count": 83,
   "metadata": {},
   "outputs": [
    {
     "data": {
      "text/html": [
       "<div>\n",
       "<style scoped>\n",
       "    .dataframe tbody tr th:only-of-type {\n",
       "        vertical-align: middle;\n",
       "    }\n",
       "\n",
       "    .dataframe tbody tr th {\n",
       "        vertical-align: top;\n",
       "    }\n",
       "\n",
       "    .dataframe thead th {\n",
       "        text-align: right;\n",
       "    }\n",
       "</style>\n",
       "<table border=\"1\" class=\"dataframe\">\n",
       "  <thead>\n",
       "    <tr style=\"text-align: right;\">\n",
       "      <th></th>\n",
       "      <th>Meses</th>\n",
       "      <th>Autoridad_Portuaria</th>\n",
       "      <th>Graneles Líquidos t</th>\n",
       "      <th>Graneles Sólidos t</th>\n",
       "      <th>Mercancía General t</th>\n",
       "      <th>Mercancia General Contenedores t</th>\n",
       "      <th>Pesca t</th>\n",
       "      <th>Avituallamiento t</th>\n",
       "      <th>Avituallamiento De Combustibles Líquidos t</th>\n",
       "      <th>Tráfico Interior t</th>\n",
       "      <th>Mercancías En Tránsito t</th>\n",
       "      <th>Mercancías En Tránsito En Contenedores t</th>\n",
       "      <th>Tráfico Ro-Ro t</th>\n",
       "      <th>UTIS Ro-Ro</th>\n",
       "      <th>TEUS Contenedores</th>\n",
       "    </tr>\n",
       "  </thead>\n",
       "  <tbody>\n",
       "    <tr>\n",
       "      <th>107</th>\n",
       "      <td>Abril_2024</td>\n",
       "      <td>Sevilla</td>\n",
       "      <td>62737</td>\n",
       "      <td>159187</td>\n",
       "      <td>153247</td>\n",
       "      <td>90326</td>\n",
       "      <td>0.000</td>\n",
       "      <td>4105</td>\n",
       "      <td>1338</td>\n",
       "      <td>0</td>\n",
       "      <td>0</td>\n",
       "      <td>0</td>\n",
       "      <td>13927</td>\n",
       "      <td>768</td>\n",
       "      <td>12104.50</td>\n",
       "    </tr>\n",
       "    <tr>\n",
       "      <th>108</th>\n",
       "      <td>Abril_2024</td>\n",
       "      <td>Tarragona</td>\n",
       "      <td>1747029</td>\n",
       "      <td>531797</td>\n",
       "      <td>167157</td>\n",
       "      <td>11144</td>\n",
       "      <td>237.686</td>\n",
       "      <td>10794</td>\n",
       "      <td>4720</td>\n",
       "      <td>0</td>\n",
       "      <td>65798</td>\n",
       "      <td>0</td>\n",
       "      <td>25348</td>\n",
       "      <td>0</td>\n",
       "      <td>1039.00</td>\n",
       "    </tr>\n",
       "    <tr>\n",
       "      <th>109</th>\n",
       "      <td>Abril_2024</td>\n",
       "      <td>Valencia</td>\n",
       "      <td>298325</td>\n",
       "      <td>171680</td>\n",
       "      <td>6471158</td>\n",
       "      <td>5005110</td>\n",
       "      <td>161.132</td>\n",
       "      <td>39503</td>\n",
       "      <td>33826</td>\n",
       "      <td>0</td>\n",
       "      <td>2901186</td>\n",
       "      <td>2844404</td>\n",
       "      <td>1244068</td>\n",
       "      <td>45653</td>\n",
       "      <td>463499.00</td>\n",
       "    </tr>\n",
       "    <tr>\n",
       "      <th>110</th>\n",
       "      <td>Abril_2024</td>\n",
       "      <td>Vigo</td>\n",
       "      <td>3000</td>\n",
       "      <td>27501</td>\n",
       "      <td>446454</td>\n",
       "      <td>262676</td>\n",
       "      <td>2754.865</td>\n",
       "      <td>5371</td>\n",
       "      <td>0</td>\n",
       "      <td>0</td>\n",
       "      <td>51997</td>\n",
       "      <td>43395</td>\n",
       "      <td>127983</td>\n",
       "      <td>1998</td>\n",
       "      <td>28621.00</td>\n",
       "    </tr>\n",
       "    <tr>\n",
       "      <th>111</th>\n",
       "      <td>Abril_2024</td>\n",
       "      <td>Vilagarcía</td>\n",
       "      <td>48921</td>\n",
       "      <td>41318</td>\n",
       "      <td>62787</td>\n",
       "      <td>27852</td>\n",
       "      <td>0.000</td>\n",
       "      <td>657</td>\n",
       "      <td>223</td>\n",
       "      <td>0</td>\n",
       "      <td>1259</td>\n",
       "      <td>1259</td>\n",
       "      <td>0</td>\n",
       "      <td>0</td>\n",
       "      <td>3366.25</td>\n",
       "    </tr>\n",
       "  </tbody>\n",
       "</table>\n",
       "</div>"
      ],
      "text/plain": [
       "          Meses Autoridad_Portuaria  Graneles Líquidos t  Graneles Sólidos t  \\\n",
       "107  Abril_2024             Sevilla                62737              159187   \n",
       "108  Abril_2024           Tarragona              1747029              531797   \n",
       "109  Abril_2024            Valencia               298325              171680   \n",
       "110  Abril_2024                Vigo                 3000               27501   \n",
       "111  Abril_2024          Vilagarcía                48921               41318   \n",
       "\n",
       "     Mercancía General t  Mercancia General Contenedores t   Pesca t  \\\n",
       "107               153247                             90326     0.000   \n",
       "108               167157                             11144   237.686   \n",
       "109              6471158                           5005110   161.132   \n",
       "110               446454                            262676  2754.865   \n",
       "111                62787                             27852     0.000   \n",
       "\n",
       "     Avituallamiento t  Avituallamiento De Combustibles Líquidos t  \\\n",
       "107               4105                                        1338   \n",
       "108              10794                                        4720   \n",
       "109              39503                                       33826   \n",
       "110               5371                                           0   \n",
       "111                657                                         223   \n",
       "\n",
       "     Tráfico Interior t  Mercancías En Tránsito t  \\\n",
       "107                   0                         0   \n",
       "108                   0                     65798   \n",
       "109                   0                   2901186   \n",
       "110                   0                     51997   \n",
       "111                   0                      1259   \n",
       "\n",
       "     Mercancías En Tránsito En Contenedores t  Tráfico Ro-Ro t  UTIS Ro-Ro  \\\n",
       "107                                         0            13927         768   \n",
       "108                                         0            25348           0   \n",
       "109                                   2844404          1244068       45653   \n",
       "110                                     43395           127983        1998   \n",
       "111                                      1259                0           0   \n",
       "\n",
       "     TEUS Contenedores  \n",
       "107           12104.50  \n",
       "108            1039.00  \n",
       "109          463499.00  \n",
       "110           28621.00  \n",
       "111            3366.25  "
      ]
     },
     "execution_count": 83,
     "metadata": {},
     "output_type": "execute_result"
    }
   ],
   "source": [
    "df_listo.tail()"
   ]
  },
  {
   "cell_type": "markdown",
   "metadata": {},
   "source": [
    "## TEUS Contenedores En Tránsito"
   ]
  },
  {
   "cell_type": "code",
   "execution_count": 84,
   "metadata": {},
   "outputs": [],
   "source": [
    "TEUS_contenedores_en_transito = df['Enero_2024 TEUS Contenedores En Tránsito']"
   ]
  },
  {
   "cell_type": "code",
   "execution_count": 85,
   "metadata": {},
   "outputs": [],
   "source": [
    "TEUS_contenedores_en_transito_Febrero = df['Febrero_2024 TEUS Contenedores En Tránsito']\n",
    "TEUS_contenedores_en_transito_Marzo = df['Marzo_2024 TEUS Contenedores En Tránsito']\n",
    "TEUS_contenedores_en_transito_Abril = df['Abril_2024 TEUS Contenedores En Tránsito']\n"
   ]
  },
  {
   "cell_type": "code",
   "execution_count": 86,
   "metadata": {},
   "outputs": [],
   "source": [
    "TEUS_contenedores_en_transito = TEUS_contenedores_en_transito.tolist()\n",
    "TEUS_contenedores_en_transito_Febrero = TEUS_contenedores_en_transito_Febrero.tolist()\n",
    "TEUS_contenedores_en_transito_Marzo = TEUS_contenedores_en_transito_Marzo.tolist()\n",
    "TEUS_contenedores_en_transito_Abril = TEUS_contenedores_en_transito_Abril.tolist()\n"
   ]
  },
  {
   "cell_type": "code",
   "execution_count": 87,
   "metadata": {},
   "outputs": [
    {
     "data": {
      "text/plain": [
       "112"
      ]
     },
     "execution_count": 87,
     "metadata": {},
     "output_type": "execute_result"
    }
   ],
   "source": [
    "for i in TEUS_contenedores_en_transito_Febrero:\n",
    "    TEUS_contenedores_en_transito.append(i)\n",
    "len(TEUS_contenedores_en_transito)\n",
    "\n",
    "for i in TEUS_contenedores_en_transito_Marzo:\n",
    "    TEUS_contenedores_en_transito.append(i)\n",
    "len(TEUS_contenedores_en_transito)\n",
    "\n",
    "for i in TEUS_contenedores_en_transito_Abril:\n",
    "    TEUS_contenedores_en_transito.append(i)\n",
    "len(TEUS_contenedores_en_transito)\n",
    "\n"
   ]
  },
  {
   "cell_type": "code",
   "execution_count": 88,
   "metadata": {},
   "outputs": [],
   "source": [
    "df_listo['TEUS Contenedores En Tránsito'] = TEUS_contenedores_en_transito"
   ]
  },
  {
   "cell_type": "markdown",
   "metadata": {},
   "source": [
    "## TEUS Contenedores Entrada-Salida Nacional"
   ]
  },
  {
   "cell_type": "code",
   "execution_count": 89,
   "metadata": {},
   "outputs": [],
   "source": [
    "TEUS_contenedores_entrada_salida_nacional = df['Enero_2024 TEUS Contenedores Entrada-Salida Nacional']"
   ]
  },
  {
   "cell_type": "code",
   "execution_count": 90,
   "metadata": {},
   "outputs": [],
   "source": [
    "TEUS_contenedores_entrada_salida_nacional_Febrero = df['Febrero_2024 TEUS Contenedores Entrada-Salida Nacional']\n",
    "TEUS_contenedores_entrada_salida_nacional_Marzo = df['Marzo_2024 TEUS Contenedores Entrada-Salida Nacional']\n",
    "TEUS_contenedores_entrada_salida_nacional_Abril = df['Abril_2024 TEUS Contenedores Entrada-Salida Nacional']\n"
   ]
  },
  {
   "cell_type": "code",
   "execution_count": 91,
   "metadata": {},
   "outputs": [],
   "source": [
    "TEUS_contenedores_entrada_salida_nacional = TEUS_contenedores_entrada_salida_nacional.tolist()\n",
    "TEUS_contenedores_entrada_salida_nacional_Febrero = TEUS_contenedores_entrada_salida_nacional_Febrero.tolist()\n",
    "TEUS_contenedores_entrada_salida_nacional_Marzo = TEUS_contenedores_entrada_salida_nacional_Marzo.tolist()\n",
    "TEUS_contenedores_entrada_salida_nacional_Abril = TEUS_contenedores_entrada_salida_nacional_Abril.tolist()\n"
   ]
  },
  {
   "cell_type": "code",
   "execution_count": 92,
   "metadata": {},
   "outputs": [
    {
     "data": {
      "text/plain": [
       "112"
      ]
     },
     "execution_count": 92,
     "metadata": {},
     "output_type": "execute_result"
    }
   ],
   "source": [
    "for i in TEUS_contenedores_entrada_salida_nacional_Febrero:\n",
    "    TEUS_contenedores_entrada_salida_nacional.append(i)\n",
    "len(TEUS_contenedores_entrada_salida_nacional)\n",
    "\n",
    "for i in TEUS_contenedores_entrada_salida_nacional_Marzo:\n",
    "    TEUS_contenedores_entrada_salida_nacional.append(i)\n",
    "len(TEUS_contenedores_entrada_salida_nacional)\n",
    "\n",
    "for i in TEUS_contenedores_entrada_salida_nacional_Abril:\n",
    "    TEUS_contenedores_entrada_salida_nacional.append(i)\n",
    "len(TEUS_contenedores_entrada_salida_nacional)\n"
   ]
  },
  {
   "cell_type": "code",
   "execution_count": 93,
   "metadata": {},
   "outputs": [],
   "source": [
    "df_listo['TEUS Contenedores Entrada-Salida Nacional'] = TEUS_contenedores_entrada_salida_nacional"
   ]
  },
  {
   "cell_type": "markdown",
   "metadata": {},
   "source": [
    "## TEUS Contenedores Entrada-Salida Exterior"
   ]
  },
  {
   "cell_type": "code",
   "execution_count": 94,
   "metadata": {},
   "outputs": [],
   "source": [
    "TEUS_contenedores_entrada_salida_exterior = df['Enero_2024 TEUS Contenedores Entrada-Salida Exterior']"
   ]
  },
  {
   "cell_type": "code",
   "execution_count": 95,
   "metadata": {},
   "outputs": [],
   "source": [
    "TEUS_contenedores_entrada_salida_exterior_Febrero = df['Febrero_2024 TEUS Contenedores Entrada-Salida Exterior']\n",
    "TEUS_contenedores_entrada_salida_exterior_Marzo = df['Marzo_2024 TEUS Contenedores Entrada-Salida Exterior']\n",
    "TEUS_contenedores_entrada_salida_exterior_Abril = df['Abril_2024 TEUS Contenedores Entrada-Salida Exterior']\n"
   ]
  },
  {
   "cell_type": "code",
   "execution_count": 96,
   "metadata": {},
   "outputs": [],
   "source": [
    "TEUS_contenedores_entrada_salida_exterior = TEUS_contenedores_entrada_salida_exterior.tolist()\n",
    "TEUS_contenedores_entrada_salida_exterior_Febrero = TEUS_contenedores_entrada_salida_exterior_Febrero.tolist()\n",
    "TEUS_contenedores_entrada_salida_exterior_Marzo = TEUS_contenedores_entrada_salida_exterior_Marzo.tolist()\n",
    "TEUS_contenedores_entrada_salida_exterior_Abril = TEUS_contenedores_entrada_salida_exterior_Abril.tolist()\n"
   ]
  },
  {
   "cell_type": "code",
   "execution_count": 97,
   "metadata": {},
   "outputs": [
    {
     "data": {
      "text/plain": [
       "112"
      ]
     },
     "execution_count": 97,
     "metadata": {},
     "output_type": "execute_result"
    }
   ],
   "source": [
    "for i in TEUS_contenedores_entrada_salida_exterior_Febrero:\n",
    "    TEUS_contenedores_entrada_salida_exterior.append(i)\n",
    "len(TEUS_contenedores_entrada_salida_exterior)\n",
    "\n",
    "for i in TEUS_contenedores_entrada_salida_exterior_Marzo:\n",
    "    TEUS_contenedores_entrada_salida_exterior.append(i)\n",
    "len(TEUS_contenedores_entrada_salida_exterior)\n",
    "\n",
    "for i in TEUS_contenedores_entrada_salida_exterior_Abril:\n",
    "    TEUS_contenedores_entrada_salida_exterior.append(i)\n",
    "len(TEUS_contenedores_entrada_salida_exterior)\n",
    "\n"
   ]
  },
  {
   "cell_type": "code",
   "execution_count": 98,
   "metadata": {},
   "outputs": [],
   "source": [
    "df_listo['TEUS Contenedores Entrada-Salida Exterior'] = TEUS_contenedores_entrada_salida_exterior"
   ]
  },
  {
   "cell_type": "markdown",
   "metadata": {},
   "source": [
    "## Unidades Buques Mercantes"
   ]
  },
  {
   "cell_type": "code",
   "execution_count": 99,
   "metadata": {},
   "outputs": [],
   "source": [
    "Unidades_buques_mercantes = df['Enero_2024 Unidades Buques Mercantes']"
   ]
  },
  {
   "cell_type": "code",
   "execution_count": 100,
   "metadata": {},
   "outputs": [],
   "source": [
    "Unidades_buques_mercantes_Febrero = df['Febrero_2024 Unidades Buques Mercantes']\n",
    "Unidades_buques_mercantes_Marzo = df['Marzo_2024 Unidades Buques Mercantes']\n",
    "Unidades_buques_mercantes_Abril = df['Abril_2024 Unidades Buques Mercantes']\n"
   ]
  },
  {
   "cell_type": "code",
   "execution_count": 101,
   "metadata": {},
   "outputs": [],
   "source": [
    "Unidades_buques_mercantes = Unidades_buques_mercantes.tolist()\n",
    "Unidades_buques_mercantes_Febrero = Unidades_buques_mercantes_Febrero.tolist()\n",
    "Unidades_buques_mercantes_Marzo = Unidades_buques_mercantes_Marzo.tolist()\n",
    "Unidades_buques_mercantes_Abril = Unidades_buques_mercantes_Abril.tolist()\n"
   ]
  },
  {
   "cell_type": "code",
   "execution_count": 102,
   "metadata": {},
   "outputs": [
    {
     "data": {
      "text/plain": [
       "112"
      ]
     },
     "execution_count": 102,
     "metadata": {},
     "output_type": "execute_result"
    }
   ],
   "source": [
    "for i in Unidades_buques_mercantes_Febrero:\n",
    "    Unidades_buques_mercantes.append(i)\n",
    "len(Unidades_buques_mercantes)\n",
    "\n",
    "for i in Unidades_buques_mercantes_Marzo:\n",
    "    Unidades_buques_mercantes.append(i)\n",
    "len(Unidades_buques_mercantes)\n",
    "\n",
    "for i in Unidades_buques_mercantes_Abril:\n",
    "    Unidades_buques_mercantes.append(i)\n",
    "len(Unidades_buques_mercantes)\n",
    "\n"
   ]
  },
  {
   "cell_type": "code",
   "execution_count": 103,
   "metadata": {},
   "outputs": [],
   "source": [
    "df_listo['Unidades Buques Mercantes'] = Unidades_buques_mercantes"
   ]
  },
  {
   "cell_type": "markdown",
   "metadata": {},
   "source": [
    "## G.T. Buques Mercantes"
   ]
  },
  {
   "cell_type": "code",
   "execution_count": 104,
   "metadata": {},
   "outputs": [],
   "source": [
    "G_T_buques_mercantes = df['Enero_2024 G.T. Buques Mercantes']"
   ]
  },
  {
   "cell_type": "code",
   "execution_count": 105,
   "metadata": {},
   "outputs": [],
   "source": [
    "G_T_buques_mercantes_Febrero = df['Febrero_2024 G.T. Buques Mercantes']\n",
    "G_T_buques_mercantes_Marzo = df['Marzo_2024 G.T. Buques Mercantes']\n",
    "G_T_buques_mercantes_Abril = df['Abril_2024 G.T. Buques Mercantes']\n"
   ]
  },
  {
   "cell_type": "code",
   "execution_count": 106,
   "metadata": {},
   "outputs": [],
   "source": [
    "G_T_buques_mercantes = G_T_buques_mercantes.tolist()\n",
    "G_T_buques_mercantes_Febrero = G_T_buques_mercantes_Febrero.tolist()\n",
    "G_T_buques_mercantes_Marzo = G_T_buques_mercantes_Marzo.tolist()\n",
    "G_T_buques_mercantes_Abril = G_T_buques_mercantes_Abril.tolist()\n"
   ]
  },
  {
   "cell_type": "code",
   "execution_count": 107,
   "metadata": {},
   "outputs": [
    {
     "data": {
      "text/plain": [
       "112"
      ]
     },
     "execution_count": 107,
     "metadata": {},
     "output_type": "execute_result"
    }
   ],
   "source": [
    "for i in G_T_buques_mercantes_Febrero:\n",
    "    G_T_buques_mercantes.append(i)\n",
    "len(G_T_buques_mercantes)\n",
    "\n",
    "for i in G_T_buques_mercantes_Marzo:\n",
    "    G_T_buques_mercantes.append(i)\n",
    "len(G_T_buques_mercantes)\n",
    "\n",
    "for i in G_T_buques_mercantes_Abril:\n",
    "    G_T_buques_mercantes.append(i)\n",
    "len(G_T_buques_mercantes)\n",
    "\n"
   ]
  },
  {
   "cell_type": "code",
   "execution_count": 108,
   "metadata": {},
   "outputs": [],
   "source": [
    "df_listo['G.T. Buques Mercantes'] = G_T_buques_mercantes"
   ]
  },
  {
   "cell_type": "markdown",
   "metadata": {},
   "source": [
    "## Unidades Buques De Crucero"
   ]
  },
  {
   "cell_type": "code",
   "execution_count": 109,
   "metadata": {},
   "outputs": [],
   "source": [
    "Unidades_buques_crucero = df['Enero_2023 Unidades Buques De Crucero']"
   ]
  },
  {
   "cell_type": "code",
   "execution_count": 110,
   "metadata": {},
   "outputs": [],
   "source": [
    "Unidades_buques_crucero_Febrero = df['Febrero_2024 Unidades Buques De Crucero']\n",
    "Unidades_buques_crucero_Marzo = df['Marzo_2024 Unidades Buques De Crucero']\n",
    "Unidades_buques_crucero_Abril = df['Abril_2024 Unidades Buques De Crucero']\n"
   ]
  },
  {
   "cell_type": "code",
   "execution_count": 111,
   "metadata": {},
   "outputs": [],
   "source": [
    "Unidades_buques_crucero = Unidades_buques_crucero.tolist()\n",
    "Unidades_buques_crucero_Febrero = Unidades_buques_crucero_Febrero.tolist()\n",
    "Unidades_buques_crucero_Marzo = Unidades_buques_crucero_Marzo.tolist()\n",
    "Unidades_buques_crucero_Abril = Unidades_buques_crucero_Abril.tolist()\n"
   ]
  },
  {
   "cell_type": "code",
   "execution_count": 112,
   "metadata": {},
   "outputs": [
    {
     "data": {
      "text/plain": [
       "112"
      ]
     },
     "execution_count": 112,
     "metadata": {},
     "output_type": "execute_result"
    }
   ],
   "source": [
    "for i in Unidades_buques_crucero_Febrero:\n",
    "    Unidades_buques_crucero.append(i)\n",
    "len(Unidades_buques_crucero)\n",
    "\n",
    "for i in Unidades_buques_crucero_Marzo:\n",
    "    Unidades_buques_crucero.append(i)\n",
    "len(Unidades_buques_crucero)\n",
    "\n",
    "for i in Unidades_buques_crucero_Abril:\n",
    "    Unidades_buques_crucero.append(i)\n",
    "len(Unidades_buques_crucero)\n",
    "\n"
   ]
  },
  {
   "cell_type": "code",
   "execution_count": 113,
   "metadata": {},
   "outputs": [],
   "source": [
    "df_listo['Unidades Buques De Crucero'] = Unidades_buques_crucero"
   ]
  },
  {
   "cell_type": "markdown",
   "metadata": {},
   "source": [
    "## Pasajeros En Régimen De Transporte Y De Crucero"
   ]
  },
  {
   "cell_type": "code",
   "execution_count": 114,
   "metadata": {},
   "outputs": [],
   "source": [
    "Pasajeros_regimen_transporte_crucero = df['Enero_2024 Pasajeros En Régimen De Transporte Y De Crucero']"
   ]
  },
  {
   "cell_type": "code",
   "execution_count": 115,
   "metadata": {},
   "outputs": [],
   "source": [
    "Pasajeros_regimen_transporte_crucero_Febrero = df['Febrero_2024 Pasajeros En Régimen De Transporte Y De Crucero']\n",
    "Pasajeros_regimen_transporte_crucero_Marzo = df['Marzo_2024 Pasajeros En Régimen De Transporte Y De Crucero']\n",
    "Pasajeros_regimen_transporte_crucero_Abril = df['Abril_2024 Pasajeros En Régimen De Transporte Y De Crucero']\n"
   ]
  },
  {
   "cell_type": "code",
   "execution_count": 116,
   "metadata": {},
   "outputs": [],
   "source": [
    "Pasajeros_regimen_transporte_crucero = Pasajeros_regimen_transporte_crucero.tolist()\n",
    "Pasajeros_regimen_transporte_crucero_Febrero = Pasajeros_regimen_transporte_crucero_Febrero.tolist()\n",
    "Pasajeros_regimen_transporte_crucero_Marzo = Pasajeros_regimen_transporte_crucero_Marzo.tolist()\n",
    "Pasajeros_regimen_transporte_crucero_Abril = Pasajeros_regimen_transporte_crucero_Abril.tolist()\n"
   ]
  },
  {
   "cell_type": "code",
   "execution_count": 117,
   "metadata": {},
   "outputs": [
    {
     "data": {
      "text/plain": [
       "112"
      ]
     },
     "execution_count": 117,
     "metadata": {},
     "output_type": "execute_result"
    }
   ],
   "source": [
    "for i in Pasajeros_regimen_transporte_crucero_Febrero:\n",
    "    Pasajeros_regimen_transporte_crucero.append(i)\n",
    "len(Pasajeros_regimen_transporte_crucero)\n",
    "\n",
    "for i in Pasajeros_regimen_transporte_crucero_Marzo:\n",
    "    Pasajeros_regimen_transporte_crucero.append(i)\n",
    "len(Pasajeros_regimen_transporte_crucero)\n",
    "\n",
    "for i in Pasajeros_regimen_transporte_crucero_Abril:\n",
    "    Pasajeros_regimen_transporte_crucero.append(i)\n",
    "len(Pasajeros_regimen_transporte_crucero)\n",
    "\n"
   ]
  },
  {
   "cell_type": "code",
   "execution_count": 118,
   "metadata": {},
   "outputs": [],
   "source": [
    "df_listo['Pasajeros En Régimen De Transporte Y De Crucero'] = Pasajeros_regimen_transporte_crucero"
   ]
  },
  {
   "cell_type": "markdown",
   "metadata": {},
   "source": [
    "## Pasajeros En Régimen De Transporte"
   ]
  },
  {
   "cell_type": "code",
   "execution_count": 119,
   "metadata": {},
   "outputs": [],
   "source": [
    "Pasajeros_regimen_transporte = df['Enero_2024 Pasajeros En Régimen De Transporte']"
   ]
  },
  {
   "cell_type": "code",
   "execution_count": 120,
   "metadata": {},
   "outputs": [],
   "source": [
    "Pasajeros_regimen_transporte_Febrero = df['Febrero_2024 Pasajeros En Régimen De Transporte']\n",
    "Pasajeros_regimen_transporte_Marzo = df['Marzo_2024 Pasajeros En Régimen De Transporte']\n",
    "Pasajeros_regimen_transporte_Abril = df['Abril_2024 Pasajeros En Régimen De Transporte']\n"
   ]
  },
  {
   "cell_type": "code",
   "execution_count": 121,
   "metadata": {},
   "outputs": [],
   "source": [
    "Pasajeros_regimen_transporte = Pasajeros_regimen_transporte.tolist()\n",
    "Pasajeros_regimen_transporte_Febrero = Pasajeros_regimen_transporte_Febrero.tolist()\n",
    "Pasajeros_regimen_transporte_Marzo = Pasajeros_regimen_transporte_Marzo.tolist()\n",
    "Pasajeros_regimen_transporte_Abril = Pasajeros_regimen_transporte_Abril.tolist()\n"
   ]
  },
  {
   "cell_type": "code",
   "execution_count": 122,
   "metadata": {},
   "outputs": [
    {
     "data": {
      "text/plain": [
       "112"
      ]
     },
     "execution_count": 122,
     "metadata": {},
     "output_type": "execute_result"
    }
   ],
   "source": [
    "for i in Pasajeros_regimen_transporte_Febrero:\n",
    "    Pasajeros_regimen_transporte.append(i)\n",
    "len(Pasajeros_regimen_transporte)\n",
    "\n",
    "for i in Pasajeros_regimen_transporte_Marzo:\n",
    "    Pasajeros_regimen_transporte.append(i)\n",
    "len(Pasajeros_regimen_transporte)\n",
    "\n",
    "for i in Pasajeros_regimen_transporte_Abril:\n",
    "    Pasajeros_regimen_transporte.append(i)\n",
    "len(Pasajeros_regimen_transporte)\n",
    "\n"
   ]
  },
  {
   "cell_type": "code",
   "execution_count": 123,
   "metadata": {},
   "outputs": [],
   "source": [
    "df_listo['Pasajeros En Régimen De Transporte'] = Pasajeros_regimen_transporte"
   ]
  },
  {
   "cell_type": "markdown",
   "metadata": {},
   "source": [
    "## Pasajeros De Crucero"
   ]
  },
  {
   "cell_type": "code",
   "execution_count": 124,
   "metadata": {},
   "outputs": [],
   "source": [
    "Pasajeros_crucero = df['Enero_2024 Pasajeros De Crucero']"
   ]
  },
  {
   "cell_type": "code",
   "execution_count": 125,
   "metadata": {},
   "outputs": [],
   "source": [
    "Pasajeros_crucero_Febrero = df['Febrero_2024 Pasajeros De Crucero']\n",
    "Pasajeros_crucero_Marzo = df['Marzo_2024 Pasajeros De Crucero']\n",
    "Pasajeros_crucero_Abril = df['Abril_2024 Pasajeros De Crucero']\n"
   ]
  },
  {
   "cell_type": "code",
   "execution_count": 126,
   "metadata": {},
   "outputs": [],
   "source": [
    "Pasajeros_crucero = Pasajeros_crucero.tolist()\n",
    "Pasajeros_crucero_Febrero = Pasajeros_crucero_Febrero.tolist()\n",
    "Pasajeros_crucero_Marzo = Pasajeros_crucero_Marzo.tolist()\n",
    "Pasajeros_crucero_Abril = Pasajeros_crucero_Abril.tolist()\n"
   ]
  },
  {
   "cell_type": "code",
   "execution_count": 127,
   "metadata": {},
   "outputs": [
    {
     "data": {
      "text/plain": [
       "112"
      ]
     },
     "execution_count": 127,
     "metadata": {},
     "output_type": "execute_result"
    }
   ],
   "source": [
    "for i in Pasajeros_crucero_Febrero:\n",
    "    Pasajeros_crucero.append(i)\n",
    "len(Pasajeros_crucero)\n",
    "\n",
    "for i in Pasajeros_crucero_Marzo:\n",
    "    Pasajeros_crucero.append(i)\n",
    "len(Pasajeros_crucero)\n",
    "\n",
    "for i in Pasajeros_crucero_Abril:\n",
    "    Pasajeros_crucero.append(i)\n",
    "len(Pasajeros_crucero)\n",
    "\n"
   ]
  },
  {
   "cell_type": "code",
   "execution_count": 128,
   "metadata": {},
   "outputs": [],
   "source": [
    "df_listo['Pasajeros De Crucero'] = Pasajeros_crucero"
   ]
  },
  {
   "cell_type": "markdown",
   "metadata": {},
   "source": [
    "## Automóviles En Régimen De Pasaje"
   ]
  },
  {
   "cell_type": "code",
   "execution_count": 129,
   "metadata": {},
   "outputs": [],
   "source": [
    "automoviles_regimen_pasaje = df['Enero_2024 Automóviles En Régimen De Pasaje']"
   ]
  },
  {
   "cell_type": "code",
   "execution_count": 130,
   "metadata": {},
   "outputs": [],
   "source": [
    "automoviles_regimen_pasaje_Febrero = df['Febrero_2024 Automóviles En Régimen De Pasaje']\n",
    "automoviles_regimen_pasaje_Marzo = df['Marzo_2024 Automóviles En Régimen De Pasaje']\n",
    "automoviles_regimen_pasaje_Abril = df['Abril_2024 Automóviles En Régimen De Pasaje']\n"
   ]
  },
  {
   "cell_type": "code",
   "execution_count": 131,
   "metadata": {},
   "outputs": [],
   "source": [
    "automoviles_regimen_pasaje = automoviles_regimen_pasaje.tolist()\n",
    "automoviles_regimen_pasaje_Febrero = automoviles_regimen_pasaje_Febrero.tolist()\n",
    "automoviles_regimen_pasaje_Marzo = automoviles_regimen_pasaje_Marzo.tolist()\n",
    "automoviles_regimen_pasaje_Abril = automoviles_regimen_pasaje_Abril.tolist()\n"
   ]
  },
  {
   "cell_type": "code",
   "execution_count": 132,
   "metadata": {},
   "outputs": [
    {
     "data": {
      "text/plain": [
       "112"
      ]
     },
     "execution_count": 132,
     "metadata": {},
     "output_type": "execute_result"
    }
   ],
   "source": [
    "for i in automoviles_regimen_pasaje_Febrero:\n",
    "    automoviles_regimen_pasaje.append(i)\n",
    "len(automoviles_regimen_pasaje)\n",
    "\n",
    "for i in automoviles_regimen_pasaje_Marzo:\n",
    "    automoviles_regimen_pasaje.append(i)\n",
    "len(automoviles_regimen_pasaje)\n",
    "\n",
    "for i in automoviles_regimen_pasaje_Abril:\n",
    "    automoviles_regimen_pasaje.append(i)\n",
    "len(automoviles_regimen_pasaje)\n"
   ]
  },
  {
   "cell_type": "code",
   "execution_count": 133,
   "metadata": {},
   "outputs": [],
   "source": [
    "df_listo['Automóviles En Régimen De Pasaje'] = automoviles_regimen_pasaje"
   ]
  },
  {
   "cell_type": "markdown",
   "metadata": {},
   "source": [
    "## Automóviles En Régimen De Mercancía"
   ]
  },
  {
   "cell_type": "code",
   "execution_count": 134,
   "metadata": {},
   "outputs": [],
   "source": [
    "automoviles_regimen_mercancia = df['Enero_2024 Automóviles En Régimen De Mercancía']"
   ]
  },
  {
   "cell_type": "code",
   "execution_count": 135,
   "metadata": {},
   "outputs": [],
   "source": [
    "automoviles_regimen_mercancia_Febrero = df['Febrero_2024 Automóviles En Régimen De Mercancía']\n",
    "automoviles_regimen_mercancia_Marzo = df['Marzo_2024 Automóviles En Régimen De Mercancía']\n",
    "automoviles_regimen_mercancia_Abril = df['Abril_2024 Automóviles En Régimen De Mercancía']\n"
   ]
  },
  {
   "cell_type": "code",
   "execution_count": 136,
   "metadata": {},
   "outputs": [],
   "source": [
    "automoviles_regimen_mercancia = automoviles_regimen_mercancia.tolist()\n",
    "automoviles_regimen_mercancia_Febrero = automoviles_regimen_mercancia_Febrero.tolist()\n",
    "automoviles_regimen_mercancia_Marzo = automoviles_regimen_mercancia_Marzo.tolist()\n",
    "automoviles_regimen_mercancia_Abril = automoviles_regimen_mercancia_Abril.tolist()\n"
   ]
  },
  {
   "cell_type": "code",
   "execution_count": 137,
   "metadata": {},
   "outputs": [
    {
     "data": {
      "text/plain": [
       "112"
      ]
     },
     "execution_count": 137,
     "metadata": {},
     "output_type": "execute_result"
    }
   ],
   "source": [
    "for i in automoviles_regimen_mercancia_Febrero:\n",
    "    automoviles_regimen_mercancia.append(i)\n",
    "len(automoviles_regimen_mercancia)\n",
    "\n",
    "for i in automoviles_regimen_mercancia_Marzo:\n",
    "    automoviles_regimen_mercancia.append(i)\n",
    "len(automoviles_regimen_mercancia)\n",
    "\n",
    "for i in automoviles_regimen_mercancia_Abril:\n",
    "    automoviles_regimen_mercancia.append(i)\n",
    "len(automoviles_regimen_mercancia)\n",
    "\n"
   ]
  },
  {
   "cell_type": "code",
   "execution_count": 138,
   "metadata": {},
   "outputs": [],
   "source": [
    "df_listo['Automóviles En Régimen De Mercancía'] = automoviles_regimen_mercancia"
   ]
  },
  {
   "cell_type": "code",
   "execution_count": 139,
   "metadata": {},
   "outputs": [
    {
     "data": {
      "text/html": [
       "<div>\n",
       "<style scoped>\n",
       "    .dataframe tbody tr th:only-of-type {\n",
       "        vertical-align: middle;\n",
       "    }\n",
       "\n",
       "    .dataframe tbody tr th {\n",
       "        vertical-align: top;\n",
       "    }\n",
       "\n",
       "    .dataframe thead th {\n",
       "        text-align: right;\n",
       "    }\n",
       "</style>\n",
       "<table border=\"1\" class=\"dataframe\">\n",
       "  <thead>\n",
       "    <tr style=\"text-align: right;\">\n",
       "      <th></th>\n",
       "      <th>Meses</th>\n",
       "      <th>Autoridad_Portuaria</th>\n",
       "      <th>Graneles Líquidos t</th>\n",
       "      <th>Graneles Sólidos t</th>\n",
       "      <th>Mercancía General t</th>\n",
       "      <th>Mercancia General Contenedores t</th>\n",
       "      <th>Pesca t</th>\n",
       "      <th>Avituallamiento t</th>\n",
       "      <th>Avituallamiento De Combustibles Líquidos t</th>\n",
       "      <th>Tráfico Interior t</th>\n",
       "      <th>Mercancías En Tránsito t</th>\n",
       "      <th>Mercancías En Tránsito En Contenedores t</th>\n",
       "      <th>Tráfico Ro-Ro t</th>\n",
       "      <th>UTIS Ro-Ro</th>\n",
       "      <th>TEUS Contenedores</th>\n",
       "      <th>TEUS Contenedores En Tránsito</th>\n",
       "      <th>TEUS Contenedores Entrada-Salida Nacional</th>\n",
       "      <th>TEUS Contenedores Entrada-Salida Exterior</th>\n",
       "      <th>Unidades Buques Mercantes</th>\n",
       "      <th>G.T. Buques Mercantes</th>\n",
       "      <th>Unidades Buques De Crucero</th>\n",
       "      <th>Pasajeros En Régimen De Transporte Y De Crucero</th>\n",
       "      <th>Pasajeros En Régimen De Transporte</th>\n",
       "      <th>Pasajeros De Crucero</th>\n",
       "      <th>Automóviles En Régimen De Pasaje</th>\n",
       "      <th>Automóviles En Régimen De Mercancía</th>\n",
       "    </tr>\n",
       "  </thead>\n",
       "  <tbody>\n",
       "    <tr>\n",
       "      <th>107</th>\n",
       "      <td>Abril_2024</td>\n",
       "      <td>Sevilla</td>\n",
       "      <td>62737</td>\n",
       "      <td>159187</td>\n",
       "      <td>153247</td>\n",
       "      <td>90326</td>\n",
       "      <td>0.000</td>\n",
       "      <td>4105</td>\n",
       "      <td>1338</td>\n",
       "      <td>0</td>\n",
       "      <td>0</td>\n",
       "      <td>0</td>\n",
       "      <td>13927</td>\n",
       "      <td>768</td>\n",
       "      <td>12104.50</td>\n",
       "      <td>0.0</td>\n",
       "      <td>11784.5</td>\n",
       "      <td>320.00</td>\n",
       "      <td>93</td>\n",
       "      <td>595179</td>\n",
       "      <td>11</td>\n",
       "      <td>3155</td>\n",
       "      <td>0</td>\n",
       "      <td>3155</td>\n",
       "      <td>0</td>\n",
       "      <td>417</td>\n",
       "    </tr>\n",
       "    <tr>\n",
       "      <th>108</th>\n",
       "      <td>Abril_2024</td>\n",
       "      <td>Tarragona</td>\n",
       "      <td>1747029</td>\n",
       "      <td>531797</td>\n",
       "      <td>167157</td>\n",
       "      <td>11144</td>\n",
       "      <td>237.686</td>\n",
       "      <td>10794</td>\n",
       "      <td>4720</td>\n",
       "      <td>0</td>\n",
       "      <td>65798</td>\n",
       "      <td>0</td>\n",
       "      <td>25348</td>\n",
       "      <td>0</td>\n",
       "      <td>1039.00</td>\n",
       "      <td>0.0</td>\n",
       "      <td>0.0</td>\n",
       "      <td>1039.00</td>\n",
       "      <td>194</td>\n",
       "      <td>3846320</td>\n",
       "      <td>10</td>\n",
       "      <td>11164</td>\n",
       "      <td>0</td>\n",
       "      <td>11164</td>\n",
       "      <td>0</td>\n",
       "      <td>17204</td>\n",
       "    </tr>\n",
       "    <tr>\n",
       "      <th>109</th>\n",
       "      <td>Abril_2024</td>\n",
       "      <td>Valencia</td>\n",
       "      <td>298325</td>\n",
       "      <td>171680</td>\n",
       "      <td>6471158</td>\n",
       "      <td>5005110</td>\n",
       "      <td>161.132</td>\n",
       "      <td>39503</td>\n",
       "      <td>33826</td>\n",
       "      <td>0</td>\n",
       "      <td>2901186</td>\n",
       "      <td>2844404</td>\n",
       "      <td>1244068</td>\n",
       "      <td>45653</td>\n",
       "      <td>463499.00</td>\n",
       "      <td>227997.0</td>\n",
       "      <td>22457.0</td>\n",
       "      <td>213045.00</td>\n",
       "      <td>656</td>\n",
       "      <td>26574881</td>\n",
       "      <td>38</td>\n",
       "      <td>130599</td>\n",
       "      <td>65781</td>\n",
       "      <td>64818</td>\n",
       "      <td>16622</td>\n",
       "      <td>60482</td>\n",
       "    </tr>\n",
       "    <tr>\n",
       "      <th>110</th>\n",
       "      <td>Abril_2024</td>\n",
       "      <td>Vigo</td>\n",
       "      <td>3000</td>\n",
       "      <td>27501</td>\n",
       "      <td>446454</td>\n",
       "      <td>262676</td>\n",
       "      <td>2754.865</td>\n",
       "      <td>5371</td>\n",
       "      <td>0</td>\n",
       "      <td>0</td>\n",
       "      <td>51997</td>\n",
       "      <td>43395</td>\n",
       "      <td>127983</td>\n",
       "      <td>1998</td>\n",
       "      <td>28621.00</td>\n",
       "      <td>4360.0</td>\n",
       "      <td>986.0</td>\n",
       "      <td>23275.00</td>\n",
       "      <td>157</td>\n",
       "      <td>4005657</td>\n",
       "      <td>10</td>\n",
       "      <td>12564</td>\n",
       "      <td>0</td>\n",
       "      <td>12564</td>\n",
       "      <td>0</td>\n",
       "      <td>49842</td>\n",
       "    </tr>\n",
       "    <tr>\n",
       "      <th>111</th>\n",
       "      <td>Abril_2024</td>\n",
       "      <td>Vilagarcía</td>\n",
       "      <td>48921</td>\n",
       "      <td>41318</td>\n",
       "      <td>62787</td>\n",
       "      <td>27852</td>\n",
       "      <td>0.000</td>\n",
       "      <td>657</td>\n",
       "      <td>223</td>\n",
       "      <td>0</td>\n",
       "      <td>1259</td>\n",
       "      <td>1259</td>\n",
       "      <td>0</td>\n",
       "      <td>0</td>\n",
       "      <td>3366.25</td>\n",
       "      <td>128.0</td>\n",
       "      <td>1971.5</td>\n",
       "      <td>1266.75</td>\n",
       "      <td>33</td>\n",
       "      <td>288563</td>\n",
       "      <td>0</td>\n",
       "      <td>0</td>\n",
       "      <td>0</td>\n",
       "      <td>0</td>\n",
       "      <td>0</td>\n",
       "      <td>171</td>\n",
       "    </tr>\n",
       "  </tbody>\n",
       "</table>\n",
       "</div>"
      ],
      "text/plain": [
       "          Meses Autoridad_Portuaria  Graneles Líquidos t  Graneles Sólidos t  \\\n",
       "107  Abril_2024             Sevilla                62737              159187   \n",
       "108  Abril_2024           Tarragona              1747029              531797   \n",
       "109  Abril_2024            Valencia               298325              171680   \n",
       "110  Abril_2024                Vigo                 3000               27501   \n",
       "111  Abril_2024          Vilagarcía                48921               41318   \n",
       "\n",
       "     Mercancía General t  Mercancia General Contenedores t   Pesca t  \\\n",
       "107               153247                             90326     0.000   \n",
       "108               167157                             11144   237.686   \n",
       "109              6471158                           5005110   161.132   \n",
       "110               446454                            262676  2754.865   \n",
       "111                62787                             27852     0.000   \n",
       "\n",
       "     Avituallamiento t  Avituallamiento De Combustibles Líquidos t  \\\n",
       "107               4105                                        1338   \n",
       "108              10794                                        4720   \n",
       "109              39503                                       33826   \n",
       "110               5371                                           0   \n",
       "111                657                                         223   \n",
       "\n",
       "     Tráfico Interior t  Mercancías En Tránsito t  \\\n",
       "107                   0                         0   \n",
       "108                   0                     65798   \n",
       "109                   0                   2901186   \n",
       "110                   0                     51997   \n",
       "111                   0                      1259   \n",
       "\n",
       "     Mercancías En Tránsito En Contenedores t  Tráfico Ro-Ro t  UTIS Ro-Ro  \\\n",
       "107                                         0            13927         768   \n",
       "108                                         0            25348           0   \n",
       "109                                   2844404          1244068       45653   \n",
       "110                                     43395           127983        1998   \n",
       "111                                      1259                0           0   \n",
       "\n",
       "     TEUS Contenedores  TEUS Contenedores En Tránsito  \\\n",
       "107           12104.50                            0.0   \n",
       "108            1039.00                            0.0   \n",
       "109          463499.00                       227997.0   \n",
       "110           28621.00                         4360.0   \n",
       "111            3366.25                          128.0   \n",
       "\n",
       "     TEUS Contenedores Entrada-Salida Nacional  \\\n",
       "107                                    11784.5   \n",
       "108                                        0.0   \n",
       "109                                    22457.0   \n",
       "110                                      986.0   \n",
       "111                                     1971.5   \n",
       "\n",
       "     TEUS Contenedores Entrada-Salida Exterior  Unidades Buques Mercantes  \\\n",
       "107                                     320.00                         93   \n",
       "108                                    1039.00                        194   \n",
       "109                                  213045.00                        656   \n",
       "110                                   23275.00                        157   \n",
       "111                                    1266.75                         33   \n",
       "\n",
       "     G.T. Buques Mercantes  Unidades Buques De Crucero  \\\n",
       "107                 595179                          11   \n",
       "108                3846320                          10   \n",
       "109               26574881                          38   \n",
       "110                4005657                          10   \n",
       "111                 288563                           0   \n",
       "\n",
       "     Pasajeros En Régimen De Transporte Y De Crucero  \\\n",
       "107                                             3155   \n",
       "108                                            11164   \n",
       "109                                           130599   \n",
       "110                                            12564   \n",
       "111                                                0   \n",
       "\n",
       "     Pasajeros En Régimen De Transporte  Pasajeros De Crucero  \\\n",
       "107                                   0                  3155   \n",
       "108                                   0                 11164   \n",
       "109                               65781                 64818   \n",
       "110                                   0                 12564   \n",
       "111                                   0                     0   \n",
       "\n",
       "     Automóviles En Régimen De Pasaje  Automóviles En Régimen De Mercancía  \n",
       "107                                 0                                  417  \n",
       "108                                 0                                17204  \n",
       "109                             16622                                60482  \n",
       "110                                 0                                49842  \n",
       "111                                 0                                  171  "
      ]
     },
     "execution_count": 139,
     "metadata": {},
     "output_type": "execute_result"
    }
   ],
   "source": [
    "df_listo.tail()"
   ]
  },
  {
   "cell_type": "code",
   "execution_count": 140,
   "metadata": {},
   "outputs": [
    {
     "data": {
      "text/plain": [
       "(112, 26)"
      ]
     },
     "execution_count": 140,
     "metadata": {},
     "output_type": "execute_result"
    }
   ],
   "source": [
    "df_listo.shape"
   ]
  },
  {
   "cell_type": "code",
   "execution_count": 141,
   "metadata": {},
   "outputs": [],
   "source": [
    "# Guardar una copia en csv\n",
    "df_listo.to_csv('carga_2024/data_cargo_2024.csv', encoding='utf-8', sep=';')"
   ]
  },
  {
   "cell_type": "code",
   "execution_count": null,
   "metadata": {},
   "outputs": [],
   "source": []
  },
  {
   "cell_type": "code",
   "execution_count": 142,
   "metadata": {},
   "outputs": [],
   "source": [
    "import openpyxl\n",
    "df_listo.to_excel('carga_2024/data_cargo_2024.xlsx')"
   ]
  }
 ],
 "metadata": {
  "kernelspec": {
   "display_name": "Python 3",
   "language": "python",
   "name": "python3"
  },
  "language_info": {
   "codemirror_mode": {
    "name": "ipython",
    "version": 3
   },
   "file_extension": ".py",
   "mimetype": "text/x-python",
   "name": "python",
   "nbconvert_exporter": "python",
   "pygments_lexer": "ipython3",
   "version": "3.11.4"
  }
 },
 "nbformat": 4,
 "nbformat_minor": 2
}
